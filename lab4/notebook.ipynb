{
  "cells": [
    {
      "cell_type": "markdown",
      "metadata": {
        "id": "oF30bzsho1x3"
      },
      "source": [
        "# Metody probabilistyczne"
      ]
    },
    {
      "cell_type": "code",
      "execution_count": 1,
      "metadata": {
        "id": "YeLHiO5Wo1x5"
      },
      "outputs": [],
      "source": [
        "import matplotlib.pyplot as plt\n",
        "import numpy as np\n",
        "import pandas as pd"
      ]
    },
    {
      "cell_type": "markdown",
      "metadata": {
        "id": "QV-cL3xRo1x5"
      },
      "source": [
        "## Ryzyko kredytowe"
      ]
    },
    {
      "cell_type": "markdown",
      "metadata": {
        "id": "4TiBkd4ko1x6"
      },
      "source": [
        "Każda instytucja udzielająca kredytu musi szacować zdolność kredytową i prawdopodobieństwo, czy dana osoba spłaci kredyt. W praktyce większość osób płaci prawidłowo, więc zamiast tego przewiduje się prawdopodobieństwo, że ktoś będzie miał opóźnienia w płatności w określonym czasie, tzw. **probability of default**. Jak sama nazwa wskazuje, nie jest to klasyfikacja binarna, tylko faktyczne prawdopodobieństwo, wykorzystywane przy ocenie ryzyka.\n",
        "\n",
        "Wykorzystamy zbiór z konkursu [Give Me Some Credit](https://www.kaggle.com/c/GiveMeSomeCredit/overview). Jego zmienne to ([źródło](https://www.listendata.com/2019/08/datasets-for-credit-risk-modeling.html)):\n",
        "- `SeriousDlqin2yrs` - brak spłaty raty kredytu przez 90 dni lub dłużej w ciągu ostatnich 2 lat; są to nasze klasy `y`\n",
        "- `RevolvingUtilizationOfUnsecuredLines` - aktualne zapożyczenie na kartach kredytowych i pożyczkach w stosunku do maksymalnego możliwego zapożyczenia\n",
        "- `age` - wiek w latach\n",
        "- `DebtRatio` - aktualne całkowite zapożyczenie względem miesięcznego dochodu\n",
        "- `MonthlyIncome` - miesięczne dochody\n",
        "- `NumberOfOpenCreditLinesAndLoans` - liczba aktualnych pożyczek i kart kredytowych\n",
        "- `NumberOfTimes90DaysLate` - ile razy w przeszłości wystąpiło opóźnienie 90 dni lub dłużej w spłacie raty kredytu\n",
        "- `NumberRealEstateLoansOrLines` - liczba pożyczek z nieruchomością jako zabezpieczeniem\n",
        "- `NumberOfDependents` - liczba pozostałych osób w gospodarstwie domowym\n",
        "- `NumberOfTime30-59DaysPastDueNotWorse` - ile razy w ciągu ostatnich 2 lat nastąpiło opóźnienie w spłacie raty między 30 a 59 dni\n",
        "- `NumberOfTime60-89DaysPastDueNotWorse` - jak wyżej, ale 60-89 dni\n",
        "\n",
        "Ze względu na potrzebę precyzyjnych prawdopodobieństw oraz rozmiar danych (banki mają ogromną liczbę klientów), regresja logistyczna to idealny wybór dla tego zadania. Metryką w takich przypadkach jest AUROC (Area Under Receiver Operating Characteristic curve), bo bierze ona pod uwagę prawdopodobieństwo klasy pozytywnej.\n",
        "\n",
        "Na początek wczytamy i przeanalizujemy wstępnie nasze dane. Jako zbiór testowy wykorzystamy 20% danych. Jako że mamy do czynienia z klasyfikacją niezbalansowaną, to wykorzystamy **podział ze stratyfikacją (stratified split)**, w którym proporcje klasy pozytywnej i negatywnej zostają zachowane w zbiorze treningowym i testowym."
      ]
    },
    {
      "cell_type": "code",
      "execution_count": null,
      "metadata": {
        "colab": {
          "base_uri": "https://localhost:8080/",
          "height": 472
        },
        "id": "B9CYrOfMo1x6",
        "outputId": "17c2144c-a811-48cd-a2a1-b0c2e90dfb70"
      },
      "outputs": [
        {
          "output_type": "display_data",
          "data": {
            "text/plain": [
              "<Figure size 640x480 with 1 Axes>"
            ],
            "image/png": "[encoded data removed]"
          },
          "metadata": {}
        }
      ],
      "source": [
        "from sklearn.model_selection import train_test_split\n",
        "\n",
        "\n",
        "df = pd.read_parquet(\"sample_data/give_me_some_credit_data.parquet\")\n",
        "y = df.pop(\"SeriousDlqin2yrs\")\n",
        "X = df\n",
        "\n",
        "y.value_counts(normalize=True).plot.bar(\n",
        "    title=\"Class distribution\",\n",
        "    rot=0,\n",
        "    xlabel=\"Class (defaulted or not)\",\n",
        "    ylabel=\"Class percentage\",\n",
        ")\n",
        "\n",
        "X_train, X_test, y_train, y_test = train_test_split(\n",
        "    X, y, test_size=0.2, stratify=y, random_state=0\n",
        ")"
      ]
    },
    {
      "cell_type": "markdown",
      "metadata": {
        "id": "kUYfR93io1x6"
      },
      "source": [
        "Jako że naszych zmiennych nie jest zbyt wiele, możemy łatwo zweryfikować statystyki naszych danych z pomocą metod `.info()` oraz `.describe()`:"
      ]
    },
    {
      "cell_type": "code",
      "execution_count": null,
      "metadata": {
        "colab": {
          "base_uri": "https://localhost:8080/"
        },
        "id": "L4hgVZbxo1x6",
        "outputId": "bd3afce9-8ff8-4436-c85d-d5241b7da9cd"
      },
      "outputs": [
        {
          "output_type": "stream",
          "name": "stdout",
          "text": [
            "<class 'pandas.core.frame.DataFrame'>\n",
            "RangeIndex: 150000 entries, 0 to 149999\n",
            "Data columns (total 10 columns):\n",
            " #   Column                                Non-Null Count   Dtype  \n",
            "---  ------                                --------------   -----  \n",
            " 0   RevolvingUtilizationOfUnsecuredLines  150000 non-null  float64\n",
            " 1   age                                   150000 non-null  int64  \n",
            " 2   NumberOfTime30-59DaysPastDueNotWorse  150000 non-null  int64  \n",
            " 3   DebtRatio                             150000 non-null  float64\n",
            " 4   MonthlyIncome                         120269 non-null  float64\n",
            " 5   NumberOfOpenCreditLinesAndLoans       150000 non-null  int64  \n",
            " 6   NumberOfTimes90DaysLate               150000 non-null  int64  \n",
            " 7   NumberRealEstateLoansOrLines          150000 non-null  int64  \n",
            " 8   NumberOfTime60-89DaysPastDueNotWorse  150000 non-null  int64  \n",
            " 9   NumberOfDependents                    146076 non-null  float64\n",
            "dtypes: float64(4), int64(6)\n",
            "memory usage: 11.4 MB\n"
          ]
        }
      ],
      "source": [
        "df.info()"
      ]
    },
    {
      "cell_type": "markdown",
      "metadata": {
        "id": "f43hKUmDo1x6"
      },
      "source": [
        "Mamy wartości brakujące w `MonthlyIncome` oraz `NumberOfDependents`. Tutaj z ekonomii wiadomo, że imputacja medianą będzie bardzo dobrym wyborem."
      ]
    },
    {
      "cell_type": "code",
      "execution_count": null,
      "metadata": {
        "colab": {
          "base_uri": "https://localhost:8080/",
          "height": 337
        },
        "id": "Sgm4kHo8o1x7",
        "outputId": "da1d0fd7-b6da-47b5-8395-602fc393b9ac"
      },
      "outputs": [
        {
          "output_type": "execute_result",
          "data": {
            "text/plain": [
              "       RevolvingUtilizationOfUnsecuredLines            age  \\\n",
              "count                         150000.000000  150000.000000   \n",
              "mean                               6.048438      52.295207   \n",
              "std                              249.755371      14.771866   \n",
              "min                                0.000000       0.000000   \n",
              "25%                                0.029867      41.000000   \n",
              "50%                                0.154181      52.000000   \n",
              "75%                                0.559046      63.000000   \n",
              "max                            50708.000000     109.000000   \n",
              "\n",
              "       NumberOfTime30-59DaysPastDueNotWorse      DebtRatio  MonthlyIncome  \\\n",
              "count                         150000.000000  150000.000000   1.202690e+05   \n",
              "mean                               0.421033     353.005076   6.670221e+03   \n",
              "std                                4.192781    2037.818523   1.438467e+04   \n",
              "min                                0.000000       0.000000   0.000000e+00   \n",
              "25%                                0.000000       0.175074   3.400000e+03   \n",
              "50%                                0.000000       0.366508   5.400000e+03   \n",
              "75%                                0.000000       0.868254   8.249000e+03   \n",
              "max                               98.000000  329664.000000   3.008750e+06   \n",
              "\n",
              "       NumberOfOpenCreditLinesAndLoans  NumberOfTimes90DaysLate  \\\n",
              "count                    150000.000000            150000.000000   \n",
              "mean                          8.452760                 0.265973   \n",
              "std                           5.145951                 4.169304   \n",
              "min                           0.000000                 0.000000   \n",
              "25%                           5.000000                 0.000000   \n",
              "50%                           8.000000                 0.000000   \n",
              "75%                          11.000000                 0.000000   \n",
              "max                          58.000000                98.000000   \n",
              "\n",
              "       NumberRealEstateLoansOrLines  NumberOfTime60-89DaysPastDueNotWorse  \\\n",
              "count                 150000.000000                         150000.000000   \n",
              "mean                       1.018240                              0.240387   \n",
              "std                        1.129771                              4.155179   \n",
              "min                        0.000000                              0.000000   \n",
              "25%                        0.000000                              0.000000   \n",
              "50%                        1.000000                              0.000000   \n",
              "75%                        2.000000                              0.000000   \n",
              "max                       54.000000                             98.000000   \n",
              "\n",
              "       NumberOfDependents  \n",
              "count       146076.000000  \n",
              "mean             0.757222  \n",
              "std              1.115086  \n",
              "min              0.000000  \n",
              "25%              0.000000  \n",
              "50%              0.000000  \n",
              "75%              1.000000  \n",
              "max             20.000000  "
            ],
            "text/html": [
              "\n",
              "  <div id=\"df-45300559-8b57-4507-9da0-c4b5d42f75c0\" class=\"colab-df-container\">\n",
              "    <div>\n",
              "<style scoped>\n",
              "    .dataframe tbody tr th:only-of-type {\n",
              "        vertical-align: middle;\n",
              "    }\n",
              "\n",
              "    .dataframe tbody tr th {\n",
              "        vertical-align: top;\n",
              "    }\n",
              "\n",
              "    .dataframe thead th {\n",
              "        text-align: right;\n",
              "    }\n",
              "</style>\n",
              "<table border=\"1\" class=\"dataframe\">\n",
              "  <thead>\n",
              "    <tr style=\"text-align: right;\">\n",
              "      <th></th>\n",
              "      <th>RevolvingUtilizationOfUnsecuredLines</th>\n",
              "      <th>age</th>\n",
              "      <th>NumberOfTime30-59DaysPastDueNotWorse</th>\n",
              "      <th>DebtRatio</th>\n",
              "      <th>MonthlyIncome</th>\n",
              "      <th>NumberOfOpenCreditLinesAndLoans</th>\n",
              "      <th>NumberOfTimes90DaysLate</th>\n",
              "      <th>NumberRealEstateLoansOrLines</th>\n",
              "      <th>NumberOfTime60-89DaysPastDueNotWorse</th>\n",
              "      <th>NumberOfDependents</th>\n",
              "    </tr>\n",
              "  </thead>\n",
              "  <tbody>\n",
              "    <tr>\n",
              "      <th>count</th>\n",
              "      <td>150000.000000</td>\n",
              "      <td>150000.000000</td>\n",
              "      <td>150000.000000</td>\n",
              "      <td>150000.000000</td>\n",
              "      <td>1.202690e+05</td>\n",
              "      <td>150000.000000</td>\n",
              "      <td>150000.000000</td>\n",
              "      <td>150000.000000</td>\n",
              "      <td>150000.000000</td>\n",
              "      <td>146076.000000</td>\n",
              "    </tr>\n",
              "    <tr>\n",
              "      <th>mean</th>\n",
              "      <td>6.048438</td>\n",
              "      <td>52.295207</td>\n",
              "      <td>0.421033</td>\n",
              "      <td>353.005076</td>\n",
              "      <td>6.670221e+03</td>\n",
              "      <td>8.452760</td>\n",
              "      <td>0.265973</td>\n",
              "      <td>1.018240</td>\n",
              "      <td>0.240387</td>\n",
              "      <td>0.757222</td>\n",
              "    </tr>\n",
              "    <tr>\n",
              "      <th>std</th>\n",
              "      <td>249.755371</td>\n",
              "      <td>14.771866</td>\n",
              "      <td>4.192781</td>\n",
              "      <td>2037.818523</td>\n",
              "      <td>1.438467e+04</td>\n",
              "      <td>5.145951</td>\n",
              "      <td>4.169304</td>\n",
              "      <td>1.129771</td>\n",
              "      <td>4.155179</td>\n",
              "      <td>1.115086</td>\n",
              "    </tr>\n",
              "    <tr>\n",
              "      <th>min</th>\n",
              "      <td>0.000000</td>\n",
              "      <td>0.000000</td>\n",
              "      <td>0.000000</td>\n",
              "      <td>0.000000</td>\n",
              "      <td>0.000000e+00</td>\n",
              "      <td>0.000000</td>\n",
              "      <td>0.000000</td>\n",
              "      <td>0.000000</td>\n",
              "      <td>0.000000</td>\n",
              "      <td>0.000000</td>\n",
              "    </tr>\n",
              "    <tr>\n",
              "      <th>25%</th>\n",
              "      <td>0.029867</td>\n",
              "      <td>41.000000</td>\n",
              "      <td>0.000000</td>\n",
              "      <td>0.175074</td>\n",
              "      <td>3.400000e+03</td>\n",
              "      <td>5.000000</td>\n",
              "      <td>0.000000</td>\n",
              "      <td>0.000000</td>\n",
              "      <td>0.000000</td>\n",
              "      <td>0.000000</td>\n",
              "    </tr>\n",
              "    <tr>\n",
              "      <th>50%</th>\n",
              "      <td>0.154181</td>\n",
              "      <td>52.000000</td>\n",
              "      <td>0.000000</td>\n",
              "      <td>0.366508</td>\n",
              "      <td>5.400000e+03</td>\n",
              "      <td>8.000000</td>\n",
              "      <td>0.000000</td>\n",
              "      <td>1.000000</td>\n",
              "      <td>0.000000</td>\n",
              "      <td>0.000000</td>\n",
              "    </tr>\n",
              "    <tr>\n",
              "      <th>75%</th>\n",
              "      <td>0.559046</td>\n",
              "      <td>63.000000</td>\n",
              "      <td>0.000000</td>\n",
              "      <td>0.868254</td>\n",
              "      <td>8.249000e+03</td>\n",
              "      <td>11.000000</td>\n",
              "      <td>0.000000</td>\n",
              "      <td>2.000000</td>\n",
              "      <td>0.000000</td>\n",
              "      <td>1.000000</td>\n",
              "    </tr>\n",
              "    <tr>\n",
              "      <th>max</th>\n",
              "      <td>50708.000000</td>\n",
              "      <td>109.000000</td>\n",
              "      <td>98.000000</td>\n",
              "      <td>329664.000000</td>\n",
              "      <td>3.008750e+06</td>\n",
              "      <td>58.000000</td>\n",
              "      <td>98.000000</td>\n",
              "      <td>54.000000</td>\n",
              "      <td>98.000000</td>\n",
              "      <td>20.000000</td>\n",
              "    </tr>\n",
              "  </tbody>\n",
              "</table>\n",
              "</div>\n",
              "    <div class=\"colab-df-buttons\">\n",
              "\n",
              "  <div class=\"colab-df-container\">\n",
              "    <button class=\"colab-df-convert\" onclick=\"convertToInteractive('df-45300559-8b57-4507-9da0-c4b5d42f75c0')\"\n",
              "            title=\"Convert this dataframe to an interactive table.\"\n",
              "            style=\"display:none;\">\n",
              "\n",
              "  <svg xmlns=\"http://www.w3.org/2000/svg\" height=\"24px\" viewBox=\"0 -960 960 960\">\n",
              "    <path d=\"M120-120v-720h720v720H120Zm60-500h600v-160H180v160Zm220 220h160v-160H400v160Zm0 220h160v-160H400v160ZM180-400h160v-160H180v160Zm440 0h160v-160H620v160ZM180-180h160v-160H180v160Zm440 0h160v-160H620v160Z\"/>\n",
              "  </svg>\n",
              "    </button>\n",
              "\n",
              "  <style>\n",
              "    .colab-df-container {\n",
              "      display:flex;\n",
              "      gap: 12px;\n",
              "    }\n",
              "\n",
              "    .colab-df-convert {\n",
              "      background-color: #E8F0FE;\n",
              "      border: none;\n",
              "      border-radius: 50%;\n",
              "      cursor: pointer;\n",
              "      display: none;\n",
              "      fill: #1967D2;\n",
              "      height: 32px;\n",
              "      padding: 0 0 0 0;\n",
              "      width: 32px;\n",
              "    }\n",
              "\n",
              "    .colab-df-convert:hover {\n",
              "      background-color: #E2EBFA;\n",
              "      box-shadow: 0px 1px 2px rgba(60, 64, 67, 0.3), 0px 1px 3px 1px rgba(60, 64, 67, 0.15);\n",
              "      fill: #174EA6;\n",
              "    }\n",
              "\n",
              "    .colab-df-buttons div {\n",
              "      margin-bottom: 4px;\n",
              "    }\n",
              "\n",
              "    [theme=dark] .colab-df-convert {\n",
              "      background-color: #3B4455;\n",
              "      fill: #D2E3FC;\n",
              "    }\n",
              "\n",
              "    [theme=dark] .colab-df-convert:hover {\n",
              "      background-color: #434B5C;\n",
              "      box-shadow: 0px 1px 3px 1px rgba(0, 0, 0, 0.15);\n",
              "      filter: drop-shadow(0px 1px 2px rgba(0, 0, 0, 0.3));\n",
              "      fill: #FFFFFF;\n",
              "    }\n",
              "  </style>\n",
              "\n",
              "    <script>\n",
              "      const buttonEl =\n",
              "        document.querySelector('#df-45300559-8b57-4507-9da0-c4b5d42f75c0 button.colab-df-convert');\n",
              "      buttonEl.style.display =\n",
              "        google.colab.kernel.accessAllowed ? 'block' : 'none';\n",
              "\n",
              "      async function convertToInteractive(key) {\n",
              "        const element = document.querySelector('#df-45300559-8b57-4507-9da0-c4b5d42f75c0');\n",
              "        const dataTable =\n",
              "          await google.colab.kernel.invokeFunction('convertToInteractive',\n",
              "                                                    [key], {});\n",
              "        if (!dataTable) return;\n",
              "\n",
              "        const docLinkHtml = 'Like what you see? Visit the ' +\n",
              "          '<a target=\"_blank\" href=https://colab.research.google.com/notebooks/data_table.ipynb>data table notebook</a>'\n",
              "          + ' to learn more about interactive tables.';\n",
              "        element.innerHTML = '';\n",
              "        dataTable['output_type'] = 'display_data';\n",
              "        await google.colab.output.renderOutput(dataTable, element);\n",
              "        const docLink = document.createElement('div');\n",
              "        docLink.innerHTML = docLinkHtml;\n",
              "        element.appendChild(docLink);\n",
              "      }\n",
              "    </script>\n",
              "  </div>\n",
              "\n",
              "\n",
              "    <div id=\"df-99815e34-f1fd-4be9-8c03-9def4ec8b310\">\n",
              "      <button class=\"colab-df-quickchart\" onclick=\"quickchart('df-99815e34-f1fd-4be9-8c03-9def4ec8b310')\"\n",
              "                title=\"Suggest charts\"\n",
              "                style=\"display:none;\">\n",
              "\n",
              "<svg xmlns=\"http://www.w3.org/2000/svg\" height=\"24px\"viewBox=\"0 0 24 24\"\n",
              "     width=\"24px\">\n",
              "    <g>\n",
              "        <path d=\"M19 3H5c-1.1 0-2 .9-2 2v14c0 1.1.9 2 2 2h14c1.1 0 2-.9 2-2V5c0-1.1-.9-2-2-2zM9 17H7v-7h2v7zm4 0h-2V7h2v10zm4 0h-2v-4h2v4z\"/>\n",
              "    </g>\n",
              "</svg>\n",
              "      </button>\n",
              "\n",
              "<style>\n",
              "  .colab-df-quickchart {\n",
              "      --bg-color: #E8F0FE;\n",
              "      --fill-color: #1967D2;\n",
              "      --hover-bg-color: #E2EBFA;\n",
              "      --hover-fill-color: #174EA6;\n",
              "      --disabled-fill-color: #AAA;\n",
              "      --disabled-bg-color: #DDD;\n",
              "  }\n",
              "\n",
              "  [theme=dark] .colab-df-quickchart {\n",
              "      --bg-color: #3B4455;\n",
              "      --fill-color: #D2E3FC;\n",
              "      --hover-bg-color: #434B5C;\n",
              "      --hover-fill-color: #FFFFFF;\n",
              "      --disabled-bg-color: #3B4455;\n",
              "      --disabled-fill-color: #666;\n",
              "  }\n",
              "\n",
              "  .colab-df-quickchart {\n",
              "    background-color: var(--bg-color);\n",
              "    border: none;\n",
              "    border-radius: 50%;\n",
              "    cursor: pointer;\n",
              "    display: none;\n",
              "    fill: var(--fill-color);\n",
              "    height: 32px;\n",
              "    padding: 0;\n",
              "    width: 32px;\n",
              "  }\n",
              "\n",
              "  .colab-df-quickchart:hover {\n",
              "    background-color: var(--hover-bg-color);\n",
              "    box-shadow: 0 1px 2px rgba(60, 64, 67, 0.3), 0 1px 3px 1px rgba(60, 64, 67, 0.15);\n",
              "    fill: var(--button-hover-fill-color);\n",
              "  }\n",
              "\n",
              "  .colab-df-quickchart-complete:disabled,\n",
              "  .colab-df-quickchart-complete:disabled:hover {\n",
              "    background-color: var(--disabled-bg-color);\n",
              "    fill: var(--disabled-fill-color);\n",
              "    box-shadow: none;\n",
              "  }\n",
              "\n",
              "  .colab-df-spinner {\n",
              "    border: 2px solid var(--fill-color);\n",
              "    border-color: transparent;\n",
              "    border-bottom-color: var(--fill-color);\n",
              "    animation:\n",
              "      spin 1s steps(1) infinite;\n",
              "  }\n",
              "\n",
              "  @keyframes spin {\n",
              "    0% {\n",
              "      border-color: transparent;\n",
              "      border-bottom-color: var(--fill-color);\n",
              "      border-left-color: var(--fill-color);\n",
              "    }\n",
              "    20% {\n",
              "      border-color: transparent;\n",
              "      border-left-color: var(--fill-color);\n",
              "      border-top-color: var(--fill-color);\n",
              "    }\n",
              "    30% {\n",
              "      border-color: transparent;\n",
              "      border-left-color: var(--fill-color);\n",
              "      border-top-color: var(--fill-color);\n",
              "      border-right-color: var(--fill-color);\n",
              "    }\n",
              "    40% {\n",
              "      border-color: transparent;\n",
              "      border-right-color: var(--fill-color);\n",
              "      border-top-color: var(--fill-color);\n",
              "    }\n",
              "    60% {\n",
              "      border-color: transparent;\n",
              "      border-right-color: var(--fill-color);\n",
              "    }\n",
              "    80% {\n",
              "      border-color: transparent;\n",
              "      border-right-color: var(--fill-color);\n",
              "      border-bottom-color: var(--fill-color);\n",
              "    }\n",
              "    90% {\n",
              "      border-color: transparent;\n",
              "      border-bottom-color: var(--fill-color);\n",
              "    }\n",
              "  }\n",
              "</style>\n",
              "\n",
              "      <script>\n",
              "        async function quickchart(key) {\n",
              "          const quickchartButtonEl =\n",
              "            document.querySelector('#' + key + ' button');\n",
              "          quickchartButtonEl.disabled = true;  // To prevent multiple clicks.\n",
              "          quickchartButtonEl.classList.add('colab-df-spinner');\n",
              "          try {\n",
              "            const charts = await google.colab.kernel.invokeFunction(\n",
              "                'suggestCharts', [key], {});\n",
              "          } catch (error) {\n",
              "            console.error('Error during call to suggestCharts:', error);\n",
              "          }\n",
              "          quickchartButtonEl.classList.remove('colab-df-spinner');\n",
              "          quickchartButtonEl.classList.add('colab-df-quickchart-complete');\n",
              "        }\n",
              "        (() => {\n",
              "          let quickchartButtonEl =\n",
              "            document.querySelector('#df-99815e34-f1fd-4be9-8c03-9def4ec8b310 button');\n",
              "          quickchartButtonEl.style.display =\n",
              "            google.colab.kernel.accessAllowed ? 'block' : 'none';\n",
              "        })();\n",
              "      </script>\n",
              "    </div>\n",
              "\n",
              "    </div>\n",
              "  </div>\n"
            ],
            "application/vnd.google.colaboratory.intrinsic+json": {
              "type": "dataframe",
              "summary": "{\n  \"name\": \"df\",\n  \"rows\": 8,\n  \"fields\": [\n    {\n      \"column\": \"RevolvingUtilizationOfUnsecuredLines\",\n      \"properties\": {\n        \"dtype\": \"number\",\n        \"std\": 53483.00135780071,\n        \"min\": 0.0,\n        \"max\": 150000.0,\n        \"num_unique_values\": 8,\n        \"samples\": [\n          6.048438054666888,\n          0.154180737,\n          150000.0\n        ],\n        \"semantic_type\": \"\",\n        \"description\": \"\"\n      }\n    },\n    {\n      \"column\": \"age\",\n      \"properties\": {\n        \"dtype\": \"number\",\n        \"std\": 53016.246686691935,\n        \"min\": 0.0,\n        \"max\": 150000.0,\n        \"num_unique_values\": 8,\n        \"samples\": [\n          52.295206666666665,\n          52.0,\n          150000.0\n        ],\n        \"semantic_type\": \"\",\n        \"description\": \"\"\n      }\n    },\n    {\n      \"column\": \"NumberOfTime30-59DaysPastDueNotWorse\",\n      \"properties\": {\n        \"dtype\": \"number\",\n        \"std\": 53027.83674301857,\n        \"min\": 0.0,\n        \"max\": 150000.0,\n        \"num_unique_values\": 5,\n        \"samples\": [\n          0.4210333333333333,\n          98.0,\n          4.192781272017265\n        ],\n        \"semantic_type\": \"\",\n        \"description\": \"\"\n      }\n    },\n    {\n      \"column\": \"DebtRatio\",\n      \"properties\": {\n        \"dtype\": \"number\",\n        \"std\": 120792.23821428795,\n        \"min\": 0.0,\n        \"max\": 329664.0,\n        \"num_unique_values\": 8,\n        \"samples\": [\n          353.00507576386985,\n          0.366507841,\n          150000.0\n        ],\n        \"semantic_type\": \"\",\n        \"description\": \"\"\n      }\n    },\n    {\n      \"column\": \"MonthlyIncome\",\n      \"properties\": {\n        \"dtype\": \"number\",\n        \"std\": 1056515.0220149714,\n        \"min\": 0.0,\n        \"max\": 3008750.0,\n        \"num_unique_values\": 8,\n        \"samples\": [\n          6670.221237392844,\n          5400.0,\n          120269.0\n        ],\n        \"semantic_type\": \"\",\n        \"description\": \"\"\n      }\n    },\n    {\n      \"column\": \"NumberOfOpenCreditLinesAndLoans\",\n      \"properties\": {\n        \"dtype\": \"number\",\n        \"std\": 53028.183312378686,\n        \"min\": 0.0,\n        \"max\": 150000.0,\n        \"num_unique_values\": 8,\n        \"samples\": [\n          8.45276,\n          8.0,\n          150000.0\n        ],\n        \"semantic_type\": \"\",\n        \"description\": \"\"\n      }\n    },\n    {\n      \"column\": \"NumberOfTimes90DaysLate\",\n      \"properties\": {\n        \"dtype\": \"number\",\n        \"std\": 53027.845767158105,\n        \"min\": 0.0,\n        \"max\": 150000.0,\n        \"num_unique_values\": 5,\n        \"samples\": [\n          0.26597333333333334,\n          98.0,\n          4.1693037875989925\n        ],\n        \"semantic_type\": \"\",\n        \"description\": \"\"\n      }\n    },\n    {\n      \"column\": \"NumberRealEstateLoansOrLines\",\n      \"properties\": {\n        \"dtype\": \"number\",\n        \"std\": 53030.02442766383,\n        \"min\": 0.0,\n        \"max\": 150000.0,\n        \"num_unique_values\": 7,\n        \"samples\": [\n          150000.0,\n          1.01824,\n          2.0\n        ],\n        \"semantic_type\": \"\",\n        \"description\": \"\"\n      }\n    },\n    {\n      \"column\": \"NumberOfTime60-89DaysPastDueNotWorse\",\n      \"properties\": {\n        \"dtype\": \"number\",\n        \"std\": 53027.84777425715,\n        \"min\": 0.0,\n        \"max\": 150000.0,\n        \"num_unique_values\": 5,\n        \"samples\": [\n          0.24038666666666667,\n          98.0,\n          4.155179420982588\n        ],\n        \"semantic_type\": \"\",\n        \"description\": \"\"\n      }\n    },\n    {\n      \"column\": \"NumberOfDependents\",\n      \"properties\": {\n        \"dtype\": \"number\",\n        \"std\": 51644.510312044025,\n        \"min\": 0.0,\n        \"max\": 146076.0,\n        \"num_unique_values\": 6,\n        \"samples\": [\n          146076.0,\n          0.7572222678605657,\n          20.0\n        ],\n        \"semantic_type\": \"\",\n        \"description\": \"\"\n      }\n    }\n  ]\n}"
            }
          },
          "metadata": {},
          "execution_count": 6
        }
      ],
      "source": [
        "df.describe()"
      ]
    },
    {
      "cell_type": "markdown",
      "metadata": {
        "id": "blQEOD7io1x7"
      },
      "source": [
        "W takiej tabeli warto patrzeć na średnią, odchylenie standardowe i maksimum dla każdej cechy. Mamy tutaj ewidentne outliery! Przykładowo, dla `DebtRatio`:\n",
        "- średnio 353\n",
        "- odchylenie standardowe 2037\n",
        "- maksimum >300 tysięcy\n",
        "\n",
        "Trzeba to będzie naprawić. Dodatkowo, nawet abstrahując od tych outlierów, patrząc na statystyki można podejrzewać dość mocno skrzywione rozkłady (co jest dość normalne w ekonomii). W takich sytuacjach lepiej używać tzw. robust statistics, na przykład mediany zamiast średniej, czy też IQR zamiast odchyleń standardowych."
      ]
    },
    {
      "cell_type": "markdown",
      "metadata": {
        "id": "8LUheZW3o1x7"
      },
      "source": [
        "**Zadanie 1 (1.5 punktu)**\n",
        "\n",
        "1. Dokonaj imputacji danych medianą (`SimpleImputer`) oraz standaryzacji (`StandardScaler`).\n",
        "2. Wytrenuj regresję logistyczną z domyślnymi hiperparametrami (`LogisticRegression`). Pamiętaj o `n_jobs=-1` (mamy dużo danych) i ustawieniu `random_state=0`. Zmierz AUROC na zbiorze testowym.\n",
        "3. Dodaj usuwanie outlierów pomiędzy imputacją a standaryzacją. Skorzystaj z biblioteki feature-engine oraz klasy `OutlierTrimmer` (domyślne parametry). Wytrenuj na nowo model i porówaj wyniki.\n",
        "4. Dodaj `Winsorizer` pomiędzy usuwaniem outlierów a standaryzacją, który przytnie wartości zmiennych do zakresu między średnią a 3 odchyleniami standardowymi z góry (po usunięciu outlierów powinny mieć sensowne wartości). Ponownie wytrenuj i przetestuj model.\n",
        "\n",
        "W punkcie 3 filtrujemy także wiersze ze zbioru testowego. Niektórzy uznaliby to za niedopuszczalne, ale warto zwrócić uwagę, że usuwamy tutaj outliery uznawane za błędy, więc z drugiej strony testowanie na nich też daje błędny obraz sytuacji. Można więc to uznać za dopuszczalne, jeżeli dobrze wiemy, co robimy, i estymujemy parametry do usuwania tylko na zbiorze treningowym.\n",
        "\n",
        "Przyda się używać innych nazw zmiennych niż `X_train` i `X_test`, żeby nie nadpisać sobie danych w kolejnych krokach.\n",
        "\n",
        "**Uwaga:** upewnij się, że prawidłowo liczysz AUROC, przekazując do niego prawdopodobieństwa klasy pozytywnej!"
      ]
    },
    {
      "cell_type": "code",
      "execution_count": null,
      "metadata": {
        "scrolled": true,
        "colab": {
          "base_uri": "https://localhost:8080/"
        },
        "id": "ksZepg-0o1x7",
        "outputId": "9f5c8ecc-6b5a-42fc-c162-35b929a9f850"
      },
      "outputs": [
        {
          "output_type": "stream",
          "name": "stdout",
          "text": [
            "Collecting feature-engine\n",
            "  Downloading feature_engine-1.8.3-py2.py3-none-any.whl.metadata (9.9 kB)\n",
            "Requirement already satisfied: numpy>=1.18.2 in /usr/local/lib/python3.11/dist-packages (from feature-engine) (2.0.2)\n",
            "Requirement already satisfied: pandas>=2.2.0 in /usr/local/lib/python3.11/dist-packages (from feature-engine) (2.2.2)\n",
            "Requirement already satisfied: scikit-learn>=1.4.0 in /usr/local/lib/python3.11/dist-packages (from feature-engine) (1.6.1)\n",
            "Requirement already satisfied: scipy>=1.4.1 in /usr/local/lib/python3.11/dist-packages (from feature-engine) (1.15.3)\n",
            "Requirement already satisfied: statsmodels>=0.11.1 in /usr/local/lib/python3.11/dist-packages (from feature-engine) (0.14.4)\n",
            "Requirement already satisfied: python-dateutil>=2.8.2 in /usr/local/lib/python3.11/dist-packages (from pandas>=2.2.0->feature-engine) (2.9.0.post0)\n",
            "Requirement already satisfied: pytz>=2020.1 in /usr/local/lib/python3.11/dist-packages (from pandas>=2.2.0->feature-engine) (2025.2)\n",
            "Requirement already satisfied: tzdata>=2022.7 in /usr/local/lib/python3.11/dist-packages (from pandas>=2.2.0->feature-engine) (2025.2)\n",
            "Requirement already satisfied: joblib>=1.2.0 in /usr/local/lib/python3.11/dist-packages (from scikit-learn>=1.4.0->feature-engine) (1.5.0)\n",
            "Requirement already satisfied: threadpoolctl>=3.1.0 in /usr/local/lib/python3.11/dist-packages (from scikit-learn>=1.4.0->feature-engine) (3.6.0)\n",
            "Requirement already satisfied: patsy>=0.5.6 in /usr/local/lib/python3.11/dist-packages (from statsmodels>=0.11.1->feature-engine) (1.0.1)\n",
            "Requirement already satisfied: packaging>=21.3 in /usr/local/lib/python3.11/dist-packages (from statsmodels>=0.11.1->feature-engine) (24.2)\n",
            "Requirement already satisfied: six>=1.5 in /usr/local/lib/python3.11/dist-packages (from python-dateutil>=2.8.2->pandas>=2.2.0->feature-engine) (1.17.0)\n",
            "Downloading feature_engine-1.8.3-py2.py3-none-any.whl (378 kB)\n",
            "\u001b[2K   \u001b[90m━━━━━━━━━━━━━━━━━━━━━━━━━━━━━━━━━━━━━━━━\u001b[0m \u001b[32m378.6/378.6 kB\u001b[0m \u001b[31m5.4 MB/s\u001b[0m eta \u001b[36m0:00:00\u001b[0m\n",
            "\u001b[?25hInstalling collected packages: feature-engine\n",
            "Successfully installed feature-engine-1.8.3\n"
          ]
        }
      ],
      "source": [
        "!pip install feature-engine"
      ]
    },
    {
      "cell_type": "code",
      "source": [
        "import pandas as pd\n",
        "from sklearn.impute import SimpleImputer\n",
        "from sklearn.preprocessing import StandardScaler\n",
        "from sklearn.linear_model import LogisticRegression\n",
        "from sklearn.model_selection import train_test_split\n",
        "from sklearn.metrics import roc_auc_score\n",
        "from feature_engine.outliers import OutlierTrimmer, Winsorizer\n",
        "\n",
        "df = pd.read_parquet(\"sample_data/give_me_some_credit_data.parquet\")\n",
        "y = df.pop(\"SeriousDlqin2yrs\")\n",
        "X = df\n",
        "\n",
        "X_train, X_test, y_train, y_test = train_test_split(\n",
        "    X, y, test_size=0.2, stratify=y, random_state=0\n",
        ")\n",
        "\n",
        "imputer = SimpleImputer(strategy=\"median\")\n",
        "X_train_imputed = pd.DataFrame(imputer.fit_transform(X_train), columns=X_train.columns, index=X_train.index)\n",
        "X_test_imputed = pd.DataFrame(imputer.transform(X_test), columns=X_test.columns, index=X_test.index)\n",
        "\n",
        "scaler = StandardScaler()\n",
        "X_train_scaled = pd.DataFrame(scaler.fit_transform(X_train_imputed), columns=X_train.columns)\n",
        "X_test_scaled = pd.DataFrame(scaler.transform(X_test_imputed), columns=X_test.columns)\n",
        "\n",
        "model1 = LogisticRegression(n_jobs=-1, random_state=0)\n",
        "model1.fit(X_train_scaled, y_train)\n",
        "y_pred_proba1 = model1.predict_proba(X_test_scaled)[:, 1]\n",
        "auroc1 = roc_auc_score(y_test, y_pred_proba1)\n",
        "print(\"AUROC bez usuwania outlierów:\", round(auroc1, 4))\n",
        "\n",
        "trimmer = OutlierTrimmer()\n",
        "X_train_trimmed = trimmer.fit_transform(X_train_imputed)\n",
        "X_test_trimmed = trimmer.transform(X_test_imputed)\n",
        "\n",
        "y_train_trimmed = y_train.loc[X_train_trimmed.index]\n",
        "y_test_trimmed = y_test.loc[X_test_trimmed.index]\n",
        "\n",
        "X_train_trimmed_scaled = pd.DataFrame(scaler.fit_transform(X_train_trimmed), columns=X_train.columns, index=X_train_trimmed.index)\n",
        "X_test_trimmed_scaled = pd.DataFrame(scaler.transform(X_test_trimmed), columns=X_test.columns, index=X_test_trimmed.index)\n",
        "\n",
        "model2 = LogisticRegression(n_jobs=-1, random_state=0)\n",
        "model2.fit(X_train_trimmed_scaled, y_train_trimmed)\n",
        "y_pred_proba2 = model2.predict_proba(X_test_trimmed_scaled)[:, 1]\n",
        "auroc2 = roc_auc_score(y_test_trimmed, y_pred_proba2)\n",
        "print(\"AUROC po usunięciu outlierów:\", round(auroc2, 4))\n",
        "\n",
        "winsorizer = Winsorizer(capping_method='gaussian', tail='right', fold=3)\n",
        "X_train_winsorized = winsorizer.fit_transform(X_train_trimmed)\n",
        "X_test_winsorized = winsorizer.transform(X_test_trimmed)\n",
        "\n",
        "X_train_winsorized_scaled = pd.DataFrame(scaler.fit_transform(X_train_winsorized), columns=X_train.columns, index=X_train_winsorized.index)\n",
        "X_test_winsorized_scaled = pd.DataFrame(scaler.transform(X_test_winsorized), columns=X_test.columns, index=X_test_winsorized.index)\n",
        "\n",
        "model3 = LogisticRegression(n_jobs=-1, random_state=0)\n",
        "model3.fit(X_train_winsorized_scaled, y_train_trimmed)\n",
        "y_pred_proba3 = model3.predict_proba(X_test_winsorized_scaled)[:, 1]\n",
        "auroc3 = roc_auc_score(y_test_trimmed, y_pred_proba3)\n",
        "print(\"AUROC po winsoryzacji:\", round(auroc3, 4))\n"
      ],
      "metadata": {
        "colab": {
          "base_uri": "https://localhost:8080/"
        },
        "id": "4m2ZpwVEtqzJ",
        "outputId": "5dc483b4-31bc-4251-8214-01ca0fdcb3f8"
      },
      "execution_count": null,
      "outputs": [
        {
          "output_type": "stream",
          "name": "stdout",
          "text": [
            "AUROC bez usuwania outlierów: 0.706\n",
            "AUROC po usunięciu outlierów: 0.8273\n",
            "AUROC po winsoryzacji: 0.8541\n"
          ]
        }
      ]
    },
    {
      "cell_type": "markdown",
      "metadata": {
        "id": "WJz8VYo4o1x7"
      },
      "source": [
        "Teraz mamy faktycznie czysty zbiór danych i wytrenowane pierwsze modele. Warto zwrócić jednak uwagę na dwa fakty:\n",
        "1. Nie dokonaliśmy żadnego tuningu siły regularyzacji, na którą regresja logistyczna jest czuła\n",
        "2. Mamy mocno niezbalansowane klasy, a uwzględniamy je z taką samą wagą"
      ]
    },
    {
      "cell_type": "markdown",
      "metadata": {
        "id": "Ucy7TobDo1x7"
      },
      "source": [
        "**Zadanie 2 (1 punkt)**\n",
        "\n",
        "1. Dokonaj tuningu siły regularyzacji:\n",
        "   - sprawdź 100 wartości `C` (odwrotność siły regularyzacji, jak w SVM)\n",
        "   - wykorzystaj `LogisticRegressionCV`\n",
        "   - wybierz model o najlepszej wartości AUROC (`scoring`)\n",
        "   - pamiętaj o `random_state=0`\n",
        "   - sprawdź wynik modelu na zbiorze testowym\n",
        "2. Dodaj zbalansowane wagi klas (`class_weight`), z tuningiem siły regularyzacji jak wyżej. Przetestuj model.\n",
        "3. Dla porównania, wytrenuj las losowy (`RandomForestClassifier`) z 500 drzewami i zbalansowanymi wagami klas, i sprawdź wyniki.\n",
        "4. Skomentuj wyniki:\n",
        "   - czy twoim zdaniem to ogólnie dobry wynik dla takiego problemu?\n",
        "   - czy warto było poświęcić czas na preprocessing danych?\n",
        "   - jak wypadła regresja logistyczna w porównaniu do lasu losowego? Czy jest do dla ciebie oczekiwany, czy zaskakujący wynik?"
      ]
    },
    {
      "cell_type": "code",
      "execution_count": null,
      "metadata": {
        "scrolled": true,
        "colab": {
          "base_uri": "https://localhost:8080/"
        },
        "id": "GoETyKBgo1x7",
        "outputId": "200bc557-7cb3-47a1-8638-c251e3442a2b"
      },
      "outputs": [
        {
          "output_type": "stream",
          "name": "stdout",
          "text": [
            "AUROC po tuningu C: 0.8541\n",
            "AUROC z wagami zbalansowanymi: 0.8647\n",
            "AUROC Random Forest: 0.8492\n"
          ]
        }
      ],
      "source": [
        "import numpy as np\n",
        "from sklearn.linear_model import LogisticRegressionCV\n",
        "from sklearn.ensemble import RandomForestClassifier\n",
        "\n",
        "param_grid = np.logspace(-4, 4, 100)\n",
        "\n",
        "model_cv = LogisticRegressionCV(\n",
        "    Cs=param_grid,\n",
        "    cv=5,\n",
        "    scoring='roc_auc',\n",
        "    random_state=0,\n",
        "    n_jobs=-1,\n",
        "    max_iter=1000\n",
        ")\n",
        "model_cv.fit(X_train_winsorized_scaled, y_train_trimmed)\n",
        "y_pred_proba_cv = model_cv.predict_proba(X_test_winsorized_scaled)[:, 1]\n",
        "auroc_cv = roc_auc_score(y_test_trimmed, y_pred_proba_cv)\n",
        "print(\"AUROC po tuningu C:\", round(auroc_cv, 4))\n",
        "\n",
        "model_balanced = LogisticRegressionCV(\n",
        "    Cs=param_grid,\n",
        "    cv=5,\n",
        "    scoring='roc_auc',\n",
        "    random_state=0,\n",
        "    n_jobs=-1,\n",
        "    max_iter=1000,\n",
        "    class_weight='balanced'\n",
        ")\n",
        "model_balanced.fit(X_train_winsorized_scaled, y_train_trimmed)\n",
        "y_pred_proba_bal = model_balanced.predict_proba(X_test_winsorized_scaled)[:, 1]\n",
        "auroc_bal = roc_auc_score(y_test_trimmed, y_pred_proba_bal)\n",
        "print(\"AUROC z wagami zbalansowanymi:\", round(auroc_bal, 4))\n",
        "\n",
        "rf = RandomForestClassifier(\n",
        "    n_estimators=500,\n",
        "    class_weight='balanced',\n",
        "    random_state=0,\n",
        "    n_jobs=-1\n",
        ")\n",
        "rf.fit(X_train_winsorized_scaled, y_train_trimmed)\n",
        "y_pred_proba_rf = rf.predict_proba(X_test_winsorized_scaled)[:, 1]\n",
        "auroc_rf = roc_auc_score(y_test_trimmed, y_pred_proba_rf)\n",
        "print(\"AUROC Random Forest:\", round(auroc_rf, 4))\n"
      ]
    },
    {
      "cell_type": "markdown",
      "metadata": {
        "id": "6mFFYGtgo1x7"
      },
      "source": [
        "// skomentuj tutaj\n",
        "Ponad 0.86 AUROC to dobry rezultat dla danych kredytowych. Warto było czyścić dane, bo poprawa była ogromna. Najlepiej wypadła regresja z wagami, nawet lepiej niż las losowy, co pokazuje, że prosty model z dobrym przygotowaniem danych może dać lepszy efekt niż bardziej złożone podejścia. Nie dziwi mnie to jakoś bardzo"
      ]
    },
    {
      "cell_type": "markdown",
      "metadata": {
        "id": "ZS-A7mC5o1x7"
      },
      "source": [
        "Sprawdźmy jeszcze, jak dobrze nam idzie z predykcjami prawdopodobieństwa. Regresja logistyczna jest z natury dobrze skalibrowana, ale nie ma takiej gwarancji na każdym zbiorze danych. W szczególności może mieć problemy na zbiorach niezbalansowanych, przez bardzo niewielką ilość klasy pozytywnej (a priori jest rzadka).\n",
        "\n",
        "Do rysowania krzywych kalibracji służy klasa `CalibrationDisplay`. W perfekcyjnym przypadku prawdopodobieństwa modelu rosną liniowo raz z \"pewnością\", że punkt należy do klasy pozytywnej. Dla zainteresowanych, [dokumentacja Scikit-learn](https://scikit-learn.org/stable/modules/calibration.html#calibration-curves) omawia te krzywe nieco dokładniej."
      ]
    },
    {
      "cell_type": "code",
      "execution_count": null,
      "metadata": {
        "colab": {
          "base_uri": "https://localhost:8080/",
          "height": 472
        },
        "id": "ReGp1s8Lo1x7",
        "outputId": "8108ab74-8378-4f1a-be14-27759d4d78ec"
      },
      "outputs": [
        {
          "output_type": "display_data",
          "data": {
            "text/plain": [
              "<Figure size 640x480 with 1 Axes>"
            ],
            "image/png": "[encoded data removed]"
          },
          "metadata": {}
        }
      ],
      "source": [
        "from sklearn.calibration import CalibrationDisplay\n",
        "\n",
        "clf = model_balanced\n",
        "\n",
        "CalibrationDisplay.from_estimator(clf,X_test_winsorized_scaled, y_test_trimmed,n_bins=10)\n",
        "\n",
        "plt.title(\"Krzywa kalibracji – regresja logistyczna z wagami\")\n",
        "plt.show()"
      ]
    },
    {
      "cell_type": "markdown",
      "metadata": {
        "id": "bUNh4_-co1x7"
      },
      "source": [
        "Krótko mówiąc, nie jest dobrze! Nasz model praktycznie zawsze bardzo mocno zaniża prawdopodobieństwo. W połączeniu z wysokim AUROC oznacza to, że w klasyfikacji generalnie nieźle sobie radzi, dla rosnącego prawdopodobieństwa dość szybko przypisuje punkt do klasy pozytywnej, ale finalne wartości prawdopodobieństw są notorycznie zbyt niskie.\n",
        "\n",
        "Do poprawienia tej sytuacji służy `CalibratedClassifierCV`, który na podstawie predykcji naszego modelu oraz zbioru treningowego dotrenowuje dodatkowy model do doprecyzowania prawdopodobieństw. Może być to albo regresja logistyczna, albo tzw. regresja izotoniczna ([isotonic regression](https://scikit-learn.org/stable/modules/isotonic.html#isotonic)) - specjalny model wykorzystujący fakt, że prawdopodobieństwa są stricte rosnące od 0 do 1.\n",
        "\n",
        "**Zadanie 3 (1 punkt)**\n",
        "\n",
        "Wytrenuj kalibrator prawdopodobieństwa z pomocą `CalibratedClassifierCV`. Wykorzystaj tryb regresji izotonicznej i 10-krotną walidację skrośną. Przekaż do niego wytrenowany estymator wykorzystany w poprzednim ćwiczeniu. Narysuj krzywą kalibracji na zbiorze testowym, jak w poprzednim przykładzie.\n",
        "\n",
        "Skomentuj, jak udało się poprawić kalibrację modelu. Czy twoim zdaniem taki model przewiduje już dość dobrze prawdopodobieństwa?"
      ]
    },
    {
      "cell_type": "code",
      "execution_count": null,
      "metadata": {
        "colab": {
          "base_uri": "https://localhost:8080/",
          "height": 472
        },
        "id": "yPZpFh-ao1x7",
        "outputId": "a379033b-c2bf-4f99-90b2-3beb100233ae"
      },
      "outputs": [
        {
          "output_type": "display_data",
          "data": {
            "text/plain": [
              "<Figure size 640x480 with 1 Axes>"
            ],
            "image/png": "[encoded data removed]"
          },
          "metadata": {}
        }
      ],
      "source": [
        "from sklearn.calibration import CalibratedClassifierCV, CalibrationDisplay\n",
        "\n",
        "calibrated_clf = CalibratedClassifierCV(\n",
        "    estimator=model_balanced,\n",
        "    method='isotonic',\n",
        "    cv=10\n",
        ")\n",
        "\n",
        "calibrated_clf.fit(X_train_winsorized_scaled, y_train_trimmed)\n",
        "\n",
        "CalibrationDisplay.from_estimator(\n",
        "    calibrated_clf,\n",
        "    X_test_winsorized_scaled,\n",
        "    y_test_trimmed,\n",
        "    n_bins=10\n",
        ")\n",
        "\n",
        "plt.title(\"Skalibrowana krzywa kalibracji – izotoniczna\")\n",
        "plt.show()"
      ]
    },
    {
      "cell_type": "markdown",
      "metadata": {
        "id": "NHgri2Jvo1x7"
      },
      "source": [
        "// skomentuj tutaj\n",
        "Model po kalibracji izotonicznej znacznie lepiej odwzorowuje rzeczywiste prawdopodobieństwa. Myśle że można mu ufać"
      ]
    },
    {
      "cell_type": "markdown",
      "metadata": {
        "id": "SxfDn-RLo1x8"
      },
      "source": [
        "## Detekcja spamu"
      ]
    },
    {
      "cell_type": "markdown",
      "metadata": {
        "id": "6PGi3Dqso1x8"
      },
      "source": [
        "Wykorzystamy teraz klasyfikator Naiwnego Bayesa do klasyfikacji binarnej tekstów - czy email jest spamem, czy też nie (tzw. \"ham\"). Takie zadanie nazywa się też spam/ham classification. Zbiorem będzie [Enron Spam dataset](http://nlp.cs.aueb.gr/software_and_datasets/Enron-Spam/index.html), zebrany na potrzeby artykułu:\n",
        "\n",
        "> Metsis, Vangelis, Ion Androutsopoulos, and Georgios Paliouras. *\"Spam filtering with Naive Bayes - which Naive Bayes?.\"* CEAS. Vol. 17. 2006. [link](https://userweb.cs.txstate.edu/~v_m137/docs/papers/ceas2006_paper_corrected.pdf)\n",
        "\n",
        "[Upadek firmy energetycznej Enron](https://userweb.cs.txstate.edu/~v_m137/docs/papers/ceas2006_paper_corrected.pdf) i skandal wywołany wiadomościami o nieprawidłowościach finansowych spowodowały, że podczas śledztwa i procesu zmuszono firmę do upublicznienia pełnej zawartości skrzynek mailowych 150 pracowników. Jest to doskonałe źródło prawdziwych danych, typowych emaili niebędących spamem, i było wykorzystywane wielokrotnie na potrzeby tworzenia wielu różnych zbiorów danych. Na potrzeby powyższego artykułu wybrano 6 pracowników z dużą liczbą emaili.\n",
        "\n",
        "Maile będące spamem otrzymano z 4 różnych źródeł:\n",
        "1. [Zbioru danych SpamAssassin](https://spamassassin.apache.org/old/publiccorpus/) - stworzony z pomocą [Apache SpamAssassin](https://spamassassin.apache.org/), narzędzia open source do detekcji spamu. Maile niebędące spamem są w nim bardzo specyficzne (pochodzą ze skrzynek fundacji Apache i dotyczą praktycznie tylko programownaia), za to spam jest uniwersalny.\n",
        "2. [Project Honeypot](https://www.projecthoneypot.org/) - projekt mający na celu wykrywanie spammerów (w tym przez specjalne pułapki, tzw. spam baiting) i tworzenie baz do filtrowania spamu.\n",
        "3. [Bazę spamu Bruce'a Guentera](http://untroubled.org/spam/) - gromadzi on cały spam, który dostaje na skrzynki (w tym takie do spam baitingu) od 1997 roku.\n",
        "4. Maile ze spamem zgromadzone przez trzeciego autora artykułu, Georgiosa Paliourasa.\n",
        "\n",
        "Artykuł prezentuje spersonalizowane kolekcje maili, dla każdego z 6 wybranych pracowników Enronu. My natomiast połączymy wszystkie dane i stworzymy prosty, uniwersalny filtr. Nasz filtr będzie operował tylko na tytułach i treści maili - realnie wdrażane systemy są dużo bardziej rozbudowane i wykorzystują metadane, bazy adresów, analizę tagów HTML i XML etc.\n",
        "\n",
        "Wykorzystamy przetworzoną postać tego zbioru w postaci pliku CSV z interesującymi nas elementami. Skrypt do tego wzięto [z tego repozytorium na Githubie](https://github.com/MWiechmann/enron_spam_data?fbclid=IwAR1icPxic8TDD6HGk6empohwcZ76uig0NxwxK7sWbczinBNfxEEt-ETparA)."
      ]
    },
    {
      "cell_type": "code",
      "execution_count": null,
      "metadata": {
        "colab": {
          "base_uri": "https://localhost:8080/",
          "height": 649
        },
        "id": "PzvVzrj5o1x8",
        "outputId": "3fc1ca31-9f48-4995-dc00-94a76d4e935f"
      },
      "outputs": [
        {
          "output_type": "execute_result",
          "data": {
            "text/plain": [
              "       Message ID                                            Subject  \\\n",
              "0               0                       christmas tree farm pictures   \n",
              "1               1                           vastar resources , inc .   \n",
              "2               2                       calpine daily gas nomination   \n",
              "3               3                                         re : issue   \n",
              "4               4                          meter 7268 nov allocation   \n",
              "...           ...                                                ...   \n",
              "33711       33711  = ? iso - 8859 - 1 ? q ? good _ news _ c = eda...   \n",
              "33712       33712  all prescript medicines are on special . to be...   \n",
              "33713       33713              the next generation online pharmacy .   \n",
              "33714       33714                     bloow in 5 - 10 times the time   \n",
              "33715       33715                   dear sir , i am interested in it   \n",
              "\n",
              "                                                 Message Spam/Ham        Date  \n",
              "0                                                    NaN      ham  1999-12-10  \n",
              "1      gary , production from the high island larger ...      ham  1999-12-13  \n",
              "2                 - calpine daily gas nomination 1 . doc      ham  1999-12-14  \n",
              "3      fyi - see note below - already done .\\nstella\\...      ham  1999-12-14  \n",
              "4      fyi .\\n- - - - - - - - - - - - - - - - - - - -...      ham  1999-12-14  \n",
              "...                                                  ...      ...         ...  \n",
              "33711  hello , welcome to gigapharm onlinne shop .\\np...     spam  2005-07-29  \n",
              "33712  i got it earlier than expected and it was wrap...     spam  2005-07-29  \n",
              "33713  are you ready to rock on ? let the man in you ...     spam  2005-07-30  \n",
              "33714  learn how to last 5 - 10 times longer in\\nbed ...     spam  2005-07-30  \n",
              "33715  hi : )\\ndo you need some softwares ? i can giv...     spam  2005-07-31  \n",
              "\n",
              "[33716 rows x 5 columns]"
            ],
            "text/html": [
              "\n",
              "  <div id=\"df-925ca06b-6cba-4fa8-96d2-5526d400dcfc\" class=\"colab-df-container\">\n",
              "    <div>\n",
              "<style scoped>\n",
              "    .dataframe tbody tr th:only-of-type {\n",
              "        vertical-align: middle;\n",
              "    }\n",
              "\n",
              "    .dataframe tbody tr th {\n",
              "        vertical-align: top;\n",
              "    }\n",
              "\n",
              "    .dataframe thead th {\n",
              "        text-align: right;\n",
              "    }\n",
              "</style>\n",
              "<table border=\"1\" class=\"dataframe\">\n",
              "  <thead>\n",
              "    <tr style=\"text-align: right;\">\n",
              "      <th></th>\n",
              "      <th>Message ID</th>\n",
              "      <th>Subject</th>\n",
              "      <th>Message</th>\n",
              "      <th>Spam/Ham</th>\n",
              "      <th>Date</th>\n",
              "    </tr>\n",
              "  </thead>\n",
              "  <tbody>\n",
              "    <tr>\n",
              "      <th>0</th>\n",
              "      <td>0</td>\n",
              "      <td>christmas tree farm pictures</td>\n",
              "      <td>NaN</td>\n",
              "      <td>ham</td>\n",
              "      <td>1999-12-10</td>\n",
              "    </tr>\n",
              "    <tr>\n",
              "      <th>1</th>\n",
              "      <td>1</td>\n",
              "      <td>vastar resources , inc .</td>\n",
              "      <td>gary , production from the high island larger ...</td>\n",
              "      <td>ham</td>\n",
              "      <td>1999-12-13</td>\n",
              "    </tr>\n",
              "    <tr>\n",
              "      <th>2</th>\n",
              "      <td>2</td>\n",
              "      <td>calpine daily gas nomination</td>\n",
              "      <td>- calpine daily gas nomination 1 . doc</td>\n",
              "      <td>ham</td>\n",
              "      <td>1999-12-14</td>\n",
              "    </tr>\n",
              "    <tr>\n",
              "      <th>3</th>\n",
              "      <td>3</td>\n",
              "      <td>re : issue</td>\n",
              "      <td>fyi - see note below - already done .\\nstella\\...</td>\n",
              "      <td>ham</td>\n",
              "      <td>1999-12-14</td>\n",
              "    </tr>\n",
              "    <tr>\n",
              "      <th>4</th>\n",
              "      <td>4</td>\n",
              "      <td>meter 7268 nov allocation</td>\n",
              "      <td>fyi .\\n- - - - - - - - - - - - - - - - - - - -...</td>\n",
              "      <td>ham</td>\n",
              "      <td>1999-12-14</td>\n",
              "    </tr>\n",
              "    <tr>\n",
              "      <th>...</th>\n",
              "      <td>...</td>\n",
              "      <td>...</td>\n",
              "      <td>...</td>\n",
              "      <td>...</td>\n",
              "      <td>...</td>\n",
              "    </tr>\n",
              "    <tr>\n",
              "      <th>33711</th>\n",
              "      <td>33711</td>\n",
              "      <td>= ? iso - 8859 - 1 ? q ? good _ news _ c = eda...</td>\n",
              "      <td>hello , welcome to gigapharm onlinne shop .\\np...</td>\n",
              "      <td>spam</td>\n",
              "      <td>2005-07-29</td>\n",
              "    </tr>\n",
              "    <tr>\n",
              "      <th>33712</th>\n",
              "      <td>33712</td>\n",
              "      <td>all prescript medicines are on special . to be...</td>\n",
              "      <td>i got it earlier than expected and it was wrap...</td>\n",
              "      <td>spam</td>\n",
              "      <td>2005-07-29</td>\n",
              "    </tr>\n",
              "    <tr>\n",
              "      <th>33713</th>\n",
              "      <td>33713</td>\n",
              "      <td>the next generation online pharmacy .</td>\n",
              "      <td>are you ready to rock on ? let the man in you ...</td>\n",
              "      <td>spam</td>\n",
              "      <td>2005-07-30</td>\n",
              "    </tr>\n",
              "    <tr>\n",
              "      <th>33714</th>\n",
              "      <td>33714</td>\n",
              "      <td>bloow in 5 - 10 times the time</td>\n",
              "      <td>learn how to last 5 - 10 times longer in\\nbed ...</td>\n",
              "      <td>spam</td>\n",
              "      <td>2005-07-30</td>\n",
              "    </tr>\n",
              "    <tr>\n",
              "      <th>33715</th>\n",
              "      <td>33715</td>\n",
              "      <td>dear sir , i am interested in it</td>\n",
              "      <td>hi : )\\ndo you need some softwares ? i can giv...</td>\n",
              "      <td>spam</td>\n",
              "      <td>2005-07-31</td>\n",
              "    </tr>\n",
              "  </tbody>\n",
              "</table>\n",
              "<p>33716 rows × 5 columns</p>\n",
              "</div>\n",
              "    <div class=\"colab-df-buttons\">\n",
              "\n",
              "  <div class=\"colab-df-container\">\n",
              "    <button class=\"colab-df-convert\" onclick=\"convertToInteractive('df-925ca06b-6cba-4fa8-96d2-5526d400dcfc')\"\n",
              "            title=\"Convert this dataframe to an interactive table.\"\n",
              "            style=\"display:none;\">\n",
              "\n",
              "  <svg xmlns=\"http://www.w3.org/2000/svg\" height=\"24px\" viewBox=\"0 -960 960 960\">\n",
              "    <path d=\"M120-120v-720h720v720H120Zm60-500h600v-160H180v160Zm220 220h160v-160H400v160Zm0 220h160v-160H400v160ZM180-400h160v-160H180v160Zm440 0h160v-160H620v160ZM180-180h160v-160H180v160Zm440 0h160v-160H620v160Z\"/>\n",
              "  </svg>\n",
              "    </button>\n",
              "\n",
              "  <style>\n",
              "    .colab-df-container {\n",
              "      display:flex;\n",
              "      gap: 12px;\n",
              "    }\n",
              "\n",
              "    .colab-df-convert {\n",
              "      background-color: #E8F0FE;\n",
              "      border: none;\n",
              "      border-radius: 50%;\n",
              "      cursor: pointer;\n",
              "      display: none;\n",
              "      fill: #1967D2;\n",
              "      height: 32px;\n",
              "      padding: 0 0 0 0;\n",
              "      width: 32px;\n",
              "    }\n",
              "\n",
              "    .colab-df-convert:hover {\n",
              "      background-color: #E2EBFA;\n",
              "      box-shadow: 0px 1px 2px rgba(60, 64, 67, 0.3), 0px 1px 3px 1px rgba(60, 64, 67, 0.15);\n",
              "      fill: #174EA6;\n",
              "    }\n",
              "\n",
              "    .colab-df-buttons div {\n",
              "      margin-bottom: 4px;\n",
              "    }\n",
              "\n",
              "    [theme=dark] .colab-df-convert {\n",
              "      background-color: #3B4455;\n",
              "      fill: #D2E3FC;\n",
              "    }\n",
              "\n",
              "    [theme=dark] .colab-df-convert:hover {\n",
              "      background-color: #434B5C;\n",
              "      box-shadow: 0px 1px 3px 1px rgba(0, 0, 0, 0.15);\n",
              "      filter: drop-shadow(0px 1px 2px rgba(0, 0, 0, 0.3));\n",
              "      fill: #FFFFFF;\n",
              "    }\n",
              "  </style>\n",
              "\n",
              "    <script>\n",
              "      const buttonEl =\n",
              "        document.querySelector('#df-925ca06b-6cba-4fa8-96d2-5526d400dcfc button.colab-df-convert');\n",
              "      buttonEl.style.display =\n",
              "        google.colab.kernel.accessAllowed ? 'block' : 'none';\n",
              "\n",
              "      async function convertToInteractive(key) {\n",
              "        const element = document.querySelector('#df-925ca06b-6cba-4fa8-96d2-5526d400dcfc');\n",
              "        const dataTable =\n",
              "          await google.colab.kernel.invokeFunction('convertToInteractive',\n",
              "                                                    [key], {});\n",
              "        if (!dataTable) return;\n",
              "\n",
              "        const docLinkHtml = 'Like what you see? Visit the ' +\n",
              "          '<a target=\"_blank\" href=https://colab.research.google.com/notebooks/data_table.ipynb>data table notebook</a>'\n",
              "          + ' to learn more about interactive tables.';\n",
              "        element.innerHTML = '';\n",
              "        dataTable['output_type'] = 'display_data';\n",
              "        await google.colab.output.renderOutput(dataTable, element);\n",
              "        const docLink = document.createElement('div');\n",
              "        docLink.innerHTML = docLinkHtml;\n",
              "        element.appendChild(docLink);\n",
              "      }\n",
              "    </script>\n",
              "  </div>\n",
              "\n",
              "\n",
              "    <div id=\"df-b97e77a2-6aa3-458a-887d-48fce144ff68\">\n",
              "      <button class=\"colab-df-quickchart\" onclick=\"quickchart('df-b97e77a2-6aa3-458a-887d-48fce144ff68')\"\n",
              "                title=\"Suggest charts\"\n",
              "                style=\"display:none;\">\n",
              "\n",
              "<svg xmlns=\"http://www.w3.org/2000/svg\" height=\"24px\"viewBox=\"0 0 24 24\"\n",
              "     width=\"24px\">\n",
              "    <g>\n",
              "        <path d=\"M19 3H5c-1.1 0-2 .9-2 2v14c0 1.1.9 2 2 2h14c1.1 0 2-.9 2-2V5c0-1.1-.9-2-2-2zM9 17H7v-7h2v7zm4 0h-2V7h2v10zm4 0h-2v-4h2v4z\"/>\n",
              "    </g>\n",
              "</svg>\n",
              "      </button>\n",
              "\n",
              "<style>\n",
              "  .colab-df-quickchart {\n",
              "      --bg-color: #E8F0FE;\n",
              "      --fill-color: #1967D2;\n",
              "      --hover-bg-color: #E2EBFA;\n",
              "      --hover-fill-color: #174EA6;\n",
              "      --disabled-fill-color: #AAA;\n",
              "      --disabled-bg-color: #DDD;\n",
              "  }\n",
              "\n",
              "  [theme=dark] .colab-df-quickchart {\n",
              "      --bg-color: #3B4455;\n",
              "      --fill-color: #D2E3FC;\n",
              "      --hover-bg-color: #434B5C;\n",
              "      --hover-fill-color: #FFFFFF;\n",
              "      --disabled-bg-color: #3B4455;\n",
              "      --disabled-fill-color: #666;\n",
              "  }\n",
              "\n",
              "  .colab-df-quickchart {\n",
              "    background-color: var(--bg-color);\n",
              "    border: none;\n",
              "    border-radius: 50%;\n",
              "    cursor: pointer;\n",
              "    display: none;\n",
              "    fill: var(--fill-color);\n",
              "    height: 32px;\n",
              "    padding: 0;\n",
              "    width: 32px;\n",
              "  }\n",
              "\n",
              "  .colab-df-quickchart:hover {\n",
              "    background-color: var(--hover-bg-color);\n",
              "    box-shadow: 0 1px 2px rgba(60, 64, 67, 0.3), 0 1px 3px 1px rgba(60, 64, 67, 0.15);\n",
              "    fill: var(--button-hover-fill-color);\n",
              "  }\n",
              "\n",
              "  .colab-df-quickchart-complete:disabled,\n",
              "  .colab-df-quickchart-complete:disabled:hover {\n",
              "    background-color: var(--disabled-bg-color);\n",
              "    fill: var(--disabled-fill-color);\n",
              "    box-shadow: none;\n",
              "  }\n",
              "\n",
              "  .colab-df-spinner {\n",
              "    border: 2px solid var(--fill-color);\n",
              "    border-color: transparent;\n",
              "    border-bottom-color: var(--fill-color);\n",
              "    animation:\n",
              "      spin 1s steps(1) infinite;\n",
              "  }\n",
              "\n",
              "  @keyframes spin {\n",
              "    0% {\n",
              "      border-color: transparent;\n",
              "      border-bottom-color: var(--fill-color);\n",
              "      border-left-color: var(--fill-color);\n",
              "    }\n",
              "    20% {\n",
              "      border-color: transparent;\n",
              "      border-left-color: var(--fill-color);\n",
              "      border-top-color: var(--fill-color);\n",
              "    }\n",
              "    30% {\n",
              "      border-color: transparent;\n",
              "      border-left-color: var(--fill-color);\n",
              "      border-top-color: var(--fill-color);\n",
              "      border-right-color: var(--fill-color);\n",
              "    }\n",
              "    40% {\n",
              "      border-color: transparent;\n",
              "      border-right-color: var(--fill-color);\n",
              "      border-top-color: var(--fill-color);\n",
              "    }\n",
              "    60% {\n",
              "      border-color: transparent;\n",
              "      border-right-color: var(--fill-color);\n",
              "    }\n",
              "    80% {\n",
              "      border-color: transparent;\n",
              "      border-right-color: var(--fill-color);\n",
              "      border-bottom-color: var(--fill-color);\n",
              "    }\n",
              "    90% {\n",
              "      border-color: transparent;\n",
              "      border-bottom-color: var(--fill-color);\n",
              "    }\n",
              "  }\n",
              "</style>\n",
              "\n",
              "      <script>\n",
              "        async function quickchart(key) {\n",
              "          const quickchartButtonEl =\n",
              "            document.querySelector('#' + key + ' button');\n",
              "          quickchartButtonEl.disabled = true;  // To prevent multiple clicks.\n",
              "          quickchartButtonEl.classList.add('colab-df-spinner');\n",
              "          try {\n",
              "            const charts = await google.colab.kernel.invokeFunction(\n",
              "                'suggestCharts', [key], {});\n",
              "          } catch (error) {\n",
              "            console.error('Error during call to suggestCharts:', error);\n",
              "          }\n",
              "          quickchartButtonEl.classList.remove('colab-df-spinner');\n",
              "          quickchartButtonEl.classList.add('colab-df-quickchart-complete');\n",
              "        }\n",
              "        (() => {\n",
              "          let quickchartButtonEl =\n",
              "            document.querySelector('#df-b97e77a2-6aa3-458a-887d-48fce144ff68 button');\n",
              "          quickchartButtonEl.style.display =\n",
              "            google.colab.kernel.accessAllowed ? 'block' : 'none';\n",
              "        })();\n",
              "      </script>\n",
              "    </div>\n",
              "\n",
              "  <div id=\"id_96ce073b-7e63-4be8-9eec-aaeb155130f4\">\n",
              "    <style>\n",
              "      .colab-df-generate {\n",
              "        background-color: #E8F0FE;\n",
              "        border: none;\n",
              "        border-radius: 50%;\n",
              "        cursor: pointer;\n",
              "        display: none;\n",
              "        fill: #1967D2;\n",
              "        height: 32px;\n",
              "        padding: 0 0 0 0;\n",
              "        width: 32px;\n",
              "      }\n",
              "\n",
              "      .colab-df-generate:hover {\n",
              "        background-color: #E2EBFA;\n",
              "        box-shadow: 0px 1px 2px rgba(60, 64, 67, 0.3), 0px 1px 3px 1px rgba(60, 64, 67, 0.15);\n",
              "        fill: #174EA6;\n",
              "      }\n",
              "\n",
              "      [theme=dark] .colab-df-generate {\n",
              "        background-color: #3B4455;\n",
              "        fill: #D2E3FC;\n",
              "      }\n",
              "\n",
              "      [theme=dark] .colab-df-generate:hover {\n",
              "        background-color: #434B5C;\n",
              "        box-shadow: 0px 1px 3px 1px rgba(0, 0, 0, 0.15);\n",
              "        filter: drop-shadow(0px 1px 2px rgba(0, 0, 0, 0.3));\n",
              "        fill: #FFFFFF;\n",
              "      }\n",
              "    </style>\n",
              "    <button class=\"colab-df-generate\" onclick=\"generateWithVariable('df')\"\n",
              "            title=\"Generate code using this dataframe.\"\n",
              "            style=\"display:none;\">\n",
              "\n",
              "  <svg xmlns=\"http://www.w3.org/2000/svg\" height=\"24px\"viewBox=\"0 0 24 24\"\n",
              "       width=\"24px\">\n",
              "    <path d=\"M7,19H8.4L18.45,9,17,7.55,7,17.6ZM5,21V16.75L18.45,3.32a2,2,0,0,1,2.83,0l1.4,1.43a1.91,1.91,0,0,1,.58,1.4,1.91,1.91,0,0,1-.58,1.4L9.25,21ZM18.45,9,17,7.55Zm-12,3A5.31,5.31,0,0,0,4.9,8.1,5.31,5.31,0,0,0,1,6.5,5.31,5.31,0,0,0,4.9,4.9,5.31,5.31,0,0,0,6.5,1,5.31,5.31,0,0,0,8.1,4.9,5.31,5.31,0,0,0,12,6.5,5.46,5.46,0,0,0,6.5,12Z\"/>\n",
              "  </svg>\n",
              "    </button>\n",
              "    <script>\n",
              "      (() => {\n",
              "      const buttonEl =\n",
              "        document.querySelector('#id_96ce073b-7e63-4be8-9eec-aaeb155130f4 button.colab-df-generate');\n",
              "      buttonEl.style.display =\n",
              "        google.colab.kernel.accessAllowed ? 'block' : 'none';\n",
              "\n",
              "      buttonEl.onclick = () => {\n",
              "        google.colab.notebook.generateWithVariable('df');\n",
              "      }\n",
              "      })();\n",
              "    </script>\n",
              "  </div>\n",
              "\n",
              "    </div>\n",
              "  </div>\n"
            ],
            "application/vnd.google.colaboratory.intrinsic+json": {
              "type": "dataframe",
              "variable_name": "df",
              "summary": "{\n  \"name\": \"df\",\n  \"rows\": 33716,\n  \"fields\": [\n    {\n      \"column\": \"Message ID\",\n      \"properties\": {\n        \"dtype\": \"number\",\n        \"std\": 9733,\n        \"min\": 0,\n        \"max\": 33715,\n        \"num_unique_values\": 33716,\n        \"samples\": [\n          3820,\n          3504,\n          30823\n        ],\n        \"semantic_type\": \"\",\n        \"description\": \"\"\n      }\n    },\n    {\n      \"column\": \"Subject\",\n      \"properties\": {\n        \"dtype\": \"string\",\n        \"num_unique_values\": 24206,\n        \"samples\": [\n          \"ferc meeting this morning - order on el paso capacity allocation\",\n          \"rolex watches now for pea nut\",\n          \"urgent help\"\n        ],\n        \"semantic_type\": \"\",\n        \"description\": \"\"\n      }\n    },\n    {\n      \"column\": \"Message\",\n      \"properties\": {\n        \"dtype\": \"string\",\n        \"num_unique_values\": 29779,\n        \"samples\": [\n          \"cera alert\\ntitle : the fallout from enron : implications for gas and power markets\\nurl ( s ) :\\nhttp : / / www . cera . com / eprofile ? u = 35\\nhttp : / / www . cera . com / eprofile ? u = 35\\nhttp : / / www . cera . com / eprofile ? u = 35\\nhttp : / / www . cera . com / eprofile ? u = 35\\nthe collapse of the proposed enron / dynegy merger has sent a shock wave through\\nthe industry but does not threaten the effective functioning of wholesale gas\\nand power markets in north america . major market participants have had more\\nthan a month to unwind positions with enron , and thus the overall exposure has\\nbeen greatly reduced .\\n* wholesale gas and power markets in north america continue to function\\neffectively . there is no reason for the physical flow of gas or power to be\\nimpeded this winter .\\n* liquidity for longer - term structured products has temporarily been reduced .\\nothers will move in to fill the gap , but this will take time .\\n* enron ' s problems do not represent a critical blow to deregulating gas and\\npower markets .\\nwe are sending this alert to global energy clients also because of enron ' s\\nmajor role in the us gas and power markets .\\n* * end * *\\nfollow above url to complete alert ( 2 printed pages ) .\\ne - mail category : alert\\ncera knowledge area ( s ) : western energy , global energy , north american gas , north american power\\nceraweek february 11 - 15 , 2002 - http : / / www . cera . com / ceraweek\\nspecial offer : register on - line before november 30 th , and a 2 - day pass\\nwill be upgraded to a 4 - day pass ( maximum $ 1 , 800 value ) .\\nday 1 : global oil / refined products ;\\nday 2 : natural gas / global energy ;\\nday 3 & 4 : electric power\\nto make changes to your cera . com profile go to :\\nhttp : / / www . cera . com / client / updateaccount\\nforgot your username and password ? go to :\\nhttp : / / www . cera . com / client / forgot\\nthis electronic message and attachments , if any , contain information\\nfrom cambridge energy research associates , inc . ( cera ) which is\\nconfidential and may be privileged . unauthorized disclosure , copying ,\\ndistribution or use of the contents of this message or any attachments ,\\nin whole or in part , is strictly prohibited .\\nterms of use : http : / / www . cera . com / tos\\nquestions / comments : webmaster @ cera . com\\ncopyright 2001 . cambridge energy research associates\",\n          \"people i am paying for : -\\nmyself\\njames new - power , gas and credit\\nmike wellings - uk power\\ncoralie evans - continental power\\nrobert yeo - uk and continental gas\\npaul d ' arcy - structured products\\ndavid wall - credit\\nandrew cornfield - metals risk manager\\npeople who may come from egm - fiona , we should get them on same booking if\\nthey confirm attendance ( patti , could you let fiona know ? )\\ncindy horn\\nkenny nicoll\\nmark fondren\\n- - - - - - - - - - - - - - - - - - - - - - forwarded by mike jordan / lon / ect on 25 / 09 / 2000 16 : 19\\n- - - - - - - - - - - - - - - - - - - - - - - - - - -\\nmike jordan\\n12 / 09 / 2000 08 : 26\\nto : sally beck / hou / ect @ ect\\ncc :\\nsubject : re : invitation list for operations business controller offsite\\nsally\\nproposed list - of all potential candidates\\nmyself\\njames new - and his lead risk managers\\nmike wellings - uk power\\ncoralie evans - continental power\\nrobert yeo - uk and continental gas\\npaul d ' arcy - structured products\\ndavid wall - credit\\ntim poullain - patterson - metals integration\\nandrew cornfield - metals risk manager\\nkevin rhodes - metals controller ( there are in fact two controllers at\\npresent kevin for financial trading and howard carter for merchanting )\\ni would leave ralph jaeger of frankfurt out of the offsite if places are\\nrestricted - he is covered by the mainstream accounting conferences , but i\\nwould have jan erland , and heidi and tiong hock from singapore .\\ni am not sure fernley would want to be there - but i can ask .\\non others - simon thurbin of liquids in london should be in houston and\\nwould be a good choice for inclusion . brent may want his two london\\ncontrollers of cindy horn and kenny nicoll to also come\\nwould you invite kristen to come with ( in place of barry ? ) .\\na long list ( and we may want to cut back ) but all these individuals carry\\nthe burden of operational risk assessment and management - standardising that\\nprocess would be an achievement indeed .\\nmike\\nps - shall we revisit agenda and discuss who should start preparing\\npresentations - we had thought about engaging rac , it etc\\nenron capital & trade resources corp .\\nfrom : sally beck 11 / 09 / 2000 21 : 49\\nto : mike jordan / lon / ect @ ect\\ncc :\\nsubject : invitation list for operations business controller offsite\\ndates : sunday , october 22 ( late afternoon , early evening kick - off , reception\\nand dinner )\\nmonday , october 23 ( all day , with evening event )\\ntuesday , october 24 ( through mid afternoon )\\nconfirmed speakers to date : jeff skilling ( tuesday , october 24 - available\\n9 : 30 am to 1 : 00 pm )\\nproposed list of attendees ( mike : let ' s talk about the scope of this list on\\ntuesday ) :\\nena\\ngas - steve jackson\\nleslie reeves\\nbob hall\\npower - stacey white\\ncalgary - peggy hedstrom\\neim\\npulp , paper , lumber - brenda herod\\negm\\ngeneral - brent price\\nglobal products - scott earnest\\nweather - todd hall\\nfinancial products - sheila glover\\n? kevin sweeney\\neel\\n? fernley dyson\\nmike jordan\\nlondon - james new\\nfrankfort - ralph jaeger\\nmetals - tim pouillan - patterson\\naustralia - heidi mason\\njapan - jan - erland beking\\nesa\\nscott mills\\nebs\\nbarry pearce\\nees\\nwanda curry ?\\nglobal risk management\\nsally beck\\nshona wilson\\neugenio perez\\nmike moscoso\",\n          \"hi louise ,\\nhopefully this is what you requested . if you prefer the other presentation ( by team as per the bound book wes gave you ) i can send that as well .\\n- - - - - original message - - - - -\\nfrom : hardy , trey\\nsent : monday , april 30 , 2001 8 : 37 am\\nto : killen , faith\\nsubject :\\nimportance : high\"\n        ],\n        \"semantic_type\": \"\",\n        \"description\": \"\"\n      }\n    },\n    {\n      \"column\": \"Spam/Ham\",\n      \"properties\": {\n        \"dtype\": \"category\",\n        \"num_unique_values\": 2,\n        \"samples\": [\n          \"spam\",\n          \"ham\"\n        ],\n        \"semantic_type\": \"\",\n        \"description\": \"\"\n      }\n    },\n    {\n      \"column\": \"Date\",\n      \"properties\": {\n        \"dtype\": \"object\",\n        \"num_unique_values\": 1527,\n        \"samples\": [\n          \"2001-12-24\",\n          \"2000-03-23\"\n        ],\n        \"semantic_type\": \"\",\n        \"description\": \"\"\n      }\n    }\n  ]\n}"
            }
          },
          "metadata": {},
          "execution_count": 17
        }
      ],
      "source": [
        "df = pd.read_csv(\"sample_data/enron_spam_data.csv\")\n",
        "df"
      ]
    },
    {
      "cell_type": "markdown",
      "metadata": {
        "id": "LCM6p8B_o1x8"
      },
      "source": [
        "Na pierwszy rzut oka widać parę problemów:\n",
        "- kolumny `Message ID` i `Date` są niepotrzebne\n",
        "- niektóre wiadomości mają tylko tytuł lub tylko wiadomość\n",
        "- klasa jest zapisana jako string spam/ham\n",
        "\n",
        "**Zadanie 4 (0.5 punktu)**\n",
        "\n",
        "1. Uzupełnij wartości brakujące w kolumnach `Subject` i `Message` pustymi stringami.\n",
        "2. Połącz kolumny `Subject` i `Message` w jedną kolumnę `text`, ze spacją pomiędzy nimi. Może się przydać metoda `pd.Series.str.cat()`. Wyodrębnij ją do nowej zmiennej `texts`.\n",
        "3. Zamień wartość `ham` na 0 i `spam` na 1 w kolumnie `Spam/Ham`. Wyodrębnij ją do nowej zmiennej `y`."
      ]
    },
    {
      "cell_type": "code",
      "execution_count": null,
      "metadata": {
        "id": "Qb-dp7xTo1x8"
      },
      "outputs": [],
      "source": [
        "df[\"Subject\"] = df[\"Subject\"].fillna(\"\")\n",
        "df[\"Message\"] = df[\"Message\"].fillna(\"\")\n",
        "\n",
        "texts = df[\"Subject\"].str.cat(df[\"Message\"], sep=\" \")\n",
        "y = df[\"Spam/Ham\"].map({\"ham\": 0, \"spam\": 1})"
      ]
    },
    {
      "cell_type": "markdown",
      "metadata": {
        "id": "kw4wDkkKo1x8"
      },
      "source": [
        "Sprawdźmy jeszcze rozkład klas."
      ]
    },
    {
      "cell_type": "code",
      "execution_count": null,
      "metadata": {
        "colab": {
          "base_uri": "https://localhost:8080/",
          "height": 489
        },
        "id": "HkYnOhHVo1x8",
        "outputId": "92bc3220-571f-4aed-e5e8-4197f3d9ce98"
      },
      "outputs": [
        {
          "output_type": "execute_result",
          "data": {
            "text/plain": [
              "[Text(0, 0, '50.93'), Text(0, 0, '49.07')]"
            ]
          },
          "metadata": {},
          "execution_count": 19
        },
        {
          "output_type": "display_data",
          "data": {
            "text/plain": [
              "<Figure size 640x480 with 1 Axes>"
            ],
            "image/png": "[encoded data removed]"
          },
          "metadata": {}
        }
      ],
      "source": [
        "class_percentages = y.value_counts(normalize=True)\n",
        "class_percentages = round(class_percentages * 100, 2)\n",
        "\n",
        "ax = class_percentages.plot.bar(title=\"Class distribution\", rot=0)\n",
        "\n",
        "ax.bar_label(ax.containers[0])"
      ]
    },
    {
      "cell_type": "markdown",
      "metadata": {
        "id": "c_nsGxCdo1x8"
      },
      "source": [
        "Ten zbiór w całości jest o tyle specyficzny, że dodano tutaj aż tyle spamu, że jest go nawet więcej niż zwykłych emaili. W praktyce spamu jest dużo mniej, ok. 1/3 maili. Tutaj uznajemy, że klasy są zbalansowane.\n",
        "\n",
        "Typową metryką w klasyfikacji spamu jest **precyzja (precision)**, bo wyznacza ona, jak dobrzy jesteśmy w oznaczaniu spamu. Recall ma mniejsze znaczenie, bo bardziej zależy nam na minimalizacji FP - ważne maile nie mogą trafiać do spamu, natomiast jeżeli spam czasem trafi do zwykłej skrzynki (FN), to nie ma wielkiego znaczenia. Często używa się też F1-score jako metryki.\n",
        "\n",
        "W przypadku tych metryk (precision/recall/F1-score) zawsze trzeba sprawdzić co najmniej dwie z nich, żeby uniknąć przypadkiem sytuacji, że mamy np. precision bliskie 100%, a dramatycznie niski recall - to też nie byłoby akceptowalne. Trzeba też uważać podczas walidacji skrośnej - np. klasyfikator przewidujący cały czas klasę pozytywną miałby 100% recall, a cały czas negatywną 100% precision, więc typowo najwygodniej jest optymalizować F1-score.\n",
        "\n",
        "Na początek podzielimy zbiór na treningowy i testowy. Naszymi cechami będą zliczenia wystąpień poszczególnych słów, obliczone z pomocą klasy `CountVectorizer` ([dokumentacja](https://scikit-learn.org/stable/modules/generated/sklearn.feature_extraction.text.CountVectorizer.html)). Na start podamy `binary=True`, dzięki czemu cechy będą binarne - czy słowo wystąpiło, czy nie. Dzięki temu będziemy mogli użyć Naiwnego Bayesa z rozkładem dwumianowym - `BernoulliNB`. Wykonamy minimalny preprocessing, usuwając tylko tzw. stop words, czyli \"nudne\", niepotrzebne słowa, typu \"he\", \"she\", \"the\" etc.\n",
        "\n",
        "Zauważ, że wejściem do metody `.fit()` jest lista tekstów, ze względu a domyślne `input=\"content\"`. Można by tu też wskazać listę ścieżek do plików z tekstami (`input=\"filename\"`)."
      ]
    },
    {
      "cell_type": "code",
      "execution_count": null,
      "metadata": {
        "scrolled": true,
        "colab": {
          "base_uri": "https://localhost:8080/"
        },
        "id": "2at4Ba4Io1x8",
        "outputId": "9fdbe60f-6e5f-4434-9c44-5ed802c629e4"
      },
      "outputs": [
        {
          "output_type": "stream",
          "name": "stdout",
          "text": [
            "Dictionary size: 139189\n",
            "Precision: 98.92%\n",
            "F1-score: 98.46%\n"
          ]
        }
      ],
      "source": [
        "from sklearn.feature_extraction.text import CountVectorizer\n",
        "from sklearn.metrics import f1_score, precision_score\n",
        "from sklearn.model_selection import train_test_split\n",
        "from sklearn.naive_bayes import BernoulliNB\n",
        "\n",
        "\n",
        "texts_train, texts_test, y_train, y_test = train_test_split(\n",
        "    texts,\n",
        "    y,\n",
        "    test_size=0.25,\n",
        "    random_state=0,\n",
        "    stratify=y,\n",
        ")\n",
        "\n",
        "count_vectorizer = CountVectorizer(\n",
        "    stop_words=\"english\",\n",
        "    binary=True,\n",
        ")\n",
        "count_vectorizer.fit(texts_train)\n",
        "\n",
        "X_train = count_vectorizer.transform(texts_train)\n",
        "X_test = count_vectorizer.transform(texts_test)\n",
        "\n",
        "print(f\"Dictionary size: {X_train.shape[1]}\")\n",
        "\n",
        "clf_nb_bernoulli = BernoulliNB(binarize=None)\n",
        "clf_nb_bernoulli.fit(X_train, y_train)\n",
        "\n",
        "y_pred = clf_nb_bernoulli.predict(X_test)\n",
        "precision = precision_score(y_test, y_pred)\n",
        "f1 = f1_score(y_test, y_pred)\n",
        "\n",
        "print(f\"Precision: {100 * precision:.2f}%\")\n",
        "print(f\"F1-score: {100 * f1:.2f}%\")"
      ]
    },
    {
      "cell_type": "markdown",
      "metadata": {
        "id": "w9ydliXuo1x8"
      },
      "source": [
        "Wynik jest prawie doskonały. Może uda się jeszcze wycisnąć ten ostatni procent?\n",
        "\n",
        "**Zadanie 5 (2 punkty)**\n",
        "\n",
        "1. Oblicz wystąpienia słów bez binaryzacji, otrzymując drugi zbiór cech.\n",
        "2. Wytrenuj model multinomial Naive Bayes na otrzymanym zbiorze. Sprawdź precyzję i F1-score na zbiorze testowym.\n",
        "3. Stwórz `Pipeline` z połączenia `CountVectorizer` i `MultinomialNB`. Podaj te opcje, co wcześniej do CountVectorizera.\n",
        "4. Dokonaj tuningu hiperparametrów:\n",
        "   - `ngram_range` - jakie n-gramy rozważać, sprawdź wartości `[(1, 1), (1, 2), (1, 3)]` (same słowa, + bigramy, + bigramy i trigramy)\n",
        "   - `max_df` - w jakim maksymalnie ułamku tekstów w zbiorze może wystąpić słowo, sprawdź wartości `[0.5, 0.6, 0.7, 0.8, 0.9, 1.0]`\n",
        "   - wybierz model o najwyższej precyzji\n",
        "   - użyj standardowych ustawień: 5-krotna walidacja skrośna, `n_jobs=-1`\n",
        "   - sprawdź precyzję i F1-score na zbiorze testowym dla znalezionych optymalnych hiperparametrów\n",
        "5. Wypisz optymalne hiperparametry. Sprawdź, jak zmienił się rozmiar słownika przy tych hiperparametrach.\n",
        "6. Skomentuj uzyskane hiperparametry. Jaki zakres (kontekst) uwzględniamy przy takich n-gramach? Czy uwzględniamy wszystkie słowa/bigramy/trigramy?\n",
        "\n",
        "**Uwaga:**\n",
        "1. Do metody `.fit()` możesz przekazać `texts_train` i `y_train`. Jako że `CountVectorizer` ma interfejs transformera (ma metodę `.transform()`), to Scikit-learn przekształci nim teksty do macierzy `X_train` i to ją przekaże dalej do klasyfikatora.\n",
        "2. Przy tworzeniu pipeline'u może się przydać [ta odpowiedź na StackOverflow](https://stackoverflow.com/a/64258746/9472066).\n",
        "3. Pamiętaj, że do testowania też trzeba przekazać teksty, które przekształcimy w środku pipeline'u."
      ]
    },
    {
      "cell_type": "code",
      "execution_count": null,
      "metadata": {
        "colab": {
          "base_uri": "https://localhost:8080/"
        },
        "id": "q8-rHjt8o1x8",
        "outputId": "0791ecbb-4637-4372-fa4b-a398f6c2b3b9"
      },
      "outputs": [
        {
          "output_type": "stream",
          "name": "stdout",
          "text": [
            "Precision: 98.54 %\n",
            "F1-score: 98.71 %\n"
          ]
        }
      ],
      "source": [
        "from sklearn.feature_extraction.text import CountVectorizer\n",
        "from sklearn.naive_bayes import MultinomialNB\n",
        "from sklearn.metrics import precision_score, f1_score\n",
        "\n",
        "vectorizer_counts = CountVectorizer(stop_words=\"english\", binary=False)\n",
        "X_train_counts = vectorizer_counts.fit_transform(texts_train)\n",
        "X_test_counts = vectorizer_counts.transform(texts_test)\n",
        "\n",
        "clf_nb_multinomial = MultinomialNB()\n",
        "clf_nb_multinomial.fit(X_train_counts, y_train)\n",
        "\n",
        "y_pred_multinomial = clf_nb_multinomial.predict(X_test_counts)\n",
        "precision_multinomial = precision_score(y_test, y_pred_multinomial)\n",
        "f1_multinomial = f1_score(y_test, y_pred_multinomial)\n",
        "\n",
        "print(\"Precision:\", round(100 * precision_multinomial, 2), \"%\")\n",
        "print(\"F1-score:\", round(100 * f1_multinomial, 2), \"%\")"
      ]
    },
    {
      "cell_type": "code",
      "source": [
        "from sklearn.pipeline import Pipeline\n",
        "from sklearn.model_selection import GridSearchCV\n",
        "\n",
        "pipeline = Pipeline([\n",
        "    (\"vectorizer\", CountVectorizer(stop_words=\"english\")),\n",
        "    (\"clf\", MultinomialNB())\n",
        "])\n",
        "\n",
        "param_grid = {\n",
        "    \"vectorizer__ngram_range\": [(1, 1), (1, 2), (1, 3)],\n",
        "    \"vectorizer__max_df\": [0.5, 0.6, 0.7, 0.8, 0.9, 1.0]\n",
        "}\n",
        "\n",
        "\n",
        "grid = GridSearchCV(\n",
        "    pipeline,\n",
        "    param_grid,\n",
        "    scoring=\"precision\",\n",
        "    cv=5,\n",
        "    n_jobs=-1\n",
        ")\n",
        "\n",
        "grid.fit(texts_train, y_train)\n",
        "best_model = grid.best_estimator_\n",
        "\n",
        "y_pred_best = best_model.predict(texts_test)\n",
        "precision_best = precision_score(y_test, y_pred_best)\n",
        "f1_best = f1_score(y_test, y_pred_best)\n",
        "\n",
        "print(\"Best precision:\", round(100 * precision_best, 2), \"%\")\n",
        "print(\"Best F1-score:\", round(100 * f1_best, 2), \"%\")\n",
        "print(\"Best params:\", grid.best_params_)\n",
        "print(\"Vocabulary size:\", len(best_model.named_steps[\"vectorizer\"].vocabulary_))\n"
      ],
      "metadata": {
        "colab": {
          "base_uri": "https://localhost:8080/"
        },
        "id": "vVgX2ceyyyRo",
        "outputId": "c5711cf2-6fad-4654-bf26-14417844b0b2"
      },
      "execution_count": null,
      "outputs": [
        {
          "output_type": "stream",
          "name": "stdout",
          "text": [
            "Best precision: 99.32 %\n",
            "Best F1-score: 99.24 %\n",
            "Best params: {'vectorizer__max_df': 0.5, 'vectorizer__ngram_range': (1, 3)}\n",
            "Vocabulary size: 3383053\n"
          ]
        }
      ]
    },
    {
      "cell_type": "markdown",
      "metadata": {
        "id": "_4CuuNS8o1x8"
      },
      "source": [
        "// skomentuj tutaj\n",
        "\n",
        "Bierzemy słowa, bigramy i trigramy, olewamy te zbyt częste. Dzięki temu model lepiej łapie kontekst i mniej się rozprasza."
      ]
    },
    {
      "cell_type": "markdown",
      "metadata": {
        "id": "D_KcC9C4o1x8"
      },
      "source": [
        "W przypadku tak wysokich wyników raczej nie ma sensu sprawdzać bardziej złożonych technik, typu ważenie słów (TF-IDF, BM25), upraszczanie słów (stemming, lematyzacja) etc. W przypadku bardziej złożonych tekstów mogłoby to być przydatne.\n",
        "\n",
        "Naiwnego Bayesa do klasyfikacji tekstu używa się obecnie relatywnie rzadko. Potrafi on jednak działać równie dobrze, jak transformery, kiedy dla danego zadania mają znaczenie same wystąpienia słów czy tematyka tekstu, a nie dokładna semantyka zdań. Naiwny Bayes jest przy tym oczywiście bez porównania prostszy i szybszy."
      ]
    },
    {
      "cell_type": "markdown",
      "metadata": {
        "id": "OnmWKJy4o1x8"
      },
      "source": [
        "## Dane z ekspresji genów"
      ]
    },
    {
      "cell_type": "markdown",
      "metadata": {
        "id": "-bJef1mho1x8"
      },
      "source": [
        "Naszym ostatnim zbiorem będzie [GSE14520](https://www.ncbi.nlm.nih.gov/geo/query/acc.cgi?acc=GSE14520), opublikowany przez [SBCB Lab](https://sbcb.inf.ufrgs.br/cumida)). Jest to zbiór ekspresji genów z sekwencjonowania RNA, zebrany na potrzeby artykułu:\n",
        "\n",
        "> Feltes, B.C.; Chandelier, E.B.; Grisci, B.I.; Dorn, M. (2019) *\"CuMiDa: An Extensively Curated Microarray Database for Benchmarking and Testing of Machine Learning Approaches in Cancer Research\"*. Journal of Computational Biology, 26 (4), 376-386. [link](https://sci-hub.se/10.1089/cmb.2018.0238)\n",
        "\n",
        "Dane o ekspresji DNA pozwalają na analizę genetyczną i związku pomiędzy genomem pacjenta a podatnością na choroby. Jest to szczególnie istotne w kontekście nowotworów, gdyż wiele ich typów powstaje przez błędy właśnie w procesie ekspresji genów. Mikromacierze (microarrays) służą do przetwarzania i analizy danych dużej skali w genetyce i dostarczają danych o ogromnej liczbie danych pacjenta. Oczywiście samo gromadzenie próbek, gdzie każdą jest osobny pacjent, jest bardzo drogie. Daje to zbiory danych o bardzo małej liczbie próbek, nawet zaledwie kilkudziesięciu czy kilkuset, a za to dziesiątki tysięcy cech.\n",
        "\n",
        "Zbiór CuMiDa zawiera 78 zbiorów danych, wybranych z bazy GEO (Gene Expression Omnibus) i poddanych preprocessingowi, np. normalizacji danych pomiędzy płytkami pomiarowymi różnych typów. Wynikowe zadania dotyczą klasyfikacji czy detekcji nowotworu na podstawie analizy genomu pacjenta. Cechy w zbiorach danych dotyczą siły ekspresji poszczególnych genów, a konkretnie znormalizowanej wartości - czy gen jest słabiej, czy silniej wykazywany u danej osoby względem grupy kontrolnej. Są one na etapie preprocessingu standaryzowane do z-score (odjęcie średniej, podzielenie przez odchylenie standardowe), co skutkuje danymi o podobnej skali, bardziej zbliżonym rozkładzie, i pozwala porównywać ze sobą dane poszczególnych pacjentów.\n",
        "\n",
        "Użyjemy zbioru GSE 14520, który jest największym z kolekcji CuMiDa i zawiera 357 próbek oraz 22278 genów. Dotyczy klasyfikacji tkanek nowotoworowych (klasa pozytywna) vs zdrowych (klasa negatywna) dla raka wątrobowokomórkowowego wątroby (hepatocellular carcinoma, HCC). Jest to często występujący, a przy tym bardzo złośliwy nowotwór (trzeci najbardziej śmiertelny), będący często skutkiem innych chorób wątroby.\n",
        "\n",
        "Na start wczytamy dane, sprawdzimy rozkład klas, oraz zwizualizujemy rozkłady kilku przykładowych cech."
      ]
    },
    {
      "cell_type": "code",
      "execution_count": 10,
      "metadata": {
        "colab": {
          "base_uri": "https://localhost:8080/",
          "height": 569
        },
        "id": "Vl6RKdUYo1x9",
        "outputId": "16018138-84b6-4cbc-b14d-7b2e2ebfd82e"
      },
      "outputs": [
        {
          "output_type": "display_data",
          "data": {
            "text/plain": [
              "<Figure size 1200x200 with 5 Axes>"
            ],
            "image/png": "[encoded data removed]"
          },
          "metadata": {}
        },
        {
          "output_type": "execute_result",
          "data": {
            "text/plain": [
              "<Axes: title={'center': 'Class distribution'}, xlabel='type'>"
            ]
          },
          "metadata": {},
          "execution_count": 10
        },
        {
          "output_type": "display_data",
          "data": {
            "text/plain": [
              "<Figure size 300x300 with 1 Axes>"
            ],
            "image/png": "[encoded data removed]"
          },
          "metadata": {}
        }
      ],
      "source": [
        "df = pd.read_csv(\"sample_data/Liver_GSE14520_U133A.csv\")\n",
        "\n",
        "y = df[\"type\"].map({\"normal\": 0, \"HCC\": 1})\n",
        "df = df.drop(columns=[\"samples\", \"type\"])\n",
        "\n",
        "fig, ax = plt.subplots(1, 5, figsize=(12, 2))\n",
        "for i in range(5):\n",
        "    df.hist(column=df.columns[i], ax=ax[i])\n",
        "\n",
        "plt.show()\n",
        "\n",
        "pd.Series(y).value_counts().plot.bar(title=\"Class distribution\", rot=0, figsize=(3, 3))"
      ]
    },
    {
      "cell_type": "markdown",
      "metadata": {
        "id": "dl_GOHAQo1x9"
      },
      "source": [
        "**Zadanie 6 (1 punkt)**\n",
        "\n",
        "Ze względu na niewielki rozmiar takich zbiorów, walidacji skrośnej używa się **do testowania**. Podział na zbiór treningowy i testowany jest wykonywany na kolejnych foldach. Dla ekstremalnie małych zbiorów można też wykorzystać **Leave-One-Out Cross-Validation (LOOCV)**, gdzie zbiór testowy to jedna próbka naraz. W razie potrzeby tuningu hiperparametrów można też wykonać wewnętrzną walidację skrośną na aktualnym foldzie treningowym - technikę tę nazywamy **nested cross-validation (nested CV)**.\n",
        "\n",
        "1. Dokonaj podziału na zbiór treningowy i testowy z pomocą 3-fold CV (klasa [KFold](https://scikit-learn.org/stable/modules/generated/sklearn.model_selection.KFold.html)), analogicznie do oryginalnego artykułu. Wykorzystaj losową kolejność (`shuffle=True`) oraz stały `random_state=0`.\n",
        "2. Wytrenuj klasyfikator [GaussianNB](https://scikit-learn.org/stable/modules/generated/sklearn.naive_bayes.GaussianNB.html).\n",
        "3. Dokonaj walidacji na zbiorach testowych, wykorzystując celność (accuracy).\n",
        "4. Wypisz wartość średnią (w procentach) celności na danych testowych, oraz odchylenie standardowe, oba zaokrąglone do 2 miejsca po przecinku.\n",
        "5. Zmierz czas dla całości procesu, np. z pomocą modułu `time` lub biblioteki `tqdm`.\n",
        "6. Porównaj wyniki z oficjalnymi podanymi [na stronie SBCB Lab](https://sbcb.inf.ufrgs.br/cumida) dla tego zbioru danych - jak dobrze radzi sobie klasyfikator Naiwnego Bayesa?"
      ]
    },
    {
      "cell_type": "code",
      "execution_count": 14,
      "metadata": {
        "scrolled": true,
        "id": "vBVeYplLo1x9",
        "colab": {
          "base_uri": "https://localhost:8080/"
        },
        "outputId": "c680b903-7c23-4021-b01d-6f6893fac7b9"
      },
      "outputs": [
        {
          "output_type": "stream",
          "name": "stdout",
          "text": [
            "Mean accuracy: 95.80%\n",
            "Standard deviation: 1.19%\n",
            "Elapsed time: 1.08 seconds\n"
          ]
        }
      ],
      "source": [
        "from sklearn.metrics import accuracy_score\n",
        "from sklearn.model_selection import KFold\n",
        "from sklearn.naive_bayes import GaussianNB\n",
        "import numpy as np\n",
        "import time\n",
        "\n",
        "scores = []\n",
        "kf = KFold(n_splits=3, shuffle=True, random_state=0)\n",
        "model = GaussianNB()\n",
        "\n",
        "start_time = time.time()\n",
        "for train_idx, test_idx in kf.split(df):\n",
        "    X_train, X_test = df.iloc[train_idx], df.iloc[test_idx]\n",
        "    y_train, y_test = y.iloc[train_idx], y.iloc[test_idx]\n",
        "\n",
        "    model.fit(X_train, y_train)\n",
        "    preds = model.predict(X_test)\n",
        "    scores.append(accuracy_score(y_test, preds))\n",
        "\n",
        "elapsed = time.time() - start_time\n",
        "\n",
        "mean_acc = np.mean(scores)\n",
        "std_acc = np.std(scores)\n",
        "\n",
        "print(f\"Mean accuracy: {mean_acc * 100:.2f}%\")\n",
        "print(f\"Standard deviation: {std_acc * 100:.2f}%\")\n",
        "print(f\"Elapsed time: {elapsed:.2f} seconds\")"
      ]
    },
    {
      "cell_type": "markdown",
      "metadata": {
        "id": "g4giVQiYo1yA"
      },
      "source": [
        "// skomentuj tutaj\n",
        "\n",
        "Na zbiorze GSE14520 klasyfikator Naive Bayes osiąga bardzo wysoką skuteczność, porównywalną z wynikami raportowanymi w CuMiDa — zwłaszcza biorąc pod uwagę, że tamte mogły być lekko zawyżone przez zaokrąglenie. Niewielkie odchylenie standardowe pokazuje, że model działa stabilnie niezależnie od podziału danych. To zaskakująco dobry rezultat, szczególnie jak na tak prostą i mało złożoną metodę."
      ]
    },
    {
      "cell_type": "markdown",
      "metadata": {
        "id": "22PLHtlao1yB"
      },
      "source": [
        "Skoro mamy dobrze działający klasyfikator, to warto dobrze zrozumieć, jak działa pod spodem. Jest to też doskonała okazja, żeby nauczyć się, jak tworzyć własne klasyfikatory zgodne z API scikit-learn. Robi się w skrócie to tak ([dokładny tutorial](https://scikit-learn.org/stable/developers/develop.html)):\n",
        "1. Tworzymy klasę dziedziczącą po `BaseEstimator`, `ClassifierMixin` oraz ewentualnie innych klasach, które nas interesują.\n",
        "2. Wszystkie hiperparametry są argumentami konstruktora. Każdy jest przypisywany, bez żadnych zmian, do atrybutu o dokładnie tej samej nazwie.\n",
        "3. Implementujemy metody `.fit(X, y)`,`.predict(X)`, oraz ewentualnie `.predict_proba(X)`.\n",
        "4. Metoda `.fit()` musi zwracać `self`, a estymowane parametry przypisuje jako atrybuty (tworzone w `.fit()`) z underscore na końcu, np. `.weights_`. Często wywołuje się `np.asarray()` na `X` i `y`, żeby upewnić się, że będą to macierze NumPy'a.\n",
        "5. Na początku metody `.fit(X, y)` używamy funkcji `check_X_y()`, żeby dokonać podstawowej walidacji wejścia. Na początku metody `.predict(X)` analogicznie używamy funkcji `check_array()` na wejściu `X`.\n",
        "\n",
        "Taki interfejs gwarantuje, że nasz własny model będzie mógł być używany np. w `GridSearchCV`.\n",
        "\n",
        "**Zadanie 7 (3 punkty)**\n",
        "\n",
        "Uzupełnij implementację własnej klasy `CustomGaussianNB`, która będzie realizować Naiwnego Bayesa dla rozkładu normalnego.\n",
        "\n",
        "1. Zakładamy, że klasy są liczbami całkowitymi, z wartościami `[0, 1, ..., liczba klas - 1]`.\n",
        "2. Rozkład a priori (prior) dla każdej klasy to proporcja tej klasy w zbiorze treningowym. Naive Bayes używa log-sum-exp trick, więc można od razu obliczyć logarytm i zapisać log-prior.\n",
        "3. Gaussian NB zakłada, że każda cecha w obrębie klasy ma rozkład normalny. Opisują go dwa parametry: średnia i wariancja. Będziemy więc mieli `2*K` parametrów dla `K` klas. Trzeba je wyestymować w metodzie `.fit()` i zapisać jako macierze parametrów, np. `.means_` i `.variances_`.\n",
        "4. Do wariancji klas dodaj niewielką stałą, żeby uniknąć problemów numerycznych, np. 1e-9. Scikit-learn nazywa to `var_smoothing`.\n",
        "5. Podczas predykcji trzeba wybrać klasę o najwyższej wiarygodności. Dla każdego z przykładów obliczamy log-likelihood dla każdej klasy, dodajemy log-prior klasy, i w ten sposób otrzymujemy wartość rozkładu a posteriori (posterior). Zgodnie z zasadą maximum a posteriori (MAP), wybieramy klasę o najwyższej z tych wartości.\n",
        "6. Pamiętaj, żeby użyć prawidłowo metod gwarantujących zgodność ze scikit-learn, jak opisano powyżej.\n",
        "7. Przetestuj klasę na przykładzie zbioru użytego w zadaniu 6. Wynik powinien być identyczny z tym ze scikit-learn.\n",
        "\n",
        "Dla uproszczenia, nie będziemy się tutaj zajmować metodą `.predict_proba()`. Jej implementacja to stosunkowo niewielka adaptacja metody `.predict()`."
      ]
    },
    {
      "cell_type": "code",
      "execution_count": 15,
      "metadata": {
        "id": "yYoumeFmo1yB"
      },
      "outputs": [],
      "source": [
        "from sklearn.base import BaseEstimator, ClassifierMixin\n",
        "from sklearn.utils import check_array, check_X_y\n",
        "\n",
        "class CustomGaussianNB(BaseEstimator, ClassifierMixin):\n",
        "    def fit(self, X, y):\n",
        "        X, y = check_X_y(X, y)\n",
        "        self.classes_ = np.unique(y)\n",
        "        n_classes = len(self.classes_)\n",
        "        n_features = X.shape[1]\n",
        "\n",
        "        self.log_priors_ = np.zeros(n_classes)\n",
        "        self.means_ = np.zeros((n_classes, n_features))\n",
        "        self.variances_ = np.zeros((n_classes, n_features))\n",
        "\n",
        "        for cls in self.classes_:\n",
        "            X_cls = X[y == cls]\n",
        "            self.log_priors_[cls] = np.log(len(X_cls) / len(X))\n",
        "            self.means_[cls] = X_cls.mean(axis=0)\n",
        "            self.variances_[cls] = X_cls.var(axis=0) + 1e-9  # var_smoothing\n",
        "\n",
        "        return self\n",
        "\n",
        "    def predict(self, X):\n",
        "        X = check_array(X)\n",
        "        preds = [self._single_sample_predict(x) for x in X]\n",
        "        return np.array(preds)\n",
        "\n",
        "    def _single_sample_predict(self, x):\n",
        "        class_scores = np.empty(len(self.classes_))\n",
        "\n",
        "        for cls in self.classes_:\n",
        "            log_prior = self.log_priors_[cls]\n",
        "            mean = self.means_[cls]\n",
        "            var = self.variances_[cls]\n",
        "\n",
        "            # log-likelihood under Gaussian assumption\n",
        "            log_likelihood = -0.5 * np.sum(\n",
        "                np.log(2 * np.pi * var) + ((x - mean) ** 2) / var\n",
        "            )\n",
        "\n",
        "            class_scores[cls] = log_prior + log_likelihood\n",
        "\n",
        "        return np.argmax(class_scores)\n"
      ]
    },
    {
      "cell_type": "code",
      "execution_count": 19,
      "metadata": {
        "scrolled": true,
        "id": "2Flyk7KAo1yB",
        "colab": {
          "base_uri": "https://localhost:8080/"
        },
        "outputId": "686fc60b-4969-4b9c-97c7-3b29df18a88f"
      },
      "outputs": [
        {
          "output_type": "stream",
          "name": "stdout",
          "text": [
            "Mean accuracy: 95.80%\n",
            "Standard deviation: 1.19%\n",
            "Elapsed time: 2.04 seconds\n"
          ]
        }
      ],
      "source": [
        "# test your class!\n",
        "scores = []\n",
        "kf = KFold(n_splits=3, shuffle=True, random_state=0)\n",
        "model = CustomGaussianNB()\n",
        "\n",
        "start_time = time.time()\n",
        "for train_idx, test_idx in kf.split(df):\n",
        "    X_train, X_test = df.iloc[train_idx], df.iloc[test_idx]\n",
        "    y_train, y_test = y.iloc[train_idx], y.iloc[test_idx]\n",
        "\n",
        "    model.fit(X_train.values, y_train.values)\n",
        "    preds = model.predict(X_test.values)\n",
        "    scores.append(accuracy_score(y_test, preds))\n",
        "\n",
        "elapsed = time.time() - start_time\n",
        "\n",
        "mean_acc = np.mean(scores)\n",
        "std_acc = np.std(scores)\n",
        "\n",
        "print(f\"Mean accuracy: {mean_acc * 100:.2f}%\")\n",
        "print(f\"Standard deviation: {std_acc * 100:.2f}%\")\n",
        "print(f\"Elapsed time: {elapsed:.2f} seconds\")\n"
      ]
    },
    {
      "cell_type": "markdown",
      "metadata": {
        "id": "MXfv7JNio1yB"
      },
      "source": [
        "// skomentuj tutaj\n",
        "\n",
        "jest taki sam"
      ]
    },
    {
      "cell_type": "markdown",
      "metadata": {
        "id": "fY2YCmkjo1yB"
      },
      "source": [
        "## Zadanie dodatkowe (3 punkty)\n",
        "\n",
        "Zamiast zakładać konkretny rozkład prawdopodobieństwa dla zmiennych w Naiwnym Bayesie, możemy wprost estymować go z danych treningowych. Takie nieparametryczne podejście z estymacją rozkładu z danych nazywamy kernel density estimation (KDE), a klasyfikator KDE Naive Bayes. Został on opisany na slajdach bonusowych na prezentacji z zajęć.\n",
        "\n",
        "1. Zaimplementuj KDE Naive Bayes. Dla każdej zmiennej wytrenuj instancję [KernelDensity](https://scikit-learn.org/stable/modules/generated/sklearn.neighbors.KernelDensity.html). Podczas predykcji użyj metody `.score_samples()`, która zwróci log-likelihoods próbek. Obliczanie log-prior nie ulega zmianie, jedyna zmiana to sposób obliczania log-likelihoods.\n",
        "2. W metodzie `__init__()` klasa przyjmuje argument `bandwidth` z wartością domyślną 1.0, który będzie parametrem estymatora KDE. Wyznacza on szerokość kernela przy estymacji rozkładu, czyli jego \"gładkość\". Wąskie kernele mają większą wariancję, ale też są bardziej elastyczne.\n",
        "3. Wytrenuj KDE Naive Bayes na wybranych 2-3 zbiorach z kolekcji CuMiDa. Porównaj wyniki z Gaussian NB. Dokonaj tuningu parametru `bandwidth`, zazwyczaj jego zmniejszenie bywa pomocne.\n",
        "4. Skomentuj wyniki.\n"
      ]
    },
    {
      "cell_type": "code",
      "execution_count": null,
      "metadata": {
        "id": "Ay4uqXQco1yB"
      },
      "outputs": [],
      "source": [
        "from sklearn.base import BaseEstimator, ClassifierMixin\n",
        "from sklearn.neighbors import KernelDensity\n",
        "from sklearn.utils import check_array, check_X_y\n",
        "\n",
        "\n",
        "class KernelDensityEstimationNB(BaseEstimator, ClassifierMixin):\n",
        "    \"\"\"\n",
        "    Naive Bayes with KDE estimation of feature distributions.\n",
        "\n",
        "    Parameters\n",
        "    ----------\n",
        "    bandwidth : float\n",
        "        Kernel bandwidth\n",
        "    \"\"\"\n",
        "\n",
        "    def __init__(self, bandwidth: float = 1.0):\n",
        "        self.bandwidth = bandwidth\n",
        "\n",
        "    def fit(self, X, y):\n",
        "        ...\n",
        "\n",
        "    def predict(self, X):\n",
        "        ...\n"
      ]
    }
  ],
  "metadata": {
    "kernelspec": {
      "display_name": "Python 3 (ipykernel)",
      "language": "python",
      "name": "python3"
    },
    "language_info": {
      "codemirror_mode": {
        "name": "ipython",
        "version": 3
      },
      "file_extension": ".py",
      "mimetype": "text/x-python",
      "name": "python",
      "nbconvert_exporter": "python",
      "pygments_lexer": "ipython3",
      "version": "3.11.12"
    },
    "colab": {
      "provenance": []
    }
  },
  "nbformat": 4,
  "nbformat_minor": 0
}