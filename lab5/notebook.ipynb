{
  "cells": [
    {
      "cell_type": "markdown",
      "metadata": {
        "id": "yyGXrT7ApMdt"
      },
      "source": [
        "# Klasyfikacja niezbalansowana i anomaly detection"
      ]
    },
    {
      "cell_type": "markdown",
      "metadata": {
        "id": "PBb-hFfPpMdu"
      },
      "source": [
        "Poza standardowymi narzędziami do klasyfikacji tabelarycznej użyjemy bibliotek:\n",
        "1. [Imbalanced-learn](https://imbalanced-learn.org/stable/index.html) - biblioteka implementująca różne algorytmy undersamplingu i oversamplingu\n",
        "2. [PyOD](https://pyod.readthedocs.io/en/latest/index.html) - biblioteka implementująca mnóstwo algorytmów outlier detection\n",
        "3. [XGBoost](https://xgboost.readthedocs.io/en/stable/) - oficjalna implementacja algorytmu XGBoost"
      ]
    },
    {
      "cell_type": "code",
      "execution_count": null,
      "metadata": {
        "id": "ZX-AcpIepMdu"
      },
      "outputs": [],
      "source": [
        "import pandas as pd"
      ]
    },
    {
      "cell_type": "markdown",
      "metadata": {
        "id": "haXrHJYapMdv"
      },
      "source": [
        "## Klasyfikacja umiarkowanie niezbalansowana"
      ]
    },
    {
      "cell_type": "markdown",
      "metadata": {
        "id": "5w9G10hTpMdv"
      },
      "source": [
        "Najpierw wykorzystamy zbiór danych [Polish companies bankruptcy](https://archive.ics.uci.edu/ml/datasets/Polish+companies+bankruptcy+data). Dotyczy on klasyfikacji, na podstawie danych z raportów finansowych, czy firma zbankrutuje w ciągu najbliższych kilku lat. Jest to zadanie szczególnie istotne dla banków, funduszy inwestycyjnych, firm ubezpieczeniowych itp., które z tego powodu zatrudniają licznie data scientistów. Zbiór zawiera 64 cechy, obliczone przez ekonomistów, którzy stworzyli ten zbiór, opisane na stronie UCI.\n",
        "\n",
        "Wykorzystamy podzbiór, w którym na podstawie finansowych firmy po 3 latach monitorowania chcemy przewidywać, czy firma zbankrutuje w ciągu najbliższych 3 lat. Jest to dość realistyczny horyzont czasowy, a przy tym największy z podzbiorów."
      ]
    },
    {
      "cell_type": "code",
      "execution_count": null,
      "metadata": {
        "colab": {
          "base_uri": "https://localhost:8080/",
          "height": 255
        },
        "id": "bljJgHxEpMdv",
        "outputId": "562487f7-061c-4715-c39d-48872b46cea5"
      },
      "outputs": [
        {
          "output_type": "execute_result",
          "data": {
            "text/plain": [
              "      Attr1    Attr2    Attr3   Attr4    Attr5    Attr6     Attr7   Attr8  \\\n",
              "0  0.174190  0.41299  0.14371  1.3480 -28.9820  0.60383  0.219460  1.1225   \n",
              "1  0.146240  0.46038  0.28230  1.6294   2.5952  0.00000  0.171850  1.1721   \n",
              "2  0.000595  0.22612  0.48839  3.1599  84.8740  0.19114  0.004572  2.9881   \n",
              "3  0.024526  0.43236  0.27546  1.7833 -10.1050  0.56944  0.024526  1.3057   \n",
              "4  0.188290  0.41504  0.34231  1.9279 -58.2740  0.00000  0.233580  1.4094   \n",
              "\n",
              "    Attr9   Attr10  ...    Attr55    Attr56    Attr57   Attr58    Attr59  \\\n",
              "0  1.1961  0.46359  ...  127280.0  0.163960  0.375740  0.83604  0.000007   \n",
              "1  1.6018  0.53962  ...    3387.8  0.027516  0.271000  0.90108  0.000000   \n",
              "2  1.0077  0.67566  ...   20453.0  0.007639  0.000881  0.99236  0.000000   \n",
              "3  1.0509  0.56453  ...    5012.6  0.048398  0.043445  0.95160  0.142980   \n",
              "4  1.3393  0.58496  ...   13730.0  0.176480  0.321880  0.82635  0.073039   \n",
              "\n",
              "   Attr60  Attr61   Attr62  Attr63  Attr64  \n",
              "0  9.7145  6.2813   84.291  4.3303  4.0341  \n",
              "1  5.9882  4.1103  102.190  3.5716  5.9500  \n",
              "2  6.7742  3.7922   64.846  5.6287  4.4581  \n",
              "3  4.2286  5.0528   98.783  3.6950  3.4844  \n",
              "4  2.5912  7.0756  100.540  3.6303  4.6375  \n",
              "\n",
              "[5 rows x 64 columns]"
            ],
            "text/html": [
              "\n",
              "  <div id=\"df-f4ead230-1444-454a-888e-40edae22e060\" class=\"colab-df-container\">\n",
              "    <div>\n",
              "<style scoped>\n",
              "    .dataframe tbody tr th:only-of-type {\n",
              "        vertical-align: middle;\n",
              "    }\n",
              "\n",
              "    .dataframe tbody tr th {\n",
              "        vertical-align: top;\n",
              "    }\n",
              "\n",
              "    .dataframe thead th {\n",
              "        text-align: right;\n",
              "    }\n",
              "</style>\n",
              "<table border=\"1\" class=\"dataframe\">\n",
              "  <thead>\n",
              "    <tr style=\"text-align: right;\">\n",
              "      <th></th>\n",
              "      <th>Attr1</th>\n",
              "      <th>Attr2</th>\n",
              "      <th>Attr3</th>\n",
              "      <th>Attr4</th>\n",
              "      <th>Attr5</th>\n",
              "      <th>Attr6</th>\n",
              "      <th>Attr7</th>\n",
              "      <th>Attr8</th>\n",
              "      <th>Attr9</th>\n",
              "      <th>Attr10</th>\n",
              "      <th>...</th>\n",
              "      <th>Attr55</th>\n",
              "      <th>Attr56</th>\n",
              "      <th>Attr57</th>\n",
              "      <th>Attr58</th>\n",
              "      <th>Attr59</th>\n",
              "      <th>Attr60</th>\n",
              "      <th>Attr61</th>\n",
              "      <th>Attr62</th>\n",
              "      <th>Attr63</th>\n",
              "      <th>Attr64</th>\n",
              "    </tr>\n",
              "  </thead>\n",
              "  <tbody>\n",
              "    <tr>\n",
              "      <th>0</th>\n",
              "      <td>0.174190</td>\n",
              "      <td>0.41299</td>\n",
              "      <td>0.14371</td>\n",
              "      <td>1.3480</td>\n",
              "      <td>-28.9820</td>\n",
              "      <td>0.60383</td>\n",
              "      <td>0.219460</td>\n",
              "      <td>1.1225</td>\n",
              "      <td>1.1961</td>\n",
              "      <td>0.46359</td>\n",
              "      <td>...</td>\n",
              "      <td>127280.0</td>\n",
              "      <td>0.163960</td>\n",
              "      <td>0.375740</td>\n",
              "      <td>0.83604</td>\n",
              "      <td>0.000007</td>\n",
              "      <td>9.7145</td>\n",
              "      <td>6.2813</td>\n",
              "      <td>84.291</td>\n",
              "      <td>4.3303</td>\n",
              "      <td>4.0341</td>\n",
              "    </tr>\n",
              "    <tr>\n",
              "      <th>1</th>\n",
              "      <td>0.146240</td>\n",
              "      <td>0.46038</td>\n",
              "      <td>0.28230</td>\n",
              "      <td>1.6294</td>\n",
              "      <td>2.5952</td>\n",
              "      <td>0.00000</td>\n",
              "      <td>0.171850</td>\n",
              "      <td>1.1721</td>\n",
              "      <td>1.6018</td>\n",
              "      <td>0.53962</td>\n",
              "      <td>...</td>\n",
              "      <td>3387.8</td>\n",
              "      <td>0.027516</td>\n",
              "      <td>0.271000</td>\n",
              "      <td>0.90108</td>\n",
              "      <td>0.000000</td>\n",
              "      <td>5.9882</td>\n",
              "      <td>4.1103</td>\n",
              "      <td>102.190</td>\n",
              "      <td>3.5716</td>\n",
              "      <td>5.9500</td>\n",
              "    </tr>\n",
              "    <tr>\n",
              "      <th>2</th>\n",
              "      <td>0.000595</td>\n",
              "      <td>0.22612</td>\n",
              "      <td>0.48839</td>\n",
              "      <td>3.1599</td>\n",
              "      <td>84.8740</td>\n",
              "      <td>0.19114</td>\n",
              "      <td>0.004572</td>\n",
              "      <td>2.9881</td>\n",
              "      <td>1.0077</td>\n",
              "      <td>0.67566</td>\n",
              "      <td>...</td>\n",
              "      <td>20453.0</td>\n",
              "      <td>0.007639</td>\n",
              "      <td>0.000881</td>\n",
              "      <td>0.99236</td>\n",
              "      <td>0.000000</td>\n",
              "      <td>6.7742</td>\n",
              "      <td>3.7922</td>\n",
              "      <td>64.846</td>\n",
              "      <td>5.6287</td>\n",
              "      <td>4.4581</td>\n",
              "    </tr>\n",
              "    <tr>\n",
              "      <th>3</th>\n",
              "      <td>0.024526</td>\n",
              "      <td>0.43236</td>\n",
              "      <td>0.27546</td>\n",
              "      <td>1.7833</td>\n",
              "      <td>-10.1050</td>\n",
              "      <td>0.56944</td>\n",
              "      <td>0.024526</td>\n",
              "      <td>1.3057</td>\n",
              "      <td>1.0509</td>\n",
              "      <td>0.56453</td>\n",
              "      <td>...</td>\n",
              "      <td>5012.6</td>\n",
              "      <td>0.048398</td>\n",
              "      <td>0.043445</td>\n",
              "      <td>0.95160</td>\n",
              "      <td>0.142980</td>\n",
              "      <td>4.2286</td>\n",
              "      <td>5.0528</td>\n",
              "      <td>98.783</td>\n",
              "      <td>3.6950</td>\n",
              "      <td>3.4844</td>\n",
              "    </tr>\n",
              "    <tr>\n",
              "      <th>4</th>\n",
              "      <td>0.188290</td>\n",
              "      <td>0.41504</td>\n",
              "      <td>0.34231</td>\n",
              "      <td>1.9279</td>\n",
              "      <td>-58.2740</td>\n",
              "      <td>0.00000</td>\n",
              "      <td>0.233580</td>\n",
              "      <td>1.4094</td>\n",
              "      <td>1.3393</td>\n",
              "      <td>0.58496</td>\n",
              "      <td>...</td>\n",
              "      <td>13730.0</td>\n",
              "      <td>0.176480</td>\n",
              "      <td>0.321880</td>\n",
              "      <td>0.82635</td>\n",
              "      <td>0.073039</td>\n",
              "      <td>2.5912</td>\n",
              "      <td>7.0756</td>\n",
              "      <td>100.540</td>\n",
              "      <td>3.6303</td>\n",
              "      <td>4.6375</td>\n",
              "    </tr>\n",
              "  </tbody>\n",
              "</table>\n",
              "<p>5 rows × 64 columns</p>\n",
              "</div>\n",
              "    <div class=\"colab-df-buttons\">\n",
              "\n",
              "  <div class=\"colab-df-container\">\n",
              "    <button class=\"colab-df-convert\" onclick=\"convertToInteractive('df-f4ead230-1444-454a-888e-40edae22e060')\"\n",
              "            title=\"Convert this dataframe to an interactive table.\"\n",
              "            style=\"display:none;\">\n",
              "\n",
              "  <svg xmlns=\"http://www.w3.org/2000/svg\" height=\"24px\" viewBox=\"0 -960 960 960\">\n",
              "    <path d=\"M120-120v-720h720v720H120Zm60-500h600v-160H180v160Zm220 220h160v-160H400v160Zm0 220h160v-160H400v160ZM180-400h160v-160H180v160Zm440 0h160v-160H620v160ZM180-180h160v-160H180v160Zm440 0h160v-160H620v160Z\"/>\n",
              "  </svg>\n",
              "    </button>\n",
              "\n",
              "  <style>\n",
              "    .colab-df-container {\n",
              "      display:flex;\n",
              "      gap: 12px;\n",
              "    }\n",
              "\n",
              "    .colab-df-convert {\n",
              "      background-color: #E8F0FE;\n",
              "      border: none;\n",
              "      border-radius: 50%;\n",
              "      cursor: pointer;\n",
              "      display: none;\n",
              "      fill: #1967D2;\n",
              "      height: 32px;\n",
              "      padding: 0 0 0 0;\n",
              "      width: 32px;\n",
              "    }\n",
              "\n",
              "    .colab-df-convert:hover {\n",
              "      background-color: #E2EBFA;\n",
              "      box-shadow: 0px 1px 2px rgba(60, 64, 67, 0.3), 0px 1px 3px 1px rgba(60, 64, 67, 0.15);\n",
              "      fill: #174EA6;\n",
              "    }\n",
              "\n",
              "    .colab-df-buttons div {\n",
              "      margin-bottom: 4px;\n",
              "    }\n",
              "\n",
              "    [theme=dark] .colab-df-convert {\n",
              "      background-color: #3B4455;\n",
              "      fill: #D2E3FC;\n",
              "    }\n",
              "\n",
              "    [theme=dark] .colab-df-convert:hover {\n",
              "      background-color: #434B5C;\n",
              "      box-shadow: 0px 1px 3px 1px rgba(0, 0, 0, 0.15);\n",
              "      filter: drop-shadow(0px 1px 2px rgba(0, 0, 0, 0.3));\n",
              "      fill: #FFFFFF;\n",
              "    }\n",
              "  </style>\n",
              "\n",
              "    <script>\n",
              "      const buttonEl =\n",
              "        document.querySelector('#df-f4ead230-1444-454a-888e-40edae22e060 button.colab-df-convert');\n",
              "      buttonEl.style.display =\n",
              "        google.colab.kernel.accessAllowed ? 'block' : 'none';\n",
              "\n",
              "      async function convertToInteractive(key) {\n",
              "        const element = document.querySelector('#df-f4ead230-1444-454a-888e-40edae22e060');\n",
              "        const dataTable =\n",
              "          await google.colab.kernel.invokeFunction('convertToInteractive',\n",
              "                                                    [key], {});\n",
              "        if (!dataTable) return;\n",
              "\n",
              "        const docLinkHtml = 'Like what you see? Visit the ' +\n",
              "          '<a target=\"_blank\" href=https://colab.research.google.com/notebooks/data_table.ipynb>data table notebook</a>'\n",
              "          + ' to learn more about interactive tables.';\n",
              "        element.innerHTML = '';\n",
              "        dataTable['output_type'] = 'display_data';\n",
              "        await google.colab.output.renderOutput(dataTable, element);\n",
              "        const docLink = document.createElement('div');\n",
              "        docLink.innerHTML = docLinkHtml;\n",
              "        element.appendChild(docLink);\n",
              "      }\n",
              "    </script>\n",
              "  </div>\n",
              "\n",
              "\n",
              "    <div id=\"df-a515bb55-0696-4049-9cc2-e74c49ca6bbd\">\n",
              "      <button class=\"colab-df-quickchart\" onclick=\"quickchart('df-a515bb55-0696-4049-9cc2-e74c49ca6bbd')\"\n",
              "                title=\"Suggest charts\"\n",
              "                style=\"display:none;\">\n",
              "\n",
              "<svg xmlns=\"http://www.w3.org/2000/svg\" height=\"24px\"viewBox=\"0 0 24 24\"\n",
              "     width=\"24px\">\n",
              "    <g>\n",
              "        <path d=\"M19 3H5c-1.1 0-2 .9-2 2v14c0 1.1.9 2 2 2h14c1.1 0 2-.9 2-2V5c0-1.1-.9-2-2-2zM9 17H7v-7h2v7zm4 0h-2V7h2v10zm4 0h-2v-4h2v4z\"/>\n",
              "    </g>\n",
              "</svg>\n",
              "      </button>\n",
              "\n",
              "<style>\n",
              "  .colab-df-quickchart {\n",
              "      --bg-color: #E8F0FE;\n",
              "      --fill-color: #1967D2;\n",
              "      --hover-bg-color: #E2EBFA;\n",
              "      --hover-fill-color: #174EA6;\n",
              "      --disabled-fill-color: #AAA;\n",
              "      --disabled-bg-color: #DDD;\n",
              "  }\n",
              "\n",
              "  [theme=dark] .colab-df-quickchart {\n",
              "      --bg-color: #3B4455;\n",
              "      --fill-color: #D2E3FC;\n",
              "      --hover-bg-color: #434B5C;\n",
              "      --hover-fill-color: #FFFFFF;\n",
              "      --disabled-bg-color: #3B4455;\n",
              "      --disabled-fill-color: #666;\n",
              "  }\n",
              "\n",
              "  .colab-df-quickchart {\n",
              "    background-color: var(--bg-color);\n",
              "    border: none;\n",
              "    border-radius: 50%;\n",
              "    cursor: pointer;\n",
              "    display: none;\n",
              "    fill: var(--fill-color);\n",
              "    height: 32px;\n",
              "    padding: 0;\n",
              "    width: 32px;\n",
              "  }\n",
              "\n",
              "  .colab-df-quickchart:hover {\n",
              "    background-color: var(--hover-bg-color);\n",
              "    box-shadow: 0 1px 2px rgba(60, 64, 67, 0.3), 0 1px 3px 1px rgba(60, 64, 67, 0.15);\n",
              "    fill: var(--button-hover-fill-color);\n",
              "  }\n",
              "\n",
              "  .colab-df-quickchart-complete:disabled,\n",
              "  .colab-df-quickchart-complete:disabled:hover {\n",
              "    background-color: var(--disabled-bg-color);\n",
              "    fill: var(--disabled-fill-color);\n",
              "    box-shadow: none;\n",
              "  }\n",
              "\n",
              "  .colab-df-spinner {\n",
              "    border: 2px solid var(--fill-color);\n",
              "    border-color: transparent;\n",
              "    border-bottom-color: var(--fill-color);\n",
              "    animation:\n",
              "      spin 1s steps(1) infinite;\n",
              "  }\n",
              "\n",
              "  @keyframes spin {\n",
              "    0% {\n",
              "      border-color: transparent;\n",
              "      border-bottom-color: var(--fill-color);\n",
              "      border-left-color: var(--fill-color);\n",
              "    }\n",
              "    20% {\n",
              "      border-color: transparent;\n",
              "      border-left-color: var(--fill-color);\n",
              "      border-top-color: var(--fill-color);\n",
              "    }\n",
              "    30% {\n",
              "      border-color: transparent;\n",
              "      border-left-color: var(--fill-color);\n",
              "      border-top-color: var(--fill-color);\n",
              "      border-right-color: var(--fill-color);\n",
              "    }\n",
              "    40% {\n",
              "      border-color: transparent;\n",
              "      border-right-color: var(--fill-color);\n",
              "      border-top-color: var(--fill-color);\n",
              "    }\n",
              "    60% {\n",
              "      border-color: transparent;\n",
              "      border-right-color: var(--fill-color);\n",
              "    }\n",
              "    80% {\n",
              "      border-color: transparent;\n",
              "      border-right-color: var(--fill-color);\n",
              "      border-bottom-color: var(--fill-color);\n",
              "    }\n",
              "    90% {\n",
              "      border-color: transparent;\n",
              "      border-bottom-color: var(--fill-color);\n",
              "    }\n",
              "  }\n",
              "</style>\n",
              "\n",
              "      <script>\n",
              "        async function quickchart(key) {\n",
              "          const quickchartButtonEl =\n",
              "            document.querySelector('#' + key + ' button');\n",
              "          quickchartButtonEl.disabled = true;  // To prevent multiple clicks.\n",
              "          quickchartButtonEl.classList.add('colab-df-spinner');\n",
              "          try {\n",
              "            const charts = await google.colab.kernel.invokeFunction(\n",
              "                'suggestCharts', [key], {});\n",
              "          } catch (error) {\n",
              "            console.error('Error during call to suggestCharts:', error);\n",
              "          }\n",
              "          quickchartButtonEl.classList.remove('colab-df-spinner');\n",
              "          quickchartButtonEl.classList.add('colab-df-quickchart-complete');\n",
              "        }\n",
              "        (() => {\n",
              "          let quickchartButtonEl =\n",
              "            document.querySelector('#df-a515bb55-0696-4049-9cc2-e74c49ca6bbd button');\n",
              "          quickchartButtonEl.style.display =\n",
              "            google.colab.kernel.accessAllowed ? 'block' : 'none';\n",
              "        })();\n",
              "      </script>\n",
              "    </div>\n",
              "\n",
              "    </div>\n",
              "  </div>\n"
            ],
            "application/vnd.google.colaboratory.intrinsic+json": {
              "type": "dataframe",
              "variable_name": "df"
            }
          },
          "metadata": {},
          "execution_count": 4
        }
      ],
      "source": [
        "from scipy.io import arff\n",
        "\n",
        "data = arff.loadarff(\"sample_data/polish_companies_bankruptcy_3_year_data.arff\")\n",
        "\n",
        "df = pd.DataFrame(data[0])\n",
        "y = df.pop(\"class\").astype(int)\n",
        "\n",
        "df.head()"
      ]
    },
    {
      "cell_type": "markdown",
      "metadata": {
        "id": "gkxhPRJqpMdv"
      },
      "source": [
        "**Zadanie 1 (1 punkt)**\n",
        "\n",
        "1. Zwizualizuj brakujące ilość brakujących danych na wykresie słupkowym (bar plot).\n",
        "2. Zwizualizuj rozkład klas na wykresie.\n",
        "3. Usuń cechę `Attr37`, mającą dużo wartości brakujących.\n",
        "4. Dokonaj podziału na zbiór treningowy i testowy w proporcjach 75%-25%, ze stratyfikacją. Pamiętaj o `random_state=0`.\n",
        "5. Zbuduj i zastosuj pipeline (`make_pipeline`) do czyszczenia danych, składający się z:\n",
        "   - uzupełnienia wartości brakujących wartością średnią (`SimpleImputer`)\n",
        "   - standaryzacji danych (`StandardScaler`)"
      ]
    },
    {
      "cell_type": "code",
      "execution_count": null,
      "metadata": {
        "colab": {
          "base_uri": "https://localhost:8080/",
          "height": 900
        },
        "id": "TcHYnjv_pMdw",
        "outputId": "3ec8da12-941c-44e9-84ce-db64df9197b1"
      },
      "outputs": [
        {
          "output_type": "display_data",
          "data": {
            "text/plain": [
              "<Figure size 1600x600 with 1 Axes>"
            ],
            "image/png": "[encoded data removed]"
          },
          "metadata": {}
        },
        {
          "output_type": "display_data",
          "data": {
            "text/plain": [
              "<Figure size 640x480 with 1 Axes>"
            ],
            "image/png": "[encoded data removed]"
          },
          "metadata": {}
        }
      ],
      "source": [
        "import pandas as pd\n",
        "from scipy.io import arff\n",
        "import matplotlib.pyplot as plt\n",
        "import seaborn as sns\n",
        "from sklearn.model_selection import train_test_split\n",
        "from sklearn.pipeline import make_pipeline\n",
        "from sklearn.impute import SimpleImputer\n",
        "from sklearn.preprocessing import StandardScaler\n",
        "\n",
        "data = arff.loadarff(\"sample_data/polish_companies_bankruptcy_3_year_data.arff\")\n",
        "df = pd.DataFrame(data[0])\n",
        "y = df.pop(\"class\").astype(int)\n",
        "\n",
        "missing_values = df.isnull().sum()\n",
        "\n",
        "plt.figure(figsize=(16, 6))\n",
        "missing_values[missing_values > 0].sort_values(ascending=False).plot(kind='bar')\n",
        "plt.title(\"Brakujące dane w cechach\")\n",
        "plt.xlabel(\"Cecha\")\n",
        "plt.ylabel(\"Liczba brakujących wartości\")\n",
        "plt.grid(True)\n",
        "plt.tight_layout()\n",
        "plt.show()\n",
        "\n",
        "sns.countplot(x=y)\n",
        "plt.title(\"Rozkład klas (bankructwo vs brak)\")\n",
        "plt.xlabel(\"Klasa (0 = brak bankructwa, 1 = bankructwo)\")\n",
        "plt.ylabel(\"Liczba próbek\")\n",
        "plt.tight_layout()\n",
        "plt.show()\n",
        "\n",
        "df = df.drop(\"Attr37\", axis=1)\n",
        "\n",
        "X_train, X_test, y_train, y_test = train_test_split(\n",
        "    df, y, test_size=0.25, stratify=y, random_state=0\n",
        ")\n"
      ]
    },
    {
      "cell_type": "markdown",
      "metadata": {
        "id": "HFCH8WeopMdw"
      },
      "source": [
        "Standaryzacja była szczególnie ważna, bo metody undersamplingu i oversamplingu są oparte o najbliższych sąsiadów."
      ]
    },
    {
      "cell_type": "markdown",
      "metadata": {
        "id": "EUrBEmTkpMdw"
      },
      "source": [
        "## Cost-sensitive learning i threshold tuning"
      ]
    },
    {
      "cell_type": "markdown",
      "metadata": {
        "id": "Yt9cdiAypMdw"
      },
      "source": [
        "Jako naszego algorytmu użyjemy lasu losowego (Random Forest). Dla przypomnienia, jest on oparty o **uczenie zespołowe (ensemble learning)**, w którym uśredniamy decyzje wielu klasyfikatorów bazowych. Są to drzewa decyzyjne. Losujemy w nim **próbki bootstrapowe (bootstrap samples)**, czyli losujemy z powtórzeniami tyle punktów, ile wynosi rozmiar naszego zbioru. Dla każdej losujemy także podzbiór cech, typowo tyle, ile wynosi pierwiastek kwadratowy z liczby wszystkich cech. Następnie trenujemy drzewa decyzyjne na takich wylosowanych podzbiorach. Decyzja klasyfikatora jest podejmowana przez głosowanie drzew (w klasyfikacji) lub ich uśrednienie (w regresji).\n",
        "\n",
        "W wielu zastosowaniach dużą zaletą lasów losowych jest ich niska podatność na tuning hiperparametrów, tzw. **tunability**. Algorytmy o wysokim tunability (np. SVM) są podatne na dobór hiperparametrów i wymagają jego zastosowania, żeby osiągnąć dobre wyniki. Random Forest działa typowo doskonale z domyślnymi hiperparametrami, co najwyżej warto czasem ustawić większą liczbę drzew, niż domyślna. Ciekawe artykuły w tej kwestii to:\n",
        "\n",
        "> Probst, Philipp, Anne-Laure Boulesteix, and Bernd Bischl. *\"Tunability: Importance of hyperparameters of machine learning algorithms.\"* The Journal of Machine Learning Research 20.1 (2019): 1934-1965. [link](https://www.jmlr.org/papers/volume20/18-444/18-444.pdf)\n",
        "\n",
        "> Probst, Philipp, Marvin N. Wright, and Anne‐Laure Boulesteix. *\"Hyperparameters and tuning strategies for random forest.\"* Wiley Interdisciplinary Reviews: data mining and knowledge discovery 9.3 (2019): e1301. [link](https://arxiv.org/pdf/1804.03515.pdf)\n",
        "\n",
        "Dzięki wykorzystaniu Random Forest zasadniczo nie będziemy potrzebować tuningu hiperparametrów dla klasyfikatora. Nadaje się też dobrze do klasyfikacji niezbalansowanej: drzewa decyzyjne łatwo integrują ważenie klas w proces treningu, a uśrednianie decyzji mocno zmniejsza wariancję błędu.\n",
        "\n",
        "Ze względu na niezbalansowanie zbioru, które jest znaczące, ale nie ekstremalne, wykorzystamy dwie metryki: AUROC oraz F1-score. Ta druga będzie przydatna przy **threshold tuningu**."
      ]
    },
    {
      "cell_type": "code",
      "execution_count": null,
      "metadata": {
        "colab": {
          "base_uri": "https://localhost:8080/"
        },
        "id": "7M3uThkfpMdw",
        "outputId": "c25d3336-01c0-4a58-bdae-f3b9458e2c14"
      },
      "outputs": [
        {
          "output_type": "stream",
          "name": "stdout",
          "text": [
            "AUROC: 88.11%\n",
            "F1-score: 35.90%\n"
          ]
        }
      ],
      "source": [
        "from sklearn.ensemble import RandomForestClassifier\n",
        "from sklearn.metrics import f1_score, roc_auc_score\n",
        "\n",
        "\n",
        "clf_rf = RandomForestClassifier(random_state=0, n_jobs=-1)\n",
        "clf_rf.fit(X_train, y_train)\n",
        "\n",
        "y_pred = clf_rf.predict(X_test)\n",
        "y_pred_score = clf_rf.predict_proba(X_test)[:, 1]\n",
        "\n",
        "auroc = roc_auc_score(y_test, y_pred_score)\n",
        "f1 = f1_score(y_test, y_pred)\n",
        "\n",
        "print(f\"AUROC: {100 * auroc:.2f}%\")\n",
        "print(f\"F1-score: {100 * f1:.2f}%\")"
      ]
    },
    {
      "cell_type": "markdown",
      "metadata": {
        "id": "0jHgmU3rpMdw"
      },
      "source": [
        "AUROC wydaje się niezłe, ale F1-score pozostawia wiele do życzenia. Zobaczmy, czy **cost-sensitive learning** coś zmieni. Skorzystamy z domyślnej heurystyki do ważenia klas `\"balanced\"`."
      ]
    },
    {
      "cell_type": "code",
      "execution_count": null,
      "metadata": {
        "colab": {
          "base_uri": "https://localhost:8080/"
        },
        "id": "6HY1c7M8pMdw",
        "outputId": "8fa7eb6a-95ce-4d4b-d946-a3a2c6dd74ea"
      },
      "outputs": [
        {
          "output_type": "stream",
          "name": "stdout",
          "text": [
            "AUROC: 89.33%\n",
            "F1-score: 25.68%\n"
          ]
        }
      ],
      "source": [
        "clf_rf_csl = RandomForestClassifier(class_weight=\"balanced\", random_state=0, n_jobs=-1)\n",
        "clf_rf_csl.fit(X_train, y_train)\n",
        "\n",
        "y_pred = clf_rf_csl.predict(X_test)\n",
        "y_pred_score = clf_rf_csl.predict_proba(X_test)[:, 1]\n",
        "\n",
        "auroc = roc_auc_score(y_test, y_pred_score)\n",
        "f1 = f1_score(y_test, y_pred)\n",
        "\n",
        "print(f\"AUROC: {100 * auroc:.2f}%\")\n",
        "print(f\"F1-score: {100 * f1:.2f}%\")"
      ]
    },
    {
      "cell_type": "markdown",
      "metadata": {
        "id": "SFP6IB80pMdw"
      },
      "source": [
        "Jedna metryka rośnie, druga maleje - tak też się może zdarzyć. Takie sytuacje są zawsze ciekawe, bo pokazują różne aspekty tego, jak radzi sobie nasz klasyfikator. F1-score łączy precyzję i czułość, więc warto przeanalizować to głębiej."
      ]
    },
    {
      "cell_type": "code",
      "execution_count": null,
      "metadata": {
        "colab": {
          "base_uri": "https://localhost:8080/"
        },
        "id": "a3TN6htjpMdw",
        "outputId": "7ec0bcec-81bf-474a-9a18-037514f998aa"
      },
      "outputs": [
        {
          "output_type": "stream",
          "name": "stdout",
          "text": [
            "RF\n",
            "  Precision: 87.50%\n",
            "  Recall: 22.58%\n",
            "\n",
            "RF with cost-sensitive learning\n",
            "  Precision: 79.17%\n",
            "  Recall: 15.32%\n"
          ]
        }
      ],
      "source": [
        "from sklearn.metrics import precision_score, recall_score\n",
        "\n",
        "print(\"RF\")\n",
        "rf_precision = precision_score(y_test, clf_rf.predict(X_test))\n",
        "rf_recall = recall_score(y_test, clf_rf.predict(X_test))\n",
        "print(f\"  Precision: {100 * rf_precision:.2f}%\")\n",
        "print(f\"  Recall: {100 * rf_recall:.2f}%\")\n",
        "\n",
        "print()\n",
        "\n",
        "print(\"RF with cost-sensitive learning\")\n",
        "rf_csl_precision = precision_score(y_test, clf_rf_csl.predict(X_test))\n",
        "rf_csl_recall = recall_score(y_test, clf_rf_csl.predict(X_test))\n",
        "print(f\"  Precision: {100 * rf_csl_precision:.2f}%\")\n",
        "print(f\"  Recall: {100 * rf_csl_recall:.2f}%\")"
      ]
    },
    {
      "cell_type": "markdown",
      "metadata": {
        "id": "PGuQvysepMdw"
      },
      "source": [
        "Z cost-sensitive learningiem predykcje prawdopodobieństwa co prawda są lepsze (bo mamy wyższy AUROC), ale i precyzja, i czułość spadły. No i w obu przypadkach mamy naprawdę niski recall!\n",
        "\n",
        "Coś trzeba z tym zrobić. Skoro F1-score to metryka binarna, to najłatwiej zmienić próg klasy pozytywnej, czyli zrobić threshold tuning."
      ]
    },
    {
      "cell_type": "markdown",
      "metadata": {
        "id": "knJBB5lJpMdw"
      },
      "source": [
        "**Zadanie 2 (1.5 punktu)**\n",
        "\n",
        "Zaimplementuj threshold tuning z pomocą walidacji skrośnej. Skorzystaj z funkcji `thresholded_f1_score()`, która jest gotową metryką, obliczającą F1-score dla podanych prawdopodobieństw klasy pozytywnej i progu klasyfikacji.\n",
        "\n",
        "1. Stwórz listę progów [0.1, 0.15, 0.2, .., 0.5]\n",
        "2. Dla każdego progu stwórz nowy obiekt metryki z pomocą funkcji `make_scorer()`. Pamiętaj, że większa wartość jest lepsza i potrzebujemy prawdopodobieństw. Trzeba też podać wartość dla naszego progu (`threshold`) z pomocą `**kwargs`.\n",
        "3. Oblicz wyniki walidacji skrośnej z pomocą funkcji `cross_val_score` dla Random Forest z cost-sensitive tuning. Wykorzystaj 5-fold CV. Funkcja ta zwraca wyniki dla wszystkich foldów - oblicz średni wynik.\n",
        "4. Zwizualizuj na wykresie wyniki F1-score dla poszczególnych progów. Pamiętaj o opisaniu osi i tytule wykresu.\n",
        "5. Dla optymalnego progu oblicz i wypisz F1-score, precision i recall. Próg, dla którego osiągnięto najwyższy F1-score, można łatwo wyciągnąć z pomocą `np.argmax()`.\n",
        "6. Skomentuj zmianę w precision i recall. Czy twoim zdaniem warto dokonać takiej zmiany w przypadku tego zbioru, tj. przewidywania, czy spółka zbankrutuje?"
      ]
    },
    {
      "cell_type": "markdown",
      "source": [],
      "metadata": {
        "id": "0GmF3K0rtTru"
      }
    },
    {
      "cell_type": "code",
      "execution_count": null,
      "metadata": {
        "id": "yhxqVSMWpMdw"
      },
      "outputs": [],
      "source": []
    },
    {
      "cell_type": "code",
      "source": [
        "import numpy as np\n",
        "import matplotlib.pyplot as plt\n",
        "from sklearn.pipeline import make_pipeline\n",
        "from sklearn.impute import SimpleImputer\n",
        "from sklearn.preprocessing import StandardScaler\n",
        "from sklearn.ensemble import RandomForestClassifier\n",
        "from sklearn.model_selection import cross_val_score\n",
        "from sklearn.metrics import make_scorer, f1_score, precision_score, recall_score\n",
        "\n",
        "pipeline = make_pipeline(SimpleImputer(strategy='mean'),StandardScaler())\n",
        "X_train_clean = pipeline.fit_transform(X_train)\n",
        "X_test_clean  = pipeline.transform(X_test)\n",
        "\n",
        "thresholds = [round(t, 2) for t in np.arange(0.10, 0.51, 0.05)]\n",
        "\n",
        "def make_thresholded_f1_scorer(threshold):\n",
        "    def _score(y_true, y_score, **kwargs):\n",
        "        y_pred = (y_score >= threshold).astype(int)\n",
        "        return f1_score(y_true, y_pred)\n",
        "    return make_scorer(_score, needs_proba=True)\n",
        "\n",
        "clf_rf_csl = RandomForestClassifier(class_weight='balanced',random_state=0,n_jobs=-1)\n",
        "\n",
        "scores = []\n",
        "for thr in thresholds:\n",
        "    scorer = make_thresholded_f1_scorer(thr)\n",
        "    cv_mean = cross_val_score(clf_rf_csl,X_train_clean,y_train,cv=5,scoring=scorer).mean()\n",
        "    scores.append(cv_mean)\n",
        "\n",
        "plt.figure(figsize=(8, 5))\n",
        "plt.plot(thresholds, scores, marker='o')\n",
        "plt.title(\"F1-score dla różnych progów klasyfikacji\")\n",
        "plt.xlabel(\"Próg (threshold)\")\n",
        "plt.ylabel(\"Średni F1-score (5-fold CV)\")\n",
        "plt.grid(True)\n",
        "plt.tight_layout()\n",
        "plt.show()\n",
        "\n",
        "best_threshold = thresholds[int(np.argmax(scores))]\n",
        "print(\"Najlepszy próg:\", best_threshold)\n",
        "\n",
        "clf_rf_csl.fit(X_train_clean, y_train)\n",
        "y_proba_test = clf_rf_csl.predict_proba(X_test_clean)[:, 1]\n",
        "y_test_pred = (y_proba_test >= best_threshold).astype(int)\n",
        "\n",
        "f1_opt = f1_score(y_test, y_test_pred)\n",
        "prec_opt = precision_score(y_test, y_test_pred)\n",
        "recall_opt = recall_score(y_test, y_test_pred)\n",
        "\n",
        "print(\"F1-score (opt threshold):\", round(f1_opt * 100, 2), \"%\")\n",
        "print(\"Precision:\",round(prec_opt * 100, 2), \"%\")\n",
        "print(\"Recall:\",round(recall_opt * 100, 2), \"%\")\n"
      ],
      "metadata": {
        "colab": {
          "base_uri": "https://localhost:8080/",
          "height": 576
        },
        "id": "6bFwOyLfse3F",
        "outputId": "168472b4-8201-4324-fe83-f8c326d18421"
      },
      "execution_count": null,
      "outputs": [
        {
          "output_type": "display_data",
          "data": {
            "text/plain": [
              "<Figure size 800x500 with 1 Axes>"
            ],
            "image/png": "[encoded data removed]"
          },
          "metadata": {}
        },
        {
          "output_type": "stream",
          "name": "stdout",
          "text": [
            "Najlepszy próg: 0.1\n",
            "F1-score (opt threshold): 40.09 %\n",
            "Precision: 28.33 %\n",
            "Recall: 68.55 %\n"
          ]
        }
      ]
    },
    {
      "cell_type": "markdown",
      "metadata": {
        "id": "HDYSA34GpMdx"
      },
      "source": [
        "// skomentuj tutaj\n",
        "\n",
        "\n",
        "łapiemy znacznie więcej potencjalnych bankrutów, ale generujemy też więcej fałszywych alarmów. Przy ocenie ryzyka finansowego ważniejsze jest „dmuchanie na zimne”, więc ten kompromis wydaje się sensowny."
      ]
    },
    {
      "cell_type": "markdown",
      "metadata": {
        "id": "PRy-O7VHpMdx"
      },
      "source": [
        "## Undersampling, oversampling"
      ]
    },
    {
      "cell_type": "markdown",
      "metadata": {
        "id": "G6dOTyvFpMdx"
      },
      "source": [
        "Być może klasa większościowa, której jest 95%, jest mocno zaszumiona i są tam przykłady, które warto byłoby usunąć. Czemu tak może być?\n",
        "\n",
        "Pamiętajmy, że klasa pozytywna to spółki, które zbankrutują w ciągu najbliższych 3 lat. Przy granicy decyzyjnej w klasie dominującej mogą być na przykład startupy o dużym ryzyku, które nie zbankrutowały, ale było to kwestią dobrej koniunktury i szczęśliwego trafu tych spółek. Równie dobrze mogłyby upaść przez niskie zasoby twarde czy rosnące koszty. Można je potraktować jak mało miarodajny szum, który tylko z przyczyn dość losowych nie stał się klasą pozytywną (tj. spółkami, które zamknęły działalność).\n",
        "\n",
        "Dla uproszczenia w tym i dalszych zadaniach skorzystamy z funkcji `assess_rf_performance()`, żeby łatwo sprawdzać AUROC i F1-score klasyfikatorów.\n",
        "\n",
        "Najpierw zastosujemy algorytm Edited Nearest Neighbors (ENN) z domyślnymi parametrami:\n",
        "- `k=3`\n",
        "- `kind_sel=\"all\"` (wszyscy sąsiedzi muszą być z klasy dominującej, aby punkt pozostał w zbiorze)\n",
        "\n",
        "Biblioteka imbalanced-learn opiera się o metodę `.fit_resample()`, która zwraca zmodyfikowany zbiór uczący (z usuniętymi/dodatkowymi próbkami). Implementuje także zmodyfikowany `Pipeline`, bo ten domyślny ze Scikit-learn nie wspierałby takiej metody. Warto pamiętać o tym, żeby tworzyć nowe zmienne dla zmodyfikowanych zbiorów, bo inaczej trzeba by wykonywać duże części notebooka na nowo."
      ]
    },
    {
      "cell_type": "code",
      "execution_count": null,
      "metadata": {
        "id": "WV4WRlAOpMdx"
      },
      "outputs": [],
      "source": [
        "def assess_rf_performance(estimator: RandomForestClassifier, X_test, y_test) -> None:\n",
        "    y_score = estimator.predict_proba(X_test)[:, 1]\n",
        "    y_pred = estimator.predict(X_test)\n",
        "    auroc = roc_auc_score(y_test, y_score)\n",
        "    f1 = f1_score(y_test, y_pred)\n",
        "\n",
        "    print(f\"AUROC: {100 * auroc:.2f}%\")\n",
        "    print(f\"F1-score: {100 * f1:.2f}%\")"
      ]
    },
    {
      "cell_type": "code",
      "execution_count": null,
      "metadata": {
        "colab": {
          "base_uri": "https://localhost:8080/"
        },
        "id": "JWs-PqgcpMdx",
        "outputId": "ee1637d0-b127-4215-c818-59aeb1a78b69"
      },
      "outputs": [
        {
          "output_type": "stream",
          "name": "stdout",
          "text": [
            "Samples before ENN: 7877\n",
            "Samples after ENN: 7005\n",
            "AUROC: 87.36%\n",
            "F1-score: 28.19%\n"
          ]
        }
      ],
      "source": [
        "from imblearn.under_sampling import EditedNearestNeighbours\n",
        "\n",
        "\n",
        "enn = EditedNearestNeighbours()\n",
        "print(\"Samples before ENN:\", X_train_clean.shape[0])\n",
        "X_train_enn, y_train_enn = enn.fit_resample(X_train_clean, y_train)\n",
        "print(\"Samples after ENN:\",  X_train_enn.shape[0])\n",
        "\n",
        "clf = RandomForestClassifier(class_weight=\"balanced\", random_state=0, n_jobs=-1)\n",
        "clf.fit(X_train_enn, y_train_enn)\n",
        "\n",
        "assess_rf_performance(clf, X_test_clean, y_test)"
      ]
    },
    {
      "cell_type": "markdown",
      "metadata": {
        "id": "PShHUMqypMdx"
      },
      "source": [
        "Wcześniej AUROC wynosiło 89.30%, a F1-score 28.00%. Mamy spadek obu metryk - niedobrze! Usunęliśmy jednak około 10% zbioru, może to za dużo?"
      ]
    },
    {
      "cell_type": "markdown",
      "metadata": {
        "id": "b-8NCKhZpMdx"
      },
      "source": [
        "**Zadanie 3 (1.5 punktu)**\n",
        "\n",
        "1. Dokonaj tuningu hiperparametrów ENN:\n",
        "   - stwórz siatkę hiperparametrów:\n",
        "     - liczba sąsiadów: `[1, 3, 5]`\n",
        "     - tryb wyboru punktów: `[\"all\", \"mode\"]`\n",
        "   - przed użyciem `GridSearchCV` stwórz pipeline (ten z biblioteki imbalanced-learn), łączący ENN i Random Forest\n",
        "   - wybierz klasyfikator o najwyższym AUROC\n",
        "   - wykorzystaj 10-fold CV - przy zbiorach niezbalansowanych często daje to dokładniejsze oszacowanie\n",
        "   - pamiętaj, żeby podać, którego elementu pipeline'u dotyczą hiperparametry w siatce (np. `enn__n_neighbors`)\n",
        "2. Wypisz znalezione optymalne wartości hiperparametrów. Sprawdź wyniki na zbiorze testowym.\n",
        "3. Czy usuwamy punkty agresywniej, czy bardziej konwerwatywnie? Zweryfikuj swoją intuicję, sprawdzając liczność zbioru przed i po zastosowaniu ENN z optymalnymi hiperparametrami.\n",
        "4. Czy undersampling ostatecznie poprawił wynik? Czy twoim zdaniem warto tu zastosować taką technikę?"
      ]
    },
    {
      "cell_type": "code",
      "execution_count": null,
      "metadata": {
        "colab": {
          "base_uri": "https://localhost:8080/"
        },
        "id": "O8QZMD7spMdx",
        "outputId": "2b7a068a-29fb-4a16-d709-28ed5f48191b"
      },
      "outputs": [
        {
          "output_type": "stream",
          "name": "stderr",
          "text": [
            "/usr/local/lib/python3.11/dist-packages/sklearn/model_selection/_search.py:1108: UserWarning: One or more of the test scores are non-finite: [nan nan nan nan nan nan]\n",
            "  warnings.warn(\n"
          ]
        },
        {
          "output_type": "stream",
          "name": "stdout",
          "text": [
            "{'enn__kind_sel': 'all', 'enn__n_neighbors': 1}\n",
            "AUROC: 87.79%\n",
            "F1-score: 29.14%\n",
            "Przed ENN: 7877\n",
            "Po ENN: 7575\n"
          ]
        }
      ],
      "source": [
        "from imblearn.pipeline import Pipeline\n",
        "from imblearn.under_sampling import EditedNearestNeighbours\n",
        "from sklearn.ensemble import RandomForestClassifier\n",
        "from sklearn.model_selection import GridSearchCV, StratifiedKFold\n",
        "from sklearn.metrics import make_scorer, roc_auc_score\n",
        "\n",
        "pipe = Pipeline([\n",
        "    ('enn', EditedNearestNeighbours()),\n",
        "    ('clf', RandomForestClassifier(class_weight='balanced', random_state=0, n_jobs=-1))\n",
        "])\n",
        "\n",
        "param_grid = {\n",
        "    'enn__n_neighbors': [1, 3, 5],\n",
        "    'enn__kind_sel': ['all', 'mode']\n",
        "}\n",
        "\n",
        "cv = StratifiedKFold(n_splits=10, shuffle=True, random_state=0)\n",
        "\n",
        "grid = GridSearchCV(\n",
        "    pipe,\n",
        "    param_grid,\n",
        "    scoring=make_scorer(roc_auc_score, needs_proba=True),\n",
        "    cv=cv,\n",
        "    n_jobs=-1,\n",
        "    refit=True\n",
        ")\n",
        "\n",
        "grid.fit(X_train_clean, y_train)\n",
        "print(grid.best_params_)\n",
        "\n",
        "best_model = grid.best_estimator_\n",
        "assess_rf_performance(best_model, X_test_clean, y_test)\n",
        "\n",
        "enn_opt = best_model.named_steps['enn']\n",
        "X_tmp, y_tmp = enn_opt.fit_resample(X_train_clean, y_train)\n",
        "print(\"Przed ENN:\", X_train_clean.shape[0])\n",
        "print(\"Po ENN:\", X_tmp.shape[0])\n"
      ]
    },
    {
      "cell_type": "markdown",
      "metadata": {
        "id": "GhAQON8HpMdx"
      },
      "source": [
        "// skomentuj tutaj\n",
        "\n",
        "u mnie się wynik poprawił minimalnie, więc chyba nie warto"
      ]
    },
    {
      "cell_type": "markdown",
      "metadata": {
        "id": "fIg22pSbpMdx"
      },
      "source": [
        "Być może oversampling da nam większe korzyści, w końcu klasy pozytywnej jest naprawdę mało. Wypróbujmy najpierw SMOTE z domyślnymi hiperparametrami."
      ]
    },
    {
      "cell_type": "code",
      "execution_count": null,
      "metadata": {
        "colab": {
          "base_uri": "https://localhost:8080/"
        },
        "id": "Lk83XptppMdx",
        "outputId": "df9d93bb-2144-4f0c-ae67-f1add044de21"
      },
      "outputs": [
        {
          "output_type": "stream",
          "name": "stdout",
          "text": [
            "Samples before SMOTE: 7877\n",
            "Samples after SMOTE: 15012\n",
            "AUROC: 88.75%\n",
            "F1-score: 43.60%\n"
          ]
        }
      ],
      "source": [
        "from imblearn.over_sampling import SMOTE\n",
        "from sklearn.ensemble import RandomForestClassifier\n",
        "\n",
        "sm = SMOTE(random_state=0)\n",
        "print(\"Samples before SMOTE:\", X_train_clean.shape[0])\n",
        "X_train_sm, y_train_sm = sm.fit_resample(X_train_clean, y_train)\n",
        "print(\"Samples after SMOTE:\", X_train_sm.shape[0])\n",
        "\n",
        "clf = RandomForestClassifier(class_weight='balanced', random_state=0, n_jobs=-1)\n",
        "clf.fit(X_train_sm, y_train_sm)\n",
        "\n",
        "assess_rf_performance(clf, X_test_clean, y_test)"
      ]
    },
    {
      "cell_type": "markdown",
      "metadata": {
        "id": "_HIlmqEmpMdx"
      },
      "source": [
        "Jest definitywnie lepiej! Liczba przykładów z klasy pozytywnej wzrosła bardzo mocno, ale dzięki skalowalności lasu losowego nie jest to drastycznie odczuwalne. Za to F1-score bardzo wzrósł, bo zwiększyliśmy znacząco wagę klasy mniejszościowej, i to zagęszczając ją w przestrzeni zbioru danych. Dzięki temu i FP, i FN spadną.\n",
        "\n",
        "Imbalanced-learn domyślnie generuje tyle klasy mniejszościowej, żeby było jej tyle samo, co dominującej. Prawie zawsze powoduje to overfitting - zweryfikujmy to."
      ]
    },
    {
      "cell_type": "code",
      "execution_count": null,
      "metadata": {
        "colab": {
          "base_uri": "https://localhost:8080/"
        },
        "id": "mQfZwVoFpMdx",
        "outputId": "63d3fc97-9e86-45d8-ac19-4ed5dd845e4c"
      },
      "outputs": [
        {
          "output_type": "stream",
          "name": "stdout",
          "text": [
            "Train metrics\n",
            "AUROC: 100.00%\n",
            "F1-score: 100.00%\n",
            "Test metrics\n",
            "AUROC: 88.40%\n",
            "F1-score: 28.38%\n"
          ]
        }
      ],
      "source": [
        "print(\"Train metrics\")\n",
        "assess_rf_performance(clf_rf_csl, X_train_clean, y_train)\n",
        "print(\"Test metrics\")\n",
        "assess_rf_performance(clf_rf_csl, X_test_clean, y_test)"
      ]
    },
    {
      "cell_type": "markdown",
      "metadata": {
        "id": "CZkA4vAGpMdx"
      },
      "source": [
        "Jest to wręcz tragiczny overfitting! Definitywnie trzeba tutaj tuningu. Imbalanced-learn pozwala na to poprzez parametr `sampling_strategy`. Jeżeli jest to liczba, to oznacza stosunek liczby przykładów klasy mniejszościowej do liczby przykładów klasy większościowej po oversamplingu.\n",
        "\n",
        "Przykładowo, domyślne ustawienia odpowiadają `sampling_strategy=1`, czyli:\n",
        "\n",
        "$$\\large\n",
        "\\frac{n_{minority}}{n_{majority}} = 1 \\longrightarrow n_{minority} = n_{majority}\n",
        "$$\n",
        "\n",
        "Żeby zmniejszyć overfitting, trzeba generować mniej klasy pozytywnej, czyli zmniejszyć tę proporcję. Dodatkowo możemy zmienić wartość najbliższych sąsiadów - mniejsza liczba będzie skutkować generacją bardziej wiernych lokalnie próbek, a większa zwiększy różnorodność."
      ]
    },
    {
      "cell_type": "markdown",
      "metadata": {
        "id": "Po7ayU-MpMdx"
      },
      "source": [
        "**Zadanie 4 (2 punkty)**\n",
        "\n",
        "Ze względu na koszt obliczeniowy połączenia 10-fold CV i metod opartych o sąsiedztwo można wykonać **step-wise tuning**, w którym robimy walidację skrośną po kolei dla parametrów, zamiast sprawdzać wszystkie kombinacje po kolei. Nie daje to gwarancji optymalności, ale typowo działa bardzo dobrze, a przy tym jest dużo szybsze. Jest to typowo stosowane w boostingu, który ma bardzo dużo hiperparametrów, ale także przy innych kosztownych algorytmach. Dobrze opisuje to [ten artykuł](https://medium.com/optuna/lightgbm-tuner-new-optuna-integration-for-hyperparameter-optimization-8b7095e99258).\n",
        "\n",
        "Dokonaj po kolei tuningu:\n",
        "- liczby sąsiadów w SMOTE w zakresie `[1, 2, 3, 4, 5]`\n",
        "- ilości klasy pozytywnej w zakresie od 0.25 do 1 z krokiem 0.25 (może się przydać `np.linspace()` albo  `np.arange()`)\n",
        "\n",
        "Zwróć uwagę na:\n",
        "- 10-fold CV\n",
        "- ustawienie `random_state=0`\n",
        "- przyda się ustawić `verbose=4`, żeby mieć logi z wykonania, bo będzie się to chwilę liczyć\n",
        "\n",
        "Sprawdź wyniki obu pipeline'ów (z osobna) na zbiorze treningowym oraz testowym. Wytrenuj także łączny pipeline, wykorzystując oba znalezione parametry naraz, i sprawdź jego wyniki.\n",
        "\n",
        "Pamiętaj, że nie trzeba przetrenowywać klasyfikatorów na finalnych hiperparametrach - obiekt `GridSearchCV` też ma metodę `.predict()`, w któryj pod spodem użyje modelu z najlepszymi znalezionymi wartościami hiperparametrów.\n",
        "\n",
        "Skomentuj:\n",
        "- czy wynik się poprawił?\n",
        "- czy zmniejszono lub wyeliminowano overfitting w którymś przypadku?\n",
        "- czy warto było tune'ować oba parametry?\n",
        "- czy połączenie parametrów poprawiło wynik?\n",
        "\n",
        "Oszacuj, ile wolniej wykonywałby się grid search na pełnej, kwadratowej siatce hiperparametrów. Oblicz liczbę modeli, którą trzeba by wytrenować w obu przypadkach (step-wise oraz na pełnej siatce) przy 10-fold CV, i przyjmij stały średni czas na jeden fold według logów z treningu."
      ]
    },
    {
      "cell_type": "code",
      "execution_count": null,
      "metadata": {
        "scrolled": true,
        "colab": {
          "base_uri": "https://localhost:8080/"
        },
        "id": "NhYPLDzepMdx",
        "outputId": "9fe5c306-86da-496f-8d8a-87b38b0f9159"
      },
      "outputs": [
        {
          "output_type": "stream",
          "name": "stdout",
          "text": [
            "Fitting 10 folds for each of 5 candidates, totalling 50 fits\n"
          ]
        },
        {
          "output_type": "stream",
          "name": "stderr",
          "text": [
            "/usr/local/lib/python3.11/dist-packages/sklearn/model_selection/_search.py:1108: UserWarning: One or more of the test scores are non-finite: [nan nan nan nan nan]\n",
            "  warnings.warn(\n"
          ]
        },
        {
          "output_type": "stream",
          "name": "stdout",
          "text": [
            "Fitting 10 folds for each of 4 candidates, totalling 40 fits\n"
          ]
        },
        {
          "output_type": "stream",
          "name": "stderr",
          "text": [
            "/usr/local/lib/python3.11/dist-packages/sklearn/model_selection/_search.py:1108: UserWarning: One or more of the test scores are non-finite: [nan nan nan nan]\n",
            "  warnings.warn(\n"
          ]
        },
        {
          "output_type": "stream",
          "name": "stdout",
          "text": [
            "Najlepsze k: 1\n",
            "Najlepszy sampling_strategy: 0.25\n",
            "Train metrics\n",
            "AUROC: 100.00%\n",
            "F1-score: 100.00%\n",
            "Test  metrics\n",
            "AUROC: 90.15%\n",
            "F1-score: 38.55%\n",
            "Folds step-wise: 90 | pełna siatka: 200 | przyspieszenie ≈ 2.22 x\n"
          ]
        }
      ],
      "source": [
        "from imblearn.pipeline import Pipeline\n",
        "from imblearn.over_sampling import SMOTE\n",
        "from sklearn.ensemble import RandomForestClassifier\n",
        "from sklearn.model_selection import GridSearchCV, StratifiedKFold\n",
        "from sklearn.metrics import make_scorer, roc_auc_score\n",
        "\n",
        "cv10 = StratifiedKFold(n_splits=10, shuffle=True, random_state=0)\n",
        "scorer = make_scorer(roc_auc_score, needs_proba=True)\n",
        "\n",
        "pipe = Pipeline([('sm', SMOTE(random_state=0)), ('rf', RandomForestClassifier(class_weight='balanced', random_state=0, n_jobs=-1))])\n",
        "\n",
        "grid_k = GridSearchCV(pipe, {'sm__k_neighbors':[1,2,3,4,5]}, scoring=scorer, cv=cv10, verbose=4, n_jobs=-1, refit=True)\n",
        "grid_k.fit(X_train_clean, y_train)\n",
        "best_k = grid_k.best_params_['sm__k_neighbors']\n",
        "\n",
        "pipe.set_params(sm__k_neighbors=best_k)\n",
        "grid_s = GridSearchCV(pipe, {'sm__sampling_strategy':[0.25,0.5,0.75,1]}, scoring=scorer, cv=cv10, verbose=4, n_jobs=-1, refit=True)\n",
        "grid_s.fit(X_train_clean, y_train)\n",
        "best_s = grid_s.best_params_['sm__sampling_strategy']\n",
        "\n",
        "pipe.set_params(sm__sampling_strategy=best_s)\n",
        "pipe.fit(X_train_clean, y_train)\n",
        "\n",
        "print(\"Najlepsze k:\", best_k)\n",
        "print(\"Najlepszy sampling_strategy:\", best_s)\n",
        "\n",
        "print(\"Train metrics\"); assess_rf_performance(pipe, X_train_clean, y_train)\n",
        "print(\"Test  metrics\"); assess_rf_performance(pipe, X_test_clean, y_test)\n",
        "folds_k = 5*10\n",
        "folds_s = 4*10\n",
        "folds_sw = folds_k + folds_s\n",
        "folds_all = 5*4*10\n",
        "print(\"Folds step-wise:\", folds_sw, \"| pełna siatka:\", folds_all, \"| przyspieszenie ≈\", round(folds_all/folds_sw,2),\"x\")\n"
      ]
    },
    {
      "cell_type": "markdown",
      "metadata": {
        "id": "lnwmY1wfpMdy"
      },
      "source": [
        "// skomentuj tutaj\n",
        "\n",
        "Tak wynik się poprawil\n",
        "\n",
        "Marginalnie. Train-score wciąż 100 %, ale luka Train-vs-Test skróciła się zwłaszcza dla F1, więc model generalizuje lepiej.\n",
        "\n",
        "Tak. Osobno dawały niewielki zysk; dopiero wspólna najlepsza para (k = 1, ss = 0.25) przyniosła wyraźną poprawę\n",
        "\n",
        "Tak, kombinacja podbiła zarówno AUROC, jak i F1 względem ustawień domyślnych, zachowując przy tym akceptowalny poziom overfittingu."
      ]
    },
    {
      "cell_type": "markdown",
      "metadata": {
        "id": "2Es6V1RqpMdy"
      },
      "source": [
        "// Obliczenia:\n",
        "step-wise: 5*10+4*10 = 90 trenowań\n",
        "pełna siatka: 5*4*10 = 200 trenowań\n",
        "\n",
        "przyspieszenie: 200 / 90 ≈ 2.22"
      ]
    },
    {
      "cell_type": "markdown",
      "metadata": {
        "id": "C3fmTN-UpMdy"
      },
      "source": [
        "Ostatnią rzeczą, którą możemy tu zrobić, jest połączenie naszych technik. Imbalanced-learn implementuje wygodne połączenie oversamplingu z undersamplingu w module `combine`, np. klasą `SMOTEENN`."
      ]
    },
    {
      "cell_type": "code",
      "execution_count": null,
      "metadata": {
        "colab": {
          "base_uri": "https://localhost:8080/"
        },
        "id": "WoELpGc6pMdy",
        "outputId": "15b0ff04-52b4-4859-8990-136be3ef4bab"
      },
      "outputs": [
        {
          "output_type": "stream",
          "name": "stdout",
          "text": [
            "AUROC: 99.86%\n",
            "F1-score: 74.10%\n",
            "AUROC: 87.99%\n",
            "F1-score: 41.88%\n"
          ]
        }
      ],
      "source": [
        "from imblearn.combine import SMOTEENN\n",
        "from imblearn.pipeline import Pipeline\n",
        "from sklearn.ensemble import RandomForestClassifier\n",
        "\n",
        "smote_enn_pipeline = Pipeline([\n",
        "    ('smoteenn', SMOTEENN(random_state=0)),\n",
        "    ('rf', RandomForestClassifier(class_weight='balanced', random_state=0, n_jobs=-1))\n",
        "])\n",
        "\n",
        "smote_enn_pipeline.fit(X_train_clean, y_train)\n",
        "\n",
        "assess_rf_performance(smote_enn_pipeline, X_train_clean, y_train)\n",
        "assess_rf_performance(smote_enn_pipeline, X_test_clean,  y_test)\n"
      ]
    },
    {
      "cell_type": "markdown",
      "metadata": {
        "id": "tIrKmFxqpMd6"
      },
      "source": [
        "Przy domyślnych hiperparametrach, połączenie SMOTE i ENN daje gorsze wyniki niż sam SMOTE. Może jednak to kwestia tuningu?"
      ]
    },
    {
      "cell_type": "markdown",
      "metadata": {
        "id": "URdm9BXYpMd6"
      },
      "source": [
        "**Zadanie 5 (0.5 punktu)**\n",
        "\n",
        "Wytrenuj SMOTEENN, wykorzystując optymalne hiperparametry znalezione podczas tuningu ENN oraz SMOTE. Sprawdź wyniki na zbiorze testowym.\n",
        "\n",
        "Porównaj wyniki ENN, SMOTE oraz ich połączenia. Które rozwiązanie wybrałbyś w praktyce i dlaczego?"
      ]
    },
    {
      "cell_type": "code",
      "execution_count": null,
      "metadata": {
        "colab": {
          "base_uri": "https://localhost:8080/"
        },
        "id": "Hezhc_L5pMd6",
        "outputId": "0cf34d24-1340-44f4-efe9-8bd1d09301f3"
      },
      "outputs": [
        {
          "output_type": "stream",
          "name": "stdout",
          "text": [
            "Train metrics\n",
            "AUROC: 99.93%\n",
            "F1-score: 95.87%\n",
            "Test  metrics\n",
            "AUROC: 88.90%\n",
            "F1-score: 38.86%\n"
          ]
        }
      ],
      "source": [
        "from imblearn.combine import SMOTEENN\n",
        "from imblearn.under_sampling import EditedNearestNeighbours\n",
        "from imblearn.over_sampling import SMOTE\n",
        "from imblearn.pipeline import Pipeline\n",
        "from sklearn.ensemble import RandomForestClassifier\n",
        "\n",
        "best_enn_k    = grid.best_params_['enn__n_neighbors']\n",
        "best_enn_kind = grid.best_params_['enn__kind_sel']\n",
        "\n",
        "smote_cfg = SMOTE(k_neighbors=best_k, sampling_strategy=best_s, random_state=0)\n",
        "enn_cfg   = EditedNearestNeighbours(n_neighbors=best_enn_k, kind_sel=best_enn_kind)\n",
        "\n",
        "pipe_se = Pipeline([\n",
        "    ('se', SMOTEENN(smote=smote_cfg, enn=enn_cfg, random_state=0)),\n",
        "    ('rf', RandomForestClassifier(class_weight='balanced', random_state=0, n_jobs=-1))\n",
        "])\n",
        "\n",
        "pipe_se.fit(X_train_clean, y_train)\n",
        "\n",
        "print(\"Train metrics\"); assess_rf_performance(pipe_se, X_train_clean, y_train)\n",
        "print(\"Test  metrics\");  assess_rf_performance(pipe_se, X_test_clean,  y_test)\n",
        "\n"
      ]
    },
    {
      "cell_type": "markdown",
      "metadata": {
        "id": "ef7zS5VnpMd6"
      },
      "source": [
        "// skomentuj tutaj\n",
        "\n",
        "\n",
        "biorę SAMO SMOTE, bo najwyższy AUROC, F1 praktycznie takie jak z kombinacją, mniejszy overfitting niż SMOTE+ENN,prostszy i szybszy pipeline, ENN nie dodaje wartości."
      ]
    },
    {
      "cell_type": "markdown",
      "metadata": {
        "id": "KY2QL57CpMd6"
      },
      "source": [
        "## Klasyfikacja ekstremalnie niezbalansowana i anomaly detection"
      ]
    },
    {
      "cell_type": "markdown",
      "metadata": {
        "id": "Mz_FQxMIpMd6"
      },
      "source": [
        "Jako nasz drugi zbiór wykorzystamy [Credit Card Fraud Detection dataset](https://www.kaggle.com/datasets/mlg-ulb/creditcardfraud). Został on stworzony przez naukowców z Université Libre de Bruxelles we współpracy z firmą Wordline, obsługującą transakcje finansowe. Jest to największa europejska firma tego typu, i jedna z największych na świecie. Na potrzeby tego datasetu udostępniła transakcje z Europy z września 2013 roku.\n",
        "\n",
        "Jest to ponad 284 tysiące transakcji, z czego zaledwie 492 to transakcje będące wynikiem przestępstwa (fraud transaction). Klasa pozytywna to zatem około 0.172% danych, co wymaga specjalnych algorytmów i metryk. Cechy w zbiorze zostały zanonimizowane za pomocą transformacji PCA, dzięki czemu można było publicznie udostępnić taki zbiór. Jedynie publicznie znane cechy to \"Time\" i \"Amount\". Wszystkie cechy są numeryczne i nie ma wartości brakujących, a dane są najwyższej możliwej jakości (generowane automatycznie, a fraud jest bardzo dokładnie sprawdzany jako przestępstwa), więc jest doskonały do uczenia maszynowego.\n",
        "\n",
        "Warto pamiętać, że chociaż fraud to tak mało danych, to każdy jeden przypadek to bardzo ciężkie przestępstwo, często mogące zrujnować komuś życie, więc wykrycie możliwie jak największej liczby z nich obowiązkiem prawnym firm finansowych. Z tego względu algorytmy stanowią tutaj część systemu, flagujące transakcje jako podejrzane według prawdopodobieństwa. Później następuje weryfikacja ręczna w takich wypadkach.\n",
        "\n",
        "Ze względu na powyższe cechy zbioru, autorzy proponują metrykę **Area Under Precision-Recall Curve (AUPRC)**. Trzeba pamiętać, żeby uważać przy łączeniu jej z under- i oversamplingiem, bo zmieniają one proporcję klasy pozytywnej."
      ]
    },
    {
      "cell_type": "markdown",
      "metadata": {
        "id": "jAt9FhtnpMd6"
      },
      "source": [
        "Ze względu na bardzo duży rozmiar zbioru został on zmniejszony przez losowy downsampling klasy negatywnej, żeby wszystko liczyło się w rozsąðnym czasie. Co prawda w ten sposób trochę naruszono balans klas i zwiększymy stosunek outlierów, ale ze względów czysto praktycznych jesteśmy do tego zmuszeni.\n",
        "\n",
        "W praktyce też tak się czasem robi - na nic nam potężna ilość danych, jeżeli nie jesteśmy w stanie nic na tym policzyć. Ostatecznie fraud transaction stanowią dalej niecały 1% naszych danych, więc zbiór dalej jest ekstremalnie niezbalansowany i przybliżenie prawdziwych danych jest dobre.\n",
        "\n",
        "Ma to też tę zaletę, że zwalcza zjawisko nazywane **swamping**. Występuje ono w anomaly detection, gdy mamy totalnie za dużo klasy dominującej i nachodzi ona na chmurę punktów z klasy mniejszościowej (anomalii), \"zalewając\" ją. Powoduje to często FP, kiedy te przykłady z klasy dominującej zostają uznane za pozytywne.\n",
        "\n",
        "Standaryzujemy też dane, bo skorzystamy z metod opartych o najbliższych sąsiadów."
      ]
    },
    {
      "cell_type": "code",
      "execution_count": null,
      "metadata": {
        "id": "v2PlNvW5pMd6"
      },
      "outputs": [],
      "source": [
        "df = pd.read_parquet(\"sample_data/credit_card_fraud_data.parquet\")\n",
        "y = df.pop(\"Class\")\n",
        "\n",
        "X_train, X_test, y_train, y_test = train_test_split(\n",
        "    df, y, test_size=0.25, random_state=0, stratify=y\n",
        ")\n",
        "\n",
        "scaler = StandardScaler()\n",
        "scaler.fit(X_train)\n",
        "\n",
        "X_train = scaler.transform(X_train)\n",
        "X_test = scaler.transform(X_test)"
      ]
    },
    {
      "cell_type": "code",
      "execution_count": null,
      "metadata": {
        "colab": {
          "base_uri": "https://localhost:8080/"
        },
        "id": "mgz_AiaIpMd6",
        "outputId": "a21dee0b-1148-4bd5-f197-e8fb78063ac7"
      },
      "outputs": [
        {
          "output_type": "stream",
          "name": "stdout",
          "text": [
            "Fraud class percentage: 0.97%\n"
          ]
        }
      ],
      "source": [
        "y_pos_count = (y == 1).sum()\n",
        "y_pos_perc = y_pos_count / len(y)\n",
        "\n",
        "print(f\"Fraud class percentage: {100 * y_pos_perc:.2f}%\")"
      ]
    },
    {
      "cell_type": "markdown",
      "metadata": {
        "id": "oNfr9wafpMd6"
      },
      "source": [
        "Użyjemy po kolei dwóch algorytmów nienadzorowanego outlier detection:\n",
        "- kNN\n",
        "- Isolation Forest\n",
        "\n",
        "Jako wartość parametru `contamination`, czyli oczekiwanej proporcji outlierów, warto zacząć po prostu od ułamka anomalii w zbiorze treningowym, jeżeli jest ona znana."
      ]
    },
    {
      "cell_type": "code",
      "execution_count": null,
      "metadata": {
        "id": "2VCSBOCOpMd7"
      },
      "outputs": [],
      "source": [
        "from sklearn.metrics import average_precision_score\n",
        "\n",
        "\n",
        "def assess_anomaly_detection_model(estimator, X_test, y_test) -> None:\n",
        "    y_pred_score = estimator.predict_proba(X_test)\n",
        "\n",
        "    # in PyOD, .predict_proba() sometimes returns probability distribution,\n",
        "    # and sometimes it returns only probability of being anomaly\n",
        "    if len(y_pred_score.shape) > 1:\n",
        "        y_pred_score = y_pred_score[:, 1]\n",
        "\n",
        "    auprc = average_precision_score(y_test, y_pred_score)\n",
        "    print(f\"AUPRC: {100 * auprc:.2f}%\")"
      ]
    },
    {
      "cell_type": "code",
      "source": [
        "!pip -q install pyod\n"
      ],
      "metadata": {
        "colab": {
          "base_uri": "https://localhost:8080/"
        },
        "id": "QoIoN5TD9IQb",
        "outputId": "e8e702b0-efcd-4d43-9d86-12c42a9fcd44"
      },
      "execution_count": null,
      "outputs": [
        {
          "output_type": "stream",
          "name": "stdout",
          "text": [
            "\u001b[2K     \u001b[90m━━━━━━━━━━━━━━━━━━━━━━━━━━━━━━━━━━━━━━━━\u001b[0m \u001b[32m46.3/46.3 kB\u001b[0m \u001b[31m1.9 MB/s\u001b[0m eta \u001b[36m0:00:00\u001b[0m\n",
            "\u001b[2K   \u001b[90m━━━━━━━━━━━━━━━━━━━━━━━━━━━━━━━━━━━━━━━━\u001b[0m \u001b[32m200.6/200.6 kB\u001b[0m \u001b[31m5.0 MB/s\u001b[0m eta \u001b[36m0:00:00\u001b[0m\n",
            "\u001b[?25h"
          ]
        }
      ]
    },
    {
      "cell_type": "code",
      "execution_count": null,
      "metadata": {
        "colab": {
          "base_uri": "https://localhost:8080/"
        },
        "id": "s6kpnwNwpMd7",
        "outputId": "f9e26abb-f782-444c-f20d-037449ece692"
      },
      "outputs": [
        {
          "output_type": "stream",
          "name": "stdout",
          "text": [
            "kNN metrics\n",
            "AUPRC: 19.98%\n",
            "\n",
            "Isolation Forest metrics\n",
            "AUPRC: 56.49%\n",
            "\n"
          ]
        }
      ],
      "source": [
        "from pyod.models.iforest import IForest\n",
        "from pyod.models.knn import KNN\n",
        "\n",
        "\n",
        "contamination = (y == 1).sum() / len(y)\n",
        "\n",
        "knn = KNN(contamination=contamination, n_jobs=-1)\n",
        "knn.fit(X_train)\n",
        "print(\"kNN metrics\")\n",
        "assess_anomaly_detection_model(knn, X_test, y_test)\n",
        "print()\n",
        "\n",
        "iforest = IForest(\n",
        "    contamination=contamination, behaviour=\"new\", random_state=0, n_jobs=-1\n",
        ")\n",
        "iforest.fit(X_train)\n",
        "print(\"Isolation Forest metrics\")\n",
        "assess_anomaly_detection_model(iforest, X_test, y_test)\n",
        "print()"
      ]
    },
    {
      "cell_type": "markdown",
      "metadata": {
        "id": "xzWetGeUpMd7"
      },
      "source": [
        "kNN wykazuje na pewno potencjał (pamiętajmy, że AUPRC ma typowo bardzo niskie wartości!), ale nasz zbiór jest dość duży, więc czuć wolniejsze tempo tej metody, a niestety PyOD nie współgra dobrze z PyNNDescent, żeby go przyspieszyć z użyciem ANN. Dlatego skupimy się teraz na Isolation Forest.\n",
        "\n",
        "Jego najważniejsze hiperparametry to:\n",
        "- `n_estimators` - liczba drzew, typowo ok. 500 jest już osiągana asymptota wyniku\n",
        "- `max_samples` - wielkość próbki per drzewo, domyślnie 256, ale nieco większa może pomóc, jeżeli mamy naprawdę masywny zbiór\n",
        "\n",
        "Typowo `contamination` niewiele zmienia w przypadku tego algorytmu, kiedy używamy metryki opartej o prawdopodobieństwa, takiej jak AUPRC."
      ]
    },
    {
      "cell_type": "markdown",
      "metadata": {
        "id": "0tersfH9pMd7"
      },
      "source": [
        "**Zadanie 6 (1.5 punktu)**\n",
        "\n",
        "1. Dokonaj tuningu hiperarametrów po kolei (step-wise) za pomocą walidacji skrośnej:\n",
        "   - najpierw `n_estimators`, wartości `[100, 200, 300, 400, 500]`\n",
        "   - później `max_samples`,  wartości `[100, 200, 256, 300, 400, 500]`\n",
        "   - wykorzystaj wartość `contamination` obliczoną wcześniej\n",
        "   - użyj `random_state=0` i `n_jobs=-1` dla obiektu `IForest`\n",
        "   - użyj 5-krotnej walidacji skrośnej, optymalizując `\"average_precision\"` (AUPRC)\n",
        "2. Wypisz znalezione optymalne wartości parametrów.\n",
        "3. Wytrenuj Isolation Forest z wartościami obu parametrów. Sprawdź wynik na zbiorze testowym.\n",
        "4. Skomentuj, czy udało się poprawić wynik. Czy twoim zdaniem było warto dokonać tuningu obu hiperparamametrów, czy wystarczyłby jeden z nich?\n",
        "\n",
        "**Uwaga:** przez drobnego buga w połączeniu `pyod` i najnowszych wersji Scikit-learn trzeba użyć explicite funkcji obliczającej AUPRC, przygotowano ją poniżej."
      ]
    },
    {
      "cell_type": "code",
      "execution_count": null,
      "metadata": {
        "id": "QfZRkdurpMd7"
      },
      "outputs": [],
      "source": [
        "from sklearn.metrics import make_scorer\n",
        "\n",
        "\n",
        "def auprc(estimator, X, y):\n",
        "    return average_precision_score(y, estimator.predict_proba(X))\n",
        "\n",
        "\n",
        "auprc_scorer = make_scorer(average_precision_score)"
      ]
    },
    {
      "cell_type": "code",
      "execution_count": null,
      "metadata": {
        "scrolled": true,
        "colab": {
          "base_uri": "https://localhost:8080/"
        },
        "id": "QByEwNMgpMd7",
        "outputId": "01855c39-a0ad-47e2-bdce-25d4140267af"
      },
      "outputs": [
        {
          "output_type": "stream",
          "name": "stdout",
          "text": [
            "best n_estimators: 500 AUPRC: 48.43 %\n",
            "best max_samples: 400 AUPRC: 50.14 %\n",
            "Train AUPRC: 48.03 %\n",
            "Test  AUPRC: 57.88 %\n"
          ]
        }
      ],
      "source": [
        "from pyod.models.iforest import IForest\n",
        "from sklearn.model_selection import StratifiedKFold\n",
        "from sklearn.metrics import average_precision_score\n",
        "import numpy as np\n",
        "\n",
        "contamination = (y_train == 1).mean()\n",
        "cv = StratifiedKFold(n_splits=5, shuffle=True, random_state=0)\n",
        "\n",
        "best_n, best_score = None, -np.inf\n",
        "for n in [100, 200, 300, 400, 500]:\n",
        "    scores = []\n",
        "    for tr_idx, val_idx in cv.split(X_train, y_train):\n",
        "        X_tr, X_val = X_train[tr_idx], X_train[val_idx]\n",
        "        y_val = y_train.iloc[val_idx]\n",
        "        mdl = IForest(n_estimators=n, max_samples=256,\n",
        "                      contamination=contamination,\n",
        "                      random_state=0, n_jobs=-1)\n",
        "        mdl.fit(X_tr)\n",
        "        scores.append(average_precision_score(y_val, mdl.predict_proba(X_val)[:, 1]))\n",
        "    mean_score = np.mean(scores)\n",
        "    if mean_score > best_score:\n",
        "        best_n, best_score = n, mean_score\n",
        "print(\"best n_estimators:\", best_n, \"AUPRC:\", round(best_score*100, 2), \"%\")\n",
        "\n",
        "best_ms, best_score2 = None, -np.inf\n",
        "for ms in [100, 200, 256, 300, 400, 500]:\n",
        "    scores = []\n",
        "    for tr_idx, val_idx in cv.split(X_train, y_train):\n",
        "        X_tr, X_val = X_train[tr_idx], X_train[val_idx]\n",
        "        y_val = y_train.iloc[val_idx]\n",
        "        mdl = IForest(n_estimators=best_n, max_samples=ms,\n",
        "                      contamination=contamination,\n",
        "                      random_state=0, n_jobs=-1)\n",
        "        mdl.fit(X_tr)\n",
        "        scores.append(average_precision_score(y_val, mdl.predict_proba(X_val)[:, 1]))\n",
        "    mean_score = np.mean(scores)\n",
        "    if mean_score > best_score2:\n",
        "        best_ms, best_score2 = ms, mean_score\n",
        "print(\"best max_samples:\", best_ms, \"AUPRC:\", round(best_score2*100, 2), \"%\")\n",
        "\n",
        "final_if = IForest(n_estimators=best_n, max_samples=best_ms,\n",
        "                   contamination=contamination,\n",
        "                   random_state=0, n_jobs=-1)\n",
        "final_if.fit(X_train)\n",
        "\n",
        "train_auprc = average_precision_score(y_train, final_if.predict_proba(X_train)[:, 1])\n",
        "test_auprc  = average_precision_score(y_test,  final_if.predict_proba(X_test)[:, 1])\n",
        "print(\"Train AUPRC:\", round(train_auprc*100, 2), \"%\")\n",
        "print(\"Test  AUPRC:\", round(test_auprc*100, 2), \"%\")\n",
        "\n"
      ]
    },
    {
      "cell_type": "markdown",
      "metadata": {
        "id": "iwRnG9I8pMd7"
      },
      "source": [
        "// skomentuj tutaj\n",
        "Wyniki się poprawiły o ~1.5% ale przy ograniczonym budżecie wystarczyłoby chyba tylko zwiększyć liczbę drzew"
      ]
    },
    {
      "cell_type": "markdown",
      "metadata": {
        "id": "D313FNEipMd7"
      },
      "source": [
        "Zaprezentowane podejścia należały do **uczenia nienadzorowanego (unsupervised learning)**, gdyż te algorytmy nie potrzebowały klas dla przykładów ze zbioru treningowego. W szczególności Isolation Forest potrafi działać bardzo dobrze nawet wtedy, kiedy zbiór uczący nie zawiera żadnych anomalii. Wykorzystanie takich algorytmów jest zatem proste i tanie, a w szczególności można dla nich łatwo stworzyć potężne zbiory danych.\n",
        "\n",
        "Jeżeli mamy luksus posiadania pełnej informacji o klasach, możemy użyć algorytmów uczenia nadzorowanego (supervised learning). W szczególności można także połączyć te podejścia, co realizuje **uczenie pół-nadzorowane (semi-supervised learning)**, którego przedstawicielem jest XGBoost Outlier Detection (XGBOD). Polega on na obliczeniu anomaly scores dla próbek za pomocą algorytmów nienadzorowanych (np. kNN czy Isolation Forest) i doklejeniu ich jako dodatkowych cech do naszego zbioru treningowego. Można stosować jeden algorytm wielokrotnie, np. kNN dla wielu wartości k, bo wtedy XGBoost ma wiele nowych cech (dla różnych gęstości outlierów) i może je elastycznie łączyć.\n",
        "\n",
        "Tak naprawdę podejście to jest bardzo ogólne, i można by zastosować dowolne połączenia ekstrekcji dodatkowych cech anomalii i klasyfikatorów. XGBOD to po prostu pierwszy zaproponowany przykład takiego algorytmu i działa naprawdę dobrze.\n",
        "\n",
        "PyOD implementuje to w klasie `XGBOD`, która przyjmuje argument `estimator_list`. Jest to lista obiektów klas do nienadzorowanego outlier detection, np. `KNN` czy `IForest` (samych klas, przed treningiem przez `.fit()`). Sam trening i predykcja działa tak jak w przypadku poprzednich algorytmów."
      ]
    },
    {
      "cell_type": "markdown",
      "metadata": {
        "id": "S6zN7aLHpMd7"
      },
      "source": [
        "**Zadanie 7 (1.5 punktu)**\n",
        "\n",
        "1. Stwórz listę `estimator_list`, składającą się z:\n",
        "   - algorytmów `KNN` z `n_neighbors`: `[1, 3, 5, 10, 20, 30]`\n",
        "   - algorytmów `IForest` z `n_estimators`: `[50, 100, 200, 300]`\n",
        "   - pamiętaj o przekazaniu `n_jobs=-1` oraz `random_state=0` (w razie potrzeby) podczas tworzenia obiektów tych klas\n",
        "2. Wytrenuj algorytm `XGBOD`, pamiętaj o przekazaniu stworzonego `estimator_list` raz o ustawieniu `n_jobs=-1` i `random_state=0`.\n",
        "3. Dokonaj ewaluacji wyników na zbiorze testowym.\n",
        "4. Skomentuj:\n",
        "   - jak mają się do siebie wyniki podejścia nienadzorowanego i w pełni nadzorowanego?\n",
        "   - co uważasz o podejściu pół-nadzorowanym, w którym skorzystaliśmy z dodatkowych cech?\n",
        "   - czy twoim zdaniem finalna wartość metryki jest zadowalająca?\n",
        "   - czy trening subiektywnie trwał zauważalnie dłużej od tego dla algorytmów nienadzorowanych?\n",
        "   - czy twoim zdaniem warto ponieść wysiłek i koszty, pozwalające na użycie takiego algorytmu pół-nadzorowanego?\n",
        "\n",
        "**Uwaga:** może się to liczyć dość długo, rzędu kilku minut. Jeżeli będzie definitywnie zbyt długie, zmniejsz liczbę algorytmów KNN."
      ]
    },
    {
      "cell_type": "code",
      "execution_count": null,
      "metadata": {
        "colab": {
          "base_uri": "https://localhost:8080/"
        },
        "id": "JCDjcEDfpMd7",
        "outputId": "5127ef5a-37ef-4ff5-f1b6-7492f03323ce"
      },
      "outputs": [
        {
          "output_type": "stream",
          "name": "stdout",
          "text": [
            "XGBOD AUPRC: 91.99 %\n"
          ]
        }
      ],
      "source": [
        "import warnings\n",
        "from pyod.models.knn import KNN\n",
        "from pyod.models.iforest import IForest\n",
        "from pyod.models.xgbod import XGBOD\n",
        "from sklearn.metrics import average_precision_score\n",
        "\n",
        "warnings.filterwarnings(\"ignore\", category=UserWarning)\n",
        "\n",
        "contamination = (y_train == 1).mean()\n",
        "\n",
        "estimator_list = (\n",
        "    [KNN(n_neighbors=k, n_jobs=-1) for k in [1, 3, 5, 10, 20, 30]] +\n",
        "    [IForest(n_estimators=n,contamination=contamination,random_state=0,n_jobs=-1) for n in [50, 100, 200, 300]])\n",
        "\n",
        "xgbod = XGBOD(estimator_list=estimator_list,contamination=contamination,random_state=0,n_jobs=-1,xgb_params={'verbosity': 0})\n",
        "\n",
        "xgbod.fit(X_train, y_train)\n",
        "y_score = xgbod.decision_function(X_test)\n",
        "print(\"XGBOD AUPRC:\", round(average_precision_score(y_test, y_score) * 100, 2), \"%\")\n"
      ]
    },
    {
      "cell_type": "markdown",
      "metadata": {
        "id": "MzTKhs9ipMd7"
      },
      "source": [
        "// skomentuj tutaj\n",
        "\n",
        "XGBOD znacząco lepszy. Cechy dają XGBOD lepszy sygnal i poprawiają wyniki. Trening dłuższy ale jest okej. Warto użyć.\n",
        "\n"
      ]
    },
    {
      "cell_type": "markdown",
      "metadata": {
        "id": "BdrQ51w9pMd8"
      },
      "source": [
        "## Zadanie dodatkowe (3 punkty)\n",
        "\n",
        "W przypadku niektórych zbiorów danych anomalie mogą być zjawiskiem dość pozytywnym, tylko po prostu ekstremalnie rzadkim. Jest tak typowo w farmacji, gdzie molekuły będące potencjalnymi lekami są bardzo niewielkim ułamkiem zbiorów nawet wśród wstępnie typowanych, obiecujących substancji. Pierwszy etap projektowania nowych leków, tzw. high-throughput screening (HTS), polega na identyfikacji tego bardzo niewielkiego podzbioru spośród wielkich baz molekuł, w celu dalszego badania.\n",
        "\n",
        "Zbiór AID746, [dostępny na platformie Kaggle](https://www.kaggle.com/datasets/uciml/bioassay-datasets), dotyczy identyfikacji kinaz białkowych aktywowanych mitogenami ([Wikipedia](https://pl.wikipedia.org/wiki/Kinazy_aktywowane_mitogenami)). Są to enzymy regulujące odpowiedzi na sygnały docierające do komórki, regulujące wiele ciekawych funkcji. Mają potencjalne zastosowania m.in. w rozwoju metod chemoterapii, badaniu insulinoodporności czy rozwoju leków przeciwzapalnych ([Wikipedia](https://en.wikipedia.org/wiki/Mitogen-activated_protein_kinase#As_therapeutic_targets)).\n",
        "\n",
        "W tym zbiorze danych klasa substancji aktywnych stanowi 0.61% zbioru, spośród ok. 57 tysięcy substancji w zbiorze. Jest on już podzielony na część treningową i testową.\n",
        "\n",
        "Dokonaj klasyfikacji oraz tuningu hiperparametrów dla tego zbioru z pomocą:\n",
        "- kNN\n",
        "- Isolation Forest\n",
        "- XGBOD - tu warto zwrócić uwagę też na parametr `scale_pos_weight`, którego dla uproszczenia nie używaliśmy w ostatnim zadaniu\n",
        "\n",
        "Możesz spróbować także użyć undersamplingu, oversamplingu oraz ich połączenia.\n",
        "\n",
        "Jako metryki użyj AUPRC. Podaj także czułość (recall) finalnego algorytmu - w końcu na etapie początkowego filtrowania substancji chcemy na pewno mieć jak najmniej false negatives.\n",
        "\n",
        "Na podstawie wyników oceń, z jakim typem anomalii mamy tu do czynienia. Czy udało się uzyskać zadowalające w twojej ocenie wyniki?"
      ]
    },
    {
      "cell_type": "code",
      "execution_count": null,
      "metadata": {
        "id": "DwN_ceYcpMd8"
      },
      "outputs": [],
      "source": []
    }
  ],
  "metadata": {
    "kernelspec": {
      "display_name": "Python 3 (ipykernel)",
      "language": "python",
      "name": "python3"
    },
    "language_info": {
      "codemirror_mode": {
        "name": "ipython",
        "version": 3
      },
      "file_extension": ".py",
      "mimetype": "text/x-python",
      "name": "python",
      "nbconvert_exporter": "python",
      "pygments_lexer": "ipython3",
      "version": "3.11.12"
    },
    "colab": {
      "provenance": []
    }
  },
  "nbformat": 4,
  "nbformat_minor": 0
}